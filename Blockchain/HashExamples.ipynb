{
  "nbformat": 4,
  "nbformat_minor": 0,
  "metadata": {
    "colab": {
      "name": "HashExamples.ipynb",
      "private_outputs": true,
      "provenance": [],
      "authorship_tag": "ABX9TyOHOWSOdbnPRsVuZPD6q555",
      "include_colab_link": true
    },
    "kernelspec": {
      "name": "python3",
      "display_name": "Python 3"
    },
    "language_info": {
      "name": "python"
    }
  },
  "cells": [
    {
      "cell_type": "markdown",
      "metadata": {
        "id": "view-in-github",
        "colab_type": "text"
      },
      "source": [
        "<a href=\"https://colab.research.google.com/github/tproffen/ORCSGirlsPython/blob/master/Blockchain/HashExamples.ipynb\" target=\"_parent\"><img src=\"https://colab.research.google.com/assets/colab-badge.svg\" alt=\"Open In Colab\"/></a>"
      ]
    },
    {
      "cell_type": "markdown",
      "source": [
        "Fun with hashing :)"
      ],
      "metadata": {
        "id": "t8D88euS_HmB"
      }
    },
    {
      "cell_type": "code",
      "execution_count": null,
      "metadata": {
        "id": "nb1QkPn3_E9-"
      },
      "outputs": [],
      "source": [
        "from hashlib import sha256\n",
        "\n",
        "def hash(text):\n",
        "  return f'{text} - {sha256(text.encode()).hexdigest()}'"
      ]
    },
    {
      "cell_type": "code",
      "source": [
        "print(hash(\"Thomas\"))\n",
        "print(hash(\"ThomasP\"))"
      ],
      "metadata": {
        "id": "KQSitf8sAkDk"
      },
      "execution_count": null,
      "outputs": []
    },
    {
      "cell_type": "markdown",
      "source": [
        "## Simple Blockchain\n",
        "\n",
        "From https://levelup.gitconnected.com/creating-a-blockchain-from-scratch-9a7b123e1f3e"
      ],
      "metadata": {
        "id": "ZTRJQ2UTB9jn"
      }
    },
    {
      "cell_type": "code",
      "source": [
        "from hashlib import sha256\n",
        "from datetime import datetime\n",
        "\n",
        "class Block():\n",
        "  def __init__(self, data, previous_block_hash):\n",
        "    self.timestamp = datetime.utcnow()\n",
        "    self.data = data\n",
        "    self.prev_block_hash = previous_block_hash\n",
        "    self.calculate_valid_hash()\n",
        "\n",
        "  def is_hash_valid(self, hash):\n",
        "        return (hash.startswith('0' * 3))\n",
        "\n",
        "  def calculate_valid_hash(self):\n",
        "      hash = ''\n",
        "      nonce = 0\n",
        "\n",
        "      while (not self.is_hash_valid(hash)):\n",
        "          temp = self.to_string() + str(nonce)\n",
        "          hash = sha256(temp.encode()).hexdigest()\n",
        "          nonce += 1\n",
        "\n",
        "      self.hash = hash\n",
        "\n",
        "  def to_string(self):\n",
        "    return \"{0: <20}\\t{1}\\t{2}\".format(self.data, self.timestamp, self.prev_block_hash)"
      ],
      "metadata": {
        "id": "FPLiwKSWBRPM"
      },
      "execution_count": null,
      "outputs": []
    },
    {
      "cell_type": "code",
      "source": [
        "class Blockchain():\n",
        "    def __init__(self):\n",
        "        self.blocks =[]\n",
        "        self.set_genesis_block()\n",
        "    \n",
        "    def set_genesis_block(self):\n",
        "        data = \"Genesis\\t\"\n",
        "        prev_hash = '0'*64\n",
        "        genesis_block = Block(data, prev_hash)\n",
        "        self.blocks.append(genesis_block)\n",
        "    \n",
        "    def get_last_hash(self):\n",
        "        last_block = self.blocks[-1]\n",
        "        last_hash = last_block.hash\n",
        "        return (last_hash)\n",
        "\n",
        "    def add_new_block(self, data):\n",
        "        prev_hash = self.get_last_hash()\n",
        "        new_block = Block(data, prev_hash)\n",
        "        self.blocks.append(new_block)\n",
        "\n",
        "    def get_blocks(self):\n",
        "        return (self.blocks)"
      ],
      "metadata": {
        "id": "Hl1DdDN3BuUs"
      },
      "execution_count": null,
      "outputs": []
    },
    {
      "cell_type": "code",
      "source": [
        "# Let's try\n",
        "\n",
        "blockchain = Blockchain()\n",
        "\n",
        "blockchain.add_new_block(\"Katie\")\n",
        "blockchain.add_new_block(\"Kristen\")\n",
        "blockchain.add_new_block(\"Ada\")\n",
        "blockchain.add_new_block(\"Arabella\")\n",
        "blockchain.add_new_block(\"Thuviksa\")\n",
        "blockchain.add_new_block(\"Leah\")\n"
      ],
      "metadata": {
        "id": "nceEBeSjByQj"
      },
      "execution_count": null,
      "outputs": []
    },
    {
      "cell_type": "code",
      "source": [
        "for block in blockchain.get_blocks():\n",
        "  print(block.to_string())"
      ],
      "metadata": {
        "id": "X29TO47oCfFq"
      },
      "execution_count": null,
      "outputs": []
    },
    {
      "cell_type": "code",
      "source": [
        ""
      ],
      "metadata": {
        "id": "qF1KBVjTCyVE"
      },
      "execution_count": null,
      "outputs": []
    }
  ]
}