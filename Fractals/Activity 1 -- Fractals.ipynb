{
  "nbformat": 4,
  "nbformat_minor": 0,
  "metadata": {
    "colab": {
      "name": "Activity 1 -- Fractals.ipynb",
      "provenance": [],
      "collapsed_sections": [],
      "include_colab_link": true
    },
    "kernelspec": {
      "display_name": "Python 3",
      "language": "python",
      "name": "python3"
    }
  },
  "cells": [
    {
      "cell_type": "markdown",
      "metadata": {
        "id": "view-in-github",
        "colab_type": "text"
      },
      "source": [
        "<a href=\"https://colab.research.google.com/github/tproffen/ORCSGirlsPython/blob/master/Fractals/Activity%201%20--%20Fractals.ipynb\" target=\"_parent\"><img src=\"https://colab.research.google.com/assets/colab-badge.svg\" alt=\"Open In Colab\"/></a>"
      ]
    },
    {
      "cell_type": "markdown",
      "metadata": {
        "id": "OJTK0vIDpw1q"
      },
      "source": [
        "<img src=\"https://github.com/tproffen/ORCSGirlsPython/blob/master/Images/Logo.png?raw=1\" width=\"10%\" align=\"right\" hpsace=\"50\">\n",
        "\n",
        "# Beauty of Fractals\n",
        "\n",
        "## Fractal Examples\n",
        "\n",
        "Some tests and demos for the Fractal class activities."
      ]
    },
    {
      "cell_type": "code",
      "metadata": {
        "id": "kBxoXL4tqIDq"
      },
      "source": [
        "!curl -s -o setup.sh https://raw.githubusercontent.com/tproffen/ORCSGirlsPython/master/Fractals/Helpers/setup_activity1.sh\n",
        "!bash setup.sh\n",
        "from Helpers.helpers import *"
      ],
      "execution_count": null,
      "outputs": []
    },
    {
      "cell_type": "markdown",
      "metadata": {
        "id": "ewhYZZS8_Gqr"
      },
      "source": [
        "## Fractals - Kock Snowflake\r\n",
        "\r\n",
        "Here is an example of a fractal - the Koch Snowflake. While the curves we have done so far are given by equations, these fractals are described by an algorithm and use *recursion* - in other words the function calls itself. More details are [here](https://python-with-science.readthedocs.io/en/latest/koch_fractal/koch_fractal.html) and much more detail is [here](http://paulbourke.net/fractals/fracintro/)."
      ]
    },
    {
      "cell_type": "markdown",
      "metadata": {
        "id": "ok7s6Sxyeygl"
      },
      "source": [
        "### Start with a line with a 'blip'\r\n"
      ]
    },
    {
      "cell_type": "code",
      "metadata": {
        "id": "nBj_aUZx_teX"
      },
      "source": [
        "initializeTurtle()\r\n",
        "showturtle()\r\n",
        "\r\n",
        "jump(50,400)\r\n",
        "face(90)\r\n",
        "\r\n",
        "# straight line\r\n",
        "forward(800)\r\n",
        "\r\n",
        "#back to beginning\r\n",
        "jump(50,400)\r\n",
        "face(90)\r\n",
        "\r\n",
        "color('blue')\r\n",
        "\r\n",
        "# line with blip\r\n",
        "forward(800/3)\r\n",
        "left(60)\r\n",
        "forward(800/3)\r\n",
        "right(120)\r\n",
        "forward(800/3)\r\n",
        "left(60)\r\n",
        "forward(800/3)\r\n",
        "\r\n",
        "show()"
      ],
      "execution_count": null,
      "outputs": []
    },
    {
      "cell_type": "markdown",
      "metadata": {
        "id": "JQGU-TfHh-20"
      },
      "source": [
        "### Keep making line segments into lines with blips\r\n",
        "\r\n",
        "We define a function to make the line with blip we create above and rather than calling `forward`, we call the function again as many times as the parameter `order` specified. Calling a function from within itself is called **recursion**."
      ]
    },
    {
      "cell_type": "code",
      "metadata": {
        "id": "3RuqDSO7AmuL"
      },
      "source": [
        "# Blip line function\r\n",
        "\r\n",
        "def blip_line(length, order):\r\n",
        "  if(order==0):\r\n",
        "    forward(length)\r\n",
        "  else:\r\n",
        "    blip_line(length/3, order-1)\r\n",
        "    left(60)\r\n",
        "    blip_line(length/3, order-1)\r\n",
        "    right(120)\r\n",
        "    blip_line(length/3, order-1)\r\n",
        "    left(60)\r\n",
        "    blip_line(length/3, order-1)\r\n",
        "\r\n",
        "# Lets try\r\n",
        "\r\n",
        "initializeTurtle()\r\n",
        "\r\n",
        "jump(50,400)\r\n",
        "face(90)\r\n",
        "color('red')\r\n",
        "blip_line(800,1) # our original line (order=1)\r\n",
        "\r\n",
        "jump(50,400)\r\n",
        "face(90)\r\n",
        "color('blue')\r\n",
        "blip_line(800,2) # line with order 2\r\n",
        "\r\n",
        "show()\r\n",
        "\r\n",
        "# You can add higher orders here\r\n"
      ],
      "execution_count": null,
      "outputs": []
    },
    {
      "cell_type": "code",
      "metadata": {
        "id": "_2oXhZsmjO7Y"
      },
      "source": [
        ""
      ],
      "execution_count": null,
      "outputs": []
    },
    {
      "cell_type": "markdown",
      "metadata": {
        "id": "cRGyd035j9Vi"
      },
      "source": [
        "### Now making it into a snowflake\r\n",
        "\r\n",
        "This of making a triangle from lines. You move forward, turn 120 degrees, move forward three times. We do the same just with out new function `blip_line`."
      ]
    },
    {
      "cell_type": "code",
      "metadata": {
        "id": "-lIDnLI7kO64"
      },
      "source": [
        "initializeTurtle()\r\n",
        "jump(200,200)\r\n",
        "face(90)\r\n",
        "\r\n",
        "length=300\r\n",
        "order=3\r\n",
        "\r\n",
        "for i in range(3):\r\n",
        "  blip_line(length, order)\r\n",
        "  right(120)\r\n",
        "\r\n",
        "show()\r\n",
        "\r\n",
        "# Change the order and run again"
      ],
      "execution_count": null,
      "outputs": []
    },
    {
      "cell_type": "markdown",
      "metadata": {
        "id": "DxZXjPBYw1NQ"
      },
      "source": [
        "## Fractal tree\r\n",
        "\r\n",
        "From [this article](https://towardsdatascience.com/creating-fractals-with-python-d2b663786da6)."
      ]
    },
    {
      "cell_type": "code",
      "metadata": {
        "id": "7k4-CYpKxG1w"
      },
      "source": [
        "MINIMUM_BRANCH_LENGTH = 3\r\n",
        "\r\n",
        "def build_tree(branch_length, shorten_by, angle):\r\n",
        "  if branch_length > MINIMUM_BRANCH_LENGTH:\r\n",
        "    forward(branch_length)\r\n",
        "    new_length = branch_length - shorten_by\r\n",
        "    left(angle)\r\n",
        "    build_tree(new_length, shorten_by, angle)\r\n",
        "    right(angle * 2)\r\n",
        "    build_tree(new_length, shorten_by, angle)\r\n",
        "    left(angle)\r\n",
        "    backward(branch_length)\r\n",
        "\r\n",
        "initializeTurtle()\r\n",
        "jump(500,500)\r\n",
        "face(0)\r\n",
        "\r\n",
        "build_tree(80,8,25)\r\n",
        "show()\r\n"
      ],
      "execution_count": null,
      "outputs": []
    },
    {
      "cell_type": "markdown",
      "metadata": {
        "id": "M2f3i2XIlUzp"
      },
      "source": [
        "## The Dragon Curve\r\n",
        "\r\n",
        "Insipred by this [Wikipedia article](https://en.m.wikipedia.org/wiki/Dragon_curve). You can think of the way it is constructed by a sequence of 90 degree turns. First, each iteration is formed by taking the previous and adding alternating rights and lefts in between each letter.\r\n",
        "\r\n",
        "*   R\r\n",
        "*   **R**R**L**\r\n",
        "*   **R**R**L**R**R**L**L**\r\n",
        "*   **R**R**L**R**R**L**L**R**R**R**L**L**R**L**L**\r\n",
        "*   ... \r\n",
        "\r\n"
      ]
    },
    {
      "cell_type": "code",
      "metadata": {
        "id": "tyjF-sHikfTm"
      },
      "source": [
        "def dragon_curve_recursive(order, length, sign):\r\n",
        "    if order == 0:\r\n",
        "        forward(length)\r\n",
        "    else:\r\n",
        "        rootHalf = (1 / 2) ** (1 / 2)\r\n",
        "        dragon_curve_recursive(order - 1, length * rootHalf, 1)\r\n",
        "        right(sign * 90)\r\n",
        "        dragon_curve_recursive(order - 1, length * rootHalf, -1)\r\n",
        "\r\n",
        "initializeTurtle()\r\n",
        "jump(300,400)\r\n",
        "face(90)\r\n",
        "\r\n",
        "order=10                      # Try different orders here (between 0 and 12)\r\n",
        "left(order*45)\r\n",
        "dragon_curve_recursive(order, 500, 1)\r\n",
        "\r\n",
        "show()"
      ],
      "execution_count": null,
      "outputs": []
    },
    {
      "cell_type": "markdown",
      "metadata": {
        "id": "0JRYyyeQy2db"
      },
      "source": [
        "## Julia set\r\n",
        "\r\n",
        "This is a different class where we check when an iteration *diverges* and use color on a 2D bitmap determined by how many iterations were needed. This example comes from [this article](https://www.geeksforgeeks.org/julia-fractal-python/)."
      ]
    },
    {
      "cell_type": "code",
      "metadata": {
        "id": "Vk4uYbDGpxI9"
      },
      "source": [
        "import numpy as np\r\n",
        "import matplotlib.pyplot as plt\r\n",
        "%matplotlib inline\r\n",
        "\r\n",
        "w, h, zoom = 1000,500,2\r\n",
        "pix = np.zeros((h,w)) # Array filled with zeros\r\n",
        "\r\n",
        "# setting up the variables according to the equation to create the fractal \r\n",
        "cX, cY = -0.7, 0.27015\r\n",
        "moveX, moveY = 0.0, 0.0\r\n",
        "maxIter = 255\r\n",
        "   \r\n",
        "for x in range(w): \r\n",
        "  for y in range(h): \r\n",
        "     zx = 1.5*(x - w/2)/(0.5*zoom*w) + moveX \r\n",
        "     zy = 1.0*(y - h/2)/(0.5*zoom*h) + moveY \r\n",
        "     i = maxIter \r\n",
        "     while zx*zx + zy*zy < 4 and i > 1: \r\n",
        "       tmp = zx*zx - zy*zy + cX \r\n",
        "       zy,zx = 2.0*zx*zy + cY, tmp \r\n",
        "       i -= 1\r\n",
        "\r\n",
        "     pix[y,x] = i"
      ],
      "execution_count": null,
      "outputs": []
    },
    {
      "cell_type": "code",
      "metadata": {
        "id": "bg_TgZGuzPj4"
      },
      "source": [
        "# Plotting in new cell, so we do not need to recalculate when chaning color maps\r\n",
        "plt.rcParams['figure.figsize'] = [20, 10]\r\n",
        "plt.axis('off')\r\n",
        "plt.imshow(pix, cmap=\"hot\")"
      ],
      "execution_count": null,
      "outputs": []
    },
    {
      "cell_type": "code",
      "metadata": {
        "id": "guiFyqVPWnk2"
      },
      "source": [
        ""
      ],
      "execution_count": null,
      "outputs": []
    }
  ]
}