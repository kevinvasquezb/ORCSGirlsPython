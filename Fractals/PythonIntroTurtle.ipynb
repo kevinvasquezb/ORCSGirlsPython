{
  "nbformat": 4,
  "nbformat_minor": 0,
  "metadata": {
    "colab": {
      "name": "PythonIntroTurtle",
      "provenance": [],
      "include_colab_link": true
    },
    "kernelspec": {
      "display_name": "Python 3",
      "language": "python",
      "name": "python3"
    }
  },
  "cells": [
    {
      "cell_type": "markdown",
      "metadata": {
        "id": "view-in-github",
        "colab_type": "text"
      },
      "source": [
        "<a href=\"https://colab.research.google.com/github/tproffen/ORCSGirlsPython/blob/master/Fractals/PythonIntroTurtle.ipynb\" target=\"_parent\"><img src=\"https://colab.research.google.com/assets/colab-badge.svg\" alt=\"Open In Colab\"/></a>"
      ]
    },
    {
      "cell_type": "markdown",
      "metadata": {
        "id": "Rk48Ab5CzRsE"
      },
      "source": [
        "\n",
        "\n",
        "<img src=\"https://github.com/tproffen/ORCSGirlsPython/blob/master/Images/Logo.png?raw=1\" width=\"10%\" align=\"right\" hspace=\"50\">\n",
        "\n",
        "# Beauty of Fractals\n",
        "## Activity: Getting to know the turtle\n",
        "\n",
        "In this section, you are going to learn about basic *Python* commands. \n",
        "Follow along and enter your commands below. Remember to press `shift+return` to execute a command."
      ]
    },
    {
      "cell_type": "markdown",
      "metadata": {
        "id": "D0FVwrYECsoE"
      },
      "source": [
        "## Setup \n",
        "Remember, **you need to run the commands below first** to load the needed libraries. If this cell is not run, you will get an error in the later part of the notebook."
      ]
    },
    {
      "cell_type": "code",
      "metadata": {
        "id": "4g41pep-C4A5"
      },
      "source": [
        "!curl -s -o setup.sh https://raw.githubusercontent.com/tproffen/ORCSGirlsPython/master/ArtisticMath/Helpers/setup_activities.sh\n",
        "!bash setup.sh\n",
        "from Helpers.helpers import *"
      ],
      "execution_count": null,
      "outputs": []
    },
    {
      "cell_type": "markdown",
      "metadata": {
        "id": "ePnD3bmcFsX9"
      },
      "source": [
        "## Python Introduction\n",
        "\n",
        "Here is a quick overview of the Python commands we will need today. Basically, we will learn about variables, conditional statements, loops and how to make a function."
      ]
    },
    {
      "cell_type": "markdown",
      "metadata": {
        "id": "Qdn4l2EYF-cT"
      },
      "source": [
        "### Variables\n",
        "\n",
        "A variable is a place to remember a number or a piece of text. Note text needs to be enclosed in \" - for example `\"Thonas\"`. Here are some examples:"
      ]
    },
    {
      "cell_type": "code",
      "metadata": {
        "id": "-9McxLGzGYvh"
      },
      "source": [
        "name = \"Thomas\"\n",
        "number = 5\n",
        "number = number + 4"
      ],
      "execution_count": null,
      "outputs": []
    },
    {
      "cell_type": "markdown",
      "metadata": {
        "id": "gyTw5lDGGh7T"
      },
      "source": [
        "What is the value of `number`? To see the content of a variable use the command `print` like shown below."
      ]
    },
    {
      "cell_type": "code",
      "metadata": {
        "id": "oCCqXhnDGqSd"
      },
      "source": [
        "print(name)\n",
        "print(number)"
      ],
      "execution_count": null,
      "outputs": []
    },
    {
      "cell_type": "markdown",
      "metadata": {
        "id": "7hGshHRSGyHF"
      },
      "source": [
        "### Conditionals\n",
        "\n",
        "These are commands that allow to execute certain code only if a condition is true. Look at the example below."
      ]
    },
    {
      "cell_type": "code",
      "metadata": {
        "id": "7LGJqDYxHC6H"
      },
      "source": [
        "age = 17\n",
        "\n",
        "if age < 18:\n",
        "  print(\"You are too young to vote\")\n",
        "else:\n",
        "  print(\"Yeah! Go vote.\")"
      ],
      "execution_count": null,
      "outputs": []
    },
    {
      "cell_type": "markdown",
      "metadata": {
        "id": "9y5HN5sr0z3o"
      },
      "source": [
        "### Loops\n",
        "\n",
        "Here we will only cver the `for` loop needed for our class. There are other types of loops in Python such as the `while` loop.\n",
        "\n",
        "This for loop will run 9 times and the variable `t` will take values from `1` to `9`. Remember, the last value is not reached.\n",
        "\n",
        "\n",
        "```\n",
        "for t in range (1, 10):\n",
        "  **all code that will be looped must be indented**\n",
        "```\n",
        "\n"
      ]
    },
    {
      "cell_type": "code",
      "metadata": {
        "id": "o2S-P6SrzRs8"
      },
      "source": [
        "for t in range (1,5):\n",
        "  print(t)"
      ],
      "execution_count": null,
      "outputs": []
    },
    {
      "cell_type": "markdown",
      "metadata": {
        "id": "josFhEl6wfVM"
      },
      "source": [
        "☝️☝️ Change the code above, so it counts from 1 to 10. The first number is the starting number and the last number is one after the last printed number."
      ]
    },
    {
      "cell_type": "markdown",
      "metadata": {
        "id": "IU1pu15EF10Y"
      },
      "source": [
        "## Time for the turtle\n",
        "### Let's now draw a line.  \n",
        "\n",
        "Write a pendown() and then a forward(100) below the comment.\n",
        "It should look like this:\n",
        "```\n",
        "pendown()\n",
        "forward(100)\n",
        "```\n",
        "\n"
      ]
    },
    {
      "cell_type": "code",
      "metadata": {
        "id": "erZThCN1HiPG"
      },
      "source": [
        "initializeTurtle()\n",
        "bgcolor('white')\n",
        "color('red')\n",
        "width(1)\n",
        "showturtle()\n",
        "\n",
        "#add your pendown() and forward() commands below\n",
        "\n",
        "## add commands above me!\n",
        "show()"
      ],
      "execution_count": null,
      "outputs": []
    },
    {
      "cell_type": "markdown",
      "metadata": {
        "id": "tNYd0wSN_t1f"
      },
      "source": [
        "### Can you change the color of the line? \n",
        "Hint: the command can be found at [this handout](https://docs.google.com/document/d/1uFlPmNaOr5KiEaF38CRKiqg6GeoHnvI3_jGnPAow1iQ/edit?usp=sharing).\n",
        "\n",
        "Reading documentation of commands is an important skill to have to learn to code on your own. New commands are created constantly and added to Python.  Reading the documentation about those commands allows you to use them effectively."
      ]
    },
    {
      "cell_type": "markdown",
      "metadata": {
        "id": "AmH5wAc83Kqb"
      },
      "source": [
        "### Functions\n",
        "\n",
        "Functions are a convenient way to group code that can be called over and over again. In addition you can pass variables to a function. Let us look at a simple example where we want to create a function to draw a square. "
      ]
    },
    {
      "cell_type": "code",
      "metadata": {
        "id": "01town5R3wX6"
      },
      "source": [
        "# Functions are defined using the command def name(variables, ..):\n",
        "\n",
        "def square(length):\n",
        "  pendown()\n",
        "  for i in range(4):\n",
        "    forward(length)\n",
        "    left(90)\n",
        "  penup()\n",
        "\n",
        "initializeTurtle()\n",
        "bgcolor('white')\n",
        "color('red')\n",
        "width(1)\n",
        "showturtle()\n",
        "\n",
        "for l in range(10,300,25):\n",
        "  square(l)\n",
        "\n",
        "show()"
      ],
      "execution_count": null,
      "outputs": []
    },
    {
      "cell_type": "markdown",
      "metadata": {
        "id": "Pqx2yCRf5Ev8"
      },
      "source": [
        "How would you extend your new function `square` to be able to have the square start an a given location `x`, `y`? Modify the code above to create a more versatile function. If you feel adventerour, draw many squares with different sizes and/or locations using a `for` loop."
      ]
    },
    {
      "cell_type": "code",
      "metadata": {
        "id": "riw-XcEd7Aot"
      },
      "source": [
        ""
      ],
      "execution_count": null,
      "outputs": []
    }
  ]
}