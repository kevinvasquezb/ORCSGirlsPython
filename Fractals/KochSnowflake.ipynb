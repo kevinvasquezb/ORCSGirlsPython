{
  "nbformat": 4,
  "nbformat_minor": 0,
  "metadata": {
    "colab": {
      "name": "KochSnowflake.ipynb",
      "provenance": [],
      "collapsed_sections": [],
      "include_colab_link": true
    },
    "kernelspec": {
      "display_name": "Python 3",
      "language": "python",
      "name": "python3"
    }
  },
  "cells": [
    {
      "cell_type": "markdown",
      "metadata": {
        "id": "view-in-github",
        "colab_type": "text"
      },
      "source": [
        "<a href=\"https://colab.research.google.com/github/tproffen/ORCSGirlsPython/blob/master/Fractals/KochSnowflake.ipynb\" target=\"_parent\"><img src=\"https://colab.research.google.com/assets/colab-badge.svg\" alt=\"Open In Colab\"/></a>"
      ]
    },
    {
      "cell_type": "markdown",
      "metadata": {
        "id": "OJTK0vIDpw1q"
      },
      "source": [
        "<img src=\"https://github.com/tproffen/ORCSGirlsPython/blob/master/Images/Logo.png?raw=1\" width=\"10%\" align=\"right\" hpsace=\"50\">\n",
        "\n",
        "# Beauty of Fractals\n",
        "\n",
        "## Activity: Make a Koch Snowflake\n",
        "\n",
        "Let us make a Koch Snowflkae from scratch. Please make sure you run the cell with the setup commands below before running any other code in this notebook."
      ]
    },
    {
      "cell_type": "code",
      "metadata": {
        "id": "kBxoXL4tqIDq"
      },
      "source": [
        "!curl -s -o setup.sh https://raw.githubusercontent.com/tproffen/ORCSGirlsPython/master/Fractals/Helpers/setup_activity1.sh\n",
        "!bash setup.sh\n",
        "from Helpers.helpers import *"
      ],
      "execution_count": null,
      "outputs": []
    },
    {
      "cell_type": "markdown",
      "metadata": {
        "id": "ewhYZZS8_Gqr"
      },
      "source": [
        "\r\n",
        "### Some background\r\n",
        "\r\n",
        "<img src=\"https://python-with-science.readthedocs.io/en/latest/_images/koch_order_1.png\" align=\"right\" height=\"60%\">\r\n",
        "\r\n",
        "The Koch Snowflake is an example of a fractal. While the curves we have done so far are given by equations, these fractals are described by an algorithm and use *recursion* - in other words the function calls itself. More details are [here](https://python-with-science.readthedocs.io/en/latest/koch_fractal/koch_fractal.html) and much more detail is [here](http://paulbourke.net/fractals/fracintro/).\r\n",
        "\r\n",
        "### Let's do it\r\n",
        "\r\n",
        "In our first step, we want to create a 'line with a blip' as building block for the snowflake. The geometry shown on the image helps us setting up the turtle commands. We will define a function with two parameters: `size` which will be the length of the line and `order` which for now will be 0 for a straight line and 1 to get a line with a blip :)\r\n",
        "\r\n",
        "Complete the function below."
      ]
    },
    {
      "cell_type": "code",
      "metadata": {
        "id": "v-v__Fi395kK"
      },
      "source": [
        "# Define your function here, then run the cell.\r\n",
        "# Run the next cell to see if it works\r\n",
        "\r\n",
        "def koch(size, order):\r\n",
        "  pendown()\r\n",
        "  # If order is 0 draw a line of length size.\r\n",
        "  # If order is 1 draw the line with a blip as on the image above.\r\n",
        "  ## YOUR CODE HERE"
      ],
      "execution_count": null,
      "outputs": []
    },
    {
      "cell_type": "markdown",
      "metadata": {
        "id": "-xZYIduT-cTH"
      },
      "source": [
        "Next we test the function."
      ]
    },
    {
      "cell_type": "code",
      "metadata": {
        "id": "nBj_aUZx_teX"
      },
      "source": [
        "initializeTurtle()\r\n",
        "bgcolor('lightblue')\r\n",
        "color('white')\r\n",
        "showturtle()\r\n",
        "\r\n",
        "jump(500,550) # Jump works like goto with the pen up!\r\n",
        "\r\n",
        "# Change the parameters of the function. Try different sizes and orders.\r\n",
        "# Remember, the first number is size and second is order (number of blips)\r\n",
        "\r\n",
        "koch(500,3)\r\n",
        "\r\n",
        "show()"
      ],
      "execution_count": null,
      "outputs": []
    },
    {
      "cell_type": "markdown",
      "metadata": {
        "id": "sBQobjWU-nNf"
      },
      "source": [
        "### Recursion\r\n",
        "\r\n",
        "So far we can draw a line with **one** blip and values for `order` greater than 1 will still only draw one blip. \r\n",
        "\r\n",
        "Imagine you want to have each of the four lines making the blip have a blip of their own. Rather than calling `forward` in the section where the blip is drawn, we can call the function again - **but we need to call it with the `order` reduced by one**, otherwise ot blips forever!\r\n",
        "\r\n",
        "Go back to the cell in the beginning and update your function `koch`. Thet test it with different values of `order`. Try values from 0 to 5."
      ]
    },
    {
      "cell_type": "markdown",
      "metadata": {
        "id": "JQGU-TfHh-20"
      },
      "source": [
        "## You did it - programmed drawing a fractal from scratch!\r\n",
        "\r\n",
        "### Making it into a snowflake ❄❄❄❄\r\n",
        "\r\n",
        "Turning our Koch line into a snowflake is easy, we basically need to make a triangle from the lines. Look atthe trangle code below. Which part do you need to change to draw a Koch line rather than simply going forward.\r\n",
        "\r\n",
        "Change the code and try it for different values of `order` like before."
      ]
    },
    {
      "cell_type": "code",
      "metadata": {
        "id": "-lIDnLI7kO64"
      },
      "source": [
        "initializeTurtle()\r\n",
        "bgcolor('lightblue')\r\n",
        "color('white')\r\n",
        "\r\n",
        "jump(300,400)\r\n",
        "\r\n",
        "length=300\r\n",
        "\r\n",
        "for i in range(3):\r\n",
        "  forward(length)   ## <- Hint Hint Hint\r\n",
        "  right(120)\r\n",
        "\r\n",
        "show()"
      ],
      "execution_count": null,
      "outputs": []
    },
    {
      "cell_type": "markdown",
      "metadata": {
        "id": "efocl6A6CIbB"
      },
      "source": [
        "### Turning it into a function\r\n",
        "\r\n",
        "All that is left is to put the snowflake code you just made into a function. Add the function code below. What do you need to add, so the snowflake will be at the location specified as `x` and `y`?"
      ]
    },
    {
      "cell_type": "code",
      "metadata": {
        "id": "guiFyqVPWnk2"
      },
      "source": [
        "# Here is the function to draw a snowflake. Add your code and test it by running the cell\r\n",
        "\r\n",
        "def snowflake(x, y, size, order):\r\n",
        "  ## Add your code here. Remember to jump(x,y) first :)\r\n",
        "  ## YOUR CODE HERE\r\n",
        "\r\n",
        "# Testing it\r\n",
        "initializeTurtle()\r\n",
        "bgcolor('lightblue')\r\n",
        "color('white')\r\n",
        "\r\n",
        "snowflake(500,300,200,3)\r\n",
        "show()"
      ],
      "execution_count": null,
      "outputs": []
    },
    {
      "cell_type": "markdown",
      "metadata": {
        "id": "RyBx_ggpIyOL"
      },
      "source": [
        "### Let it snow\r\n",
        "\r\n",
        "If you function is defined like this `snowflake(x,y,size,order)`, the code below should work as is - enjoy ❄❄❄❄❄"
      ]
    },
    {
      "cell_type": "code",
      "metadata": {
        "id": "FHa7_hnADDdH"
      },
      "source": [
        "import random\r\n",
        "\r\n",
        "initializeTurtle()\r\n",
        "bgcolor('lightblue')\r\n",
        "color('white')\r\n",
        "\r\n",
        "# We loop to make snowflakes at random positions with random sizes. We define\r\n",
        "# the linits as variables, so it is easy to change.\r\n",
        "\r\n",
        "number_snowflakes = 30\r\n",
        "min_size = 50\r\n",
        "max_size = 100\r\n",
        "order = 1\r\n",
        "\r\n",
        "# The commands begin_fill() and end_fill() allow to fill shapes with a color.\r\n",
        "for s in range(number_snowflakes):\r\n",
        "  fillcolor(color_random())\r\n",
        "  begin_fill()\r\n",
        "  snowflake(random.randint(0,1000), random.randint(0,600),\r\n",
        "            random.randint(min_size, max_size), order)\r\n",
        "  end_fill()\r\n",
        "\r\n",
        "show()"
      ],
      "execution_count": null,
      "outputs": []
    },
    {
      "cell_type": "markdown",
      "metadata": {
        "id": "GPDDVnj9NPzb"
      },
      "source": [
        "### (Optional) Try an inverted Koch Snowflake\r\n",
        "\r\n",
        "You can create a very different looking snowflake by making the 'blip' go the other way an dpoint inwards. To try it out, simple turn minus the angle in the Koch line, e.g. change `left(angle)` to `left(-angle)`. \r\n",
        "\r\n",
        "Try it. And if you want to be fancy, you can add another parameter `sign` to the call of the snowflake and koch line functions and multiply the angle with it. By setting it to `1` or `-1` when calling the function, yu can switch between the regular and inverted Koch snowflake.\r\n",
        "\r\n",
        "Enjoy."
      ]
    },
    {
      "cell_type": "code",
      "metadata": {
        "id": "tsS48kQlJ5NY"
      },
      "source": [
        ""
      ],
      "execution_count": null,
      "outputs": []
    }
  ]
}
