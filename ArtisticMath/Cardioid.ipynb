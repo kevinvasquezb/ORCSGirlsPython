{
  "nbformat": 4,
  "nbformat_minor": 0,
  "metadata": {
    "colab": {
      "name": "Cardioid",
      "provenance": [],
      "include_colab_link": true
    },
    "kernelspec": {
      "name": "python3",
      "display_name": "Python 3"
    }
  },
  "cells": [
    {
      "cell_type": "markdown",
      "metadata": {
        "id": "view-in-github",
        "colab_type": "text"
      },
      "source": [
        "<a href=\"https://colab.research.google.com/github/tproffen/ORCSGirlsPython/blob/master/ArtisticMath/Cardioid.ipynb\" target=\"_parent\"><img src=\"https://colab.research.google.com/assets/colab-badge.svg\" alt=\"Open In Colab\"/></a>"
      ]
    },
    {
      "cell_type": "markdown",
      "metadata": {
        "id": "YIGx0QhhNVbc"
      },
      "source": [
        "<img src=\"https://github.com/tproffen/ORCSGirlsPython/blob/master/Images/Logo.png?raw=1\" width=\"10%\" align=\"right\" hspace=\"50\">\r\n",
        "\r\n",
        "#Artistic Math\r\n",
        "##Activity: Let's make a cardioid!\r\n",
        "\r\n",
        "In this activity, you are going to learn how to use your Python skills and make a **Cardioid**. Follow along and enter your commands below. Remember to press `shift+return` to execute a command.\r\n"
      ]
    },
    {
      "cell_type": "markdown",
      "metadata": {
        "id": "s-r9bcQK8uq0"
      },
      "source": [
        "We need to import the code to draw and graph our shapes! The library is called Turtle.  We are using Python today to code the cardioids and other shapes. **RUN THIS CODE FIRST! OTHERWISE YOU WILL RUN INTO MANY ERRORS!**"
      ]
    },
    {
      "cell_type": "code",
      "metadata": {
        "id": "n1kZYsBgNTEr"
      },
      "source": [
        "!curl -s -o setup.sh https://raw.githubusercontent.com/tproffen/ORCSGirlsPython/master/ArtisticMath/Helpers/setup_activities.sh\r\n",
        "!bash setup.sh\r\n",
        "from Helpers.helpers import *"
      ],
      "execution_count": null,
      "outputs": []
    },
    {
      "cell_type": "markdown",
      "metadata": {
        "id": "Er_EYfPngn5s"
      },
      "source": [
        "### Now that the libraries are installed, let's look at the equations to create a cardioid.  "
      ]
    },
    {
      "cell_type": "markdown",
      "metadata": {
        "id": "3jcTqEZHg6XL"
      },
      "source": [
        "Cardioids use a special type of equation called a **parametric equation**. Does the word **parametric** sound familiar? It comes from the word **parameter**. Parameter means an input.  Parametric equations calculate the position of the point using a parameter, t, to find the x and y positions."
      ]
    },
    {
      "cell_type": "markdown",
      "metadata": {
        "id": "i7ezSynNifYb"
      },
      "source": [
        "The equation for a cardioid is:\r\n",
        "> x=a*(2*cos(t)-cos(2*t))\r\n",
        "\r\n",
        "> y=a*(2*sin(t)-sin(2*t))\r\n",
        "\r\n",
        "Sin and cos are specialized math functions.  They are **trigonometric** functions. Do not worry that you do not understand these functions. This is high school math.  All you need to understand is that it returns a number that can be added, subtracted, multiplied, and divided.  If you can do all of those things, then you are fine.  When graphed as y=sin(x), the sin function looks like this:\r\n",
        "\r\n",
        "\r\n",
        "> ![sin wave.gif](data:image/gif;base64,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)\r\n",
        "\r\n",
        "\r\n",
        "You can see that the wave is measured in terms of pi (π).  Pi is a ratio that describes circles and curves.\r\n",
        "\r\n",
        "\r\n",
        "\r\n"
      ]
    },
    {
      "cell_type": "markdown",
      "metadata": {
        "id": "YrRCkWGjPtpG"
      },
      "source": [
        "###Let's program a cardioid.\r\n",
        "First you will use the setpos(X_POSITION, Y_POSITION) and you will need to use variables to calculate the x and y values.  **Below create an x and y variable starting at 0.**"
      ]
    },
    {
      "cell_type": "markdown",
      "metadata": {
        "id": "PFiONvwVS80G"
      },
      "source": [
        "Below I explain what each part of the parametric equation does:\r\n",
        "\r\n",
        "\r\n",
        "\r\n",
        "```\r\n",
        "x = a * (2*math.cos(t)-math.cos(2*t))\r\n",
        "y = a * (2*math.sin(t)-math.sin(2*t))\r\n",
        "```\r\n",
        "\r\n",
        "\r\n",
        "\r\n",
        "*   a = Determines the size of the cardioid. Bigger the number, the larger the cardioid.\r\n",
        "*   t = The parameter. Inputed to both x and y to determine the position for the input.\r\n",
        "*   sin(INPUT)= use math.sin(INPUT)\r\n",
        "*   cos(INPUT)= use math.cos(INPUT)\r\n",
        "\r\n",
        "Using this knowledge,  calculate the x and y variable using this t variable. **Replace a with 10 for sizing.**\r\n",
        "\r\n",
        "\r\n",
        "\r\n",
        "\r\n",
        "\r\n"
      ]
    },
    {
      "cell_type": "markdown",
      "metadata": {
        "id": "u6sS7wMqUyAk"
      },
      "source": [
        "Now that we have calculated one point, let's calculate them all.  Use a **for loop** with t in **arange(0,6.4,0.1)**.  Copy your variable calculations inside the loop."
      ]
    },
    {
      "cell_type": "markdown",
      "metadata": {
        "id": "h6QX3MpRV7p_"
      },
      "source": [
        "Now add a goto(X_POSITION, Y_POSITION) with the x and y variables respectively."
      ]
    },
    {
      "cell_type": "markdown",
      "metadata": {
        "id": "YlNe8NVvWJ-P"
      },
      "source": [
        "Try changing the color or making it larger or smaller."
      ]
    },
    {
      "cell_type": "code",
      "metadata": {
        "id": "t4n_1WXXRM-l"
      },
      "source": [
        "initializeTurtle()\r\n",
        "bgcolor('white')\r\n",
        "color('red')\r\n",
        "width(1)\r\n",
        "hideturtle()\r\n",
        "\r\n",
        "#add your commands below\r\n",
        "\r\n",
        "\r\n",
        "\r\n",
        "\r\n",
        "## add commands above me!\r\n",
        "show()"
      ],
      "execution_count": null,
      "outputs": []
    },
    {
      "cell_type": "markdown",
      "metadata": {
        "id": "qMh8kMRnW_rY"
      },
      "source": [
        "### Functions, they make our lives much easier. Let's make one."
      ]
    },
    {
      "cell_type": "markdown",
      "metadata": {
        "id": "pSq6TxpNXH0U"
      },
      "source": [
        "A function is a group of related statements that can be reused with different inputs using parameters for the function. Since functions are called with a single line, it is much easier to reuse code.\r\n",
        "\r\n",
        "To define a function, replace the fillers (functionName, input1, input2, etc.). Make sure that there is a colon after the closing parenthesis and the code to be inside of the function is indented.\r\n",
        "\r\n",
        "```\r\n",
        "def functionName(input1, input2, etc...):\r\n",
        "  indented code to be part of function\r\n",
        "```\r\n",
        "\r\n",
        "To call function, use the function name with the inputs filled with values.\r\n",
        "\r\n",
        "\r\n",
        "```\r\n",
        "functionName(10, \"Alex\", true)\r\n",
        "```\r\n",
        "\r\n",
        "\r\n",
        "**Using the looped equation above, create the function around it.  You should make the parameters: csize, xstart, and ystart and replace them in the code.**\r\n",
        "\r\n",
        "If you get lost, look at the class page for a reference image of the finished function."
      ]
    },
    {
      "cell_type": "code",
      "metadata": {
        "id": "SNeMfiBaU376"
      },
      "source": [
        ""
      ],
      "execution_count": null,
      "outputs": []
    },
    {
      "cell_type": "markdown",
      "metadata": {
        "id": "Z_J5WIhpr9OD"
      },
      "source": [
        "### Make sure you save the Notebook by using `save` in the `File` menu, because you will need your wonderful cardioid function later on. "
      ]
    }
  ]
}
