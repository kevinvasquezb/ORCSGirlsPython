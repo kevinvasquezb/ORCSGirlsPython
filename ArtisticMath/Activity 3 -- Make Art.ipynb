{
  "nbformat": 4,
  "nbformat_minor": 0,
  "metadata": {
    "colab": {
      "name": "Activity 3 -- Make Art",
      "provenance": [],
      "include_colab_link": true
    },
    "kernelspec": {
      "name": "python3",
      "display_name": "Python 3"
    }
  },
  "cells": [
    {
      "cell_type": "markdown",
      "metadata": {
        "id": "view-in-github",
        "colab_type": "text"
      },
      "source": [
        "<a href=\"https://colab.research.google.com/github/tproffen/ORCSGirlsPython/blob/master/ArtisticMath/Activity%203%20--%20Make%20Art.ipynb\" target=\"_parent\"><img src=\"https://colab.research.google.com/assets/colab-badge.svg\" alt=\"Open In Colab\"/></a>"
      ]
    },
    {
      "cell_type": "markdown",
      "metadata": {
        "id": "MzwIrb8coQbv"
      },
      "source": [
        "<img src=\"https://github.com/tproffen/ORCSGirlsPython/blob/master/Images/Logo.png?raw=1\" width=\"15%\" align=\"right\" hspace=\"50\">\r\n",
        "\r\n",
        "# Activity 3: Create your pattern!\r\n",
        "\r\n",
        "Using <a href=\"https://docs.google.com/document/d/1PURtG3m9I2rZ6tFatWp8aG_AjS339pgfxeONdaVdGPc/edit\">this document</a>, also linked fromthe <a href=\"https://www.orcsgirls.org/class\">class page</a>, find more equations of shapes and create more functions to draw the shapes. \r\n",
        "\r\n",
        "Here is a quick summary\r\n",
        "* `grid(delta)`\r\n",
        "* `roseCurve(x_start, y_start, sizefactor, petalsCount)`\r\n",
        "* `parabola(x_start, y_start, sizefactor)`\r\n",
        "* `spiral(x_start, y_start, sizefactor, spiralLength)`\r\n",
        "* `circle(x_start, y_start, sizefactor)`\r\n",
        "* `polygon(x_start, y_start, sizefactor, numSides)`\r\n",
        "* `bowtie(x_start, y_start, sizefactor)`\r\n",
        "\r\n",
        "Once you have finished, **save your creation as PNG file and upload it as instructed**. Do not forget to save your Notebook if you want to work on it after class :)"
      ]
    },
    {
      "cell_type": "code",
      "metadata": {
        "id": "v4VZnSuNBVvi"
      },
      "source": [
        "!curl -s -o setup.sh https://raw.githubusercontent.com/tproffen/ORCSGirlsPython/master/ArtisticMath/Helpers/setup_activities.sh\r\n",
        "!bash setup.sh\r\n",
        "from Helpers.helpers import *"
      ],
      "execution_count": null,
      "outputs": []
    },
    {
      "cell_type": "code",
      "metadata": {
        "id": "FK1l55N9oLQZ"
      },
      "source": [
        "initializeTurtle(initial_window_size=(1000,600))\r\n",
        "bgcolor('purple')\r\n",
        "color('white')\r\n",
        "width(1)\r\n",
        "hideturtle()\r\n",
        "\r\n",
        "\r\n",
        "#add your commands below\r\n",
        "\r\n",
        "\r\n",
        "\r\n",
        "## add commands above me!\r\n",
        "show()"
      ],
      "execution_count": null,
      "outputs": []
    }
  ]
}