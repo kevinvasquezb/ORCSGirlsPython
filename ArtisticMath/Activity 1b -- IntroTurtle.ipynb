{
  "nbformat": 4,
  "nbformat_minor": 0,
  "metadata": {
    "colab": {
      "name": "Activity 1b -- IntoTrtle",
      "provenance": [],
      "include_colab_link": true
    },
    "kernelspec": {
      "display_name": "Python 3",
      "language": "python",
      "name": "python3"
    }
  },
  "cells": [
    {
      "cell_type": "markdown",
      "metadata": {
        "id": "view-in-github",
        "colab_type": "text"
      },
      "source": [
        "<a href=\"https://colab.research.google.com/github/tproffen/ORCSGirlsPython/blob/master/ArtisticMath/Activity%201b%20--%20IntroTurtle.ipynb\" target=\"_parent\"><img src=\"https://colab.research.google.com/assets/colab-badge.svg\" alt=\"Open In Colab\"/></a>"
      ]
    },
    {
      "cell_type": "markdown",
      "metadata": {
        "id": "Rk48Ab5CzRsE"
      },
      "source": [
        "\n",
        "<img src=\"https://github.com/tproffen/ORCSGirlsPython/blob/master/Images/Logo.png?raw=1\" width=\"10%\" align=\"right\" hspace=\"50\">\n",
        "\n",
        "# Artistic Math\n",
        "## Activity 1: Getting to know the turtle\n",
        "\n",
        "In this section, you are going to learn about basic *Python* commands. \n",
        "Follow along and enter your commands below. Remember to press `shift+return` to execute a command."
      ]
    },
    {
      "cell_type": "markdown",
      "metadata": {
        "id": "D0FVwrYECsoE"
      },
      "source": [
        "## Setup \r\n",
        "Remember, **you need to run the commands below first** to load the needed libraries. If this cell is not run, you will get an error in the later part of the notebook."
      ]
    },
    {
      "cell_type": "code",
      "metadata": {
        "id": "4g41pep-C4A5"
      },
      "source": [
        "!curl -s -o setup.sh https://raw.githubusercontent.com/tproffen/ORCSGirlsPython/master/ArtisticMath/Helpers/setup_activities.sh\r\n",
        "!bash setup.sh\r\n",
        "from Helpers.helpers import *"
      ],
      "execution_count": null,
      "outputs": []
    },
    {
      "cell_type": "markdown",
      "metadata": {
        "id": "GHjQkSXOv8_p"
      },
      "source": [
        "### Remember loops?\r\n",
        "\r\n",
        "Just a quick reminder how loops work in Python."
      ]
    },
    {
      "cell_type": "markdown",
      "metadata": {
        "id": "9y5HN5sr0z3o"
      },
      "source": [
        "This for loop will run 9 times and the variable `t` will take values from `1` to `9`. Remember, the last value is not reached.\r\n",
        "\r\n",
        "\r\n",
        "```\r\n",
        "for t in range (1, 10):\r\n",
        "  **all code that will be looped must be indented**\r\n",
        "```\r\n",
        "\r\n"
      ]
    },
    {
      "cell_type": "code",
      "metadata": {
        "id": "o2S-P6SrzRs8"
      },
      "source": [
        "for t in range (1,5):\n",
        "  print(t)"
      ],
      "execution_count": null,
      "outputs": []
    },
    {
      "cell_type": "markdown",
      "metadata": {
        "id": "josFhEl6wfVM"
      },
      "source": [
        "☝️☝️ Change the code above, so it counts from 1 to 10. The first number is the starting number and the last number is one after the last printed number."
      ]
    },
    {
      "cell_type": "markdown",
      "metadata": {
        "id": "IU1pu15EF10Y"
      },
      "source": [
        "### Let's now draw a line.  \r\n",
        "\r\n",
        "Write a pendown() and then a forward(100) below the comment.\r\n",
        "It should look like this:\r\n",
        "```\r\n",
        "pendown()\r\n",
        "forward(100)\r\n",
        "```\r\n",
        "\r\n"
      ]
    },
    {
      "cell_type": "code",
      "metadata": {
        "id": "erZThCN1HiPG"
      },
      "source": [
        "initializeTurtle()\r\n",
        "bgcolor('white')\r\n",
        "color('red')\r\n",
        "width(1)\r\n",
        "showturtle()\r\n",
        "\r\n",
        "#add your pendown() and forward() commands below\r\n",
        "\r\n",
        "## add commands above me!\r\n",
        "show()"
      ],
      "execution_count": null,
      "outputs": []
    },
    {
      "cell_type": "markdown",
      "metadata": {
        "id": "AvKW1lgMJWtI"
      },
      "source": [
        "### Now change the distance in the forward command to a variable above.\r\n",
        "\r\n",
        "Variables are initialized with the name of the variable then an equal sign followed by the value of the variable.\r\n",
        "\r\n",
        "     my_variable_name = 10\r\n",
        "\r\n",
        "To use a variable just insert the name of the variable in the place for the value.\r\n",
        "\r\n",
        "     forward(my_variable_name)\r\n",
        "\r\n",
        "### Make your own variable in the cell above. ☝️☝️ "
      ]
    },
    {
      "cell_type": "markdown",
      "metadata": {
        "id": "2qb20U7vLEqy"
      },
      "source": [
        "## Let's add a loop to make a diagonal line. \r\n",
        "Make sure there is an indent for the code after the loop, otherwise it won't run the specified number of times.\r\n",
        "\r\n",
        "If our equation for this line is:\r\n",
        "          \r\n",
        "\r\n",
        "```\r\n",
        "x = t\r\n",
        "y = 2t\r\n",
        "```\r\n",
        "As t increases, x and y increase. How would I make the line more horizontal? Vertical?\r\n",
        "\r\n",
        "First calculate the values for x and y using t using a loop. Then use the goto(X_POS, Y_POS) command after calculating the x and y each loop.  Make t your counter variable in the loop.\r\n"
      ]
    },
    {
      "cell_type": "code",
      "metadata": {
        "id": "Ufz8I07i_IJp"
      },
      "source": [
        "initializeTurtle()\r\n",
        "bgcolor('white')\r\n",
        "color('red')\r\n",
        "width(1)\r\n",
        "showturtle()\r\n",
        "\r\n",
        "# add your commands below\r\n",
        "# example for loop:\r\n",
        "# for i in range(1,10):\r\n",
        "#     code repeated here\r\n",
        "\r\n",
        "\r\n",
        "\r\n",
        "## add commands above me!\r\n",
        "show()\r\n",
        "\r\n"
      ],
      "execution_count": null,
      "outputs": []
    },
    {
      "cell_type": "markdown",
      "metadata": {
        "id": "tNYd0wSN_t1f"
      },
      "source": [
        "### Can you change the color of the line? \r\n",
        "Hint: the command can be found at [this handout](https://docs.google.com/document/d/1uFlPmNaOr5KiEaF38CRKiqg6GeoHnvI3_jGnPAow1iQ/edit?usp=sharing).\r\n",
        "\r\n",
        "Reading documentation of commands is an important skill to have to learn to code on your own. New commands are created constantly and added to Python.  Reading the documentation about those commands allows you to use them effectively."
      ]
    }
  ]
}