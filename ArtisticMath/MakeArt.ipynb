{
  "nbformat": 4,
  "nbformat_minor": 0,
  "metadata": {
    "colab": {
      "name": "MakeArt",
      "provenance": [],
      "include_colab_link": true
    },
    "kernelspec": {
      "name": "python3",
      "display_name": "Python 3"
    }
  },
  "cells": [
    {
      "cell_type": "markdown",
      "metadata": {
        "id": "view-in-github",
        "colab_type": "text"
      },
      "source": [
        "<a href=\"https://colab.research.google.com/github/tproffen/ORCSGirlsPython/blob/master/ArtisticMath/MakeArt.ipynb\" target=\"_parent\"><img src=\"https://colab.research.google.com/assets/colab-badge.svg\" alt=\"Open In Colab\"/></a>"
      ]
    },
    {
      "cell_type": "markdown",
      "metadata": {
        "id": "MzwIrb8coQbv"
      },
      "source": [
        "<img src=\"https://github.com/tproffen/ORCSGirlsPython/blob/master/Images/Logo.png?raw=1\" width=\"10%\" align=\"right\" hspace=\"50\">\r\n",
        "\r\n",
        "# Artistic Math\r\n",
        "## Activity: Create your pattern!\r\n",
        "\r\n",
        "The assignement is simple - make awesome art with the functions you created and some mroe we provide. Here are some of the functions you can use.\r\n",
        "\r\n",
        "### Parametric functions\r\n",
        "\r\n",
        "* `grid(delta)`\r\n",
        "* `roseCurve(x_start, y_start, sizefactor, petalsCount)`\r\n",
        "* `parabola(x_start, y_start, sizefactor)`\r\n",
        "* `spiral(x_start, y_start, sizefactor, spiralLength)`\r\n",
        "* `circle(x_start, y_start, sizefactor)`\r\n",
        "* `polygon(x_start, y_start, sizefactor, numSides)`\r\n",
        "* `bowtie(x_start, y_start, sizefactor)`\r\n",
        "\r\n",
        "For a complete list of functions and explanation of the different input parameters, click <a href=\"https://docs.google.com/document/d/1PURtG3m9I2rZ6tFatWp8aG_AjS339pgfxeONdaVdGPc/edit\">here</a>.\r\n",
        "\r\n",
        "### More turtle commands\r\n",
        "\r\n",
        "And there are some color helper functions. The returned value can be used as argument for the `color` and `bgcolor` commands.\r\n",
        "\r\n",
        "* `color_rgb(r,g,b)` Returns color given by values `r` (red), `g` (green), and `b` (blue). Note these range from 0.0 to 1.0\r\n",
        "* `color_hsv(h,s,v)` Returns color given by values `h` (hue), `s` (saturation), and `v` (vibrance). Values range from 0.0 to 1.0\r\n",
        "* `color_random()` Return a HEX string of a random color.\r\n",
        "\r\n",
        "To set a random line color, you would use the command `color(color_random())` for example. What would happen if you change the color **inside** the `for` loop where you make the cardioid? A **complete list of turtle commands** including how to make random colors and fill shapes can be found [here](https://github.com/tproffen/ORCSGirlsPython/blob/master/ArtisticMath/README.md)\r\n",
        "\r\n",
        "### Saving and sharing\r\n",
        "\r\n",
        "Once you have finished, **save your creation as PNG file**. You can then upload the image to our class gallery using the 'Upload your art work here' button on the <a href=\"https://www.orcsgirls.org/class\">class page</a>. Do not forget to save your Notebook if you want to work on it after class :)"
      ]
    },
    {
      "cell_type": "code",
      "metadata": {
        "id": "v4VZnSuNBVvi"
      },
      "source": [
        "!curl -s -o setup.sh https://raw.githubusercontent.com/tproffen/ORCSGirlsPython/master/ArtisticMath/Helpers/setup_activities.sh\r\n",
        "!bash setup.sh\r\n",
        "from Helpers.helpers import *"
      ],
      "execution_count": null,
      "outputs": []
    },
    {
      "cell_type": "markdown",
      "metadata": {
        "id": "sqK0u-dj3VUE"
      },
      "source": [
        "### Add your cardioid function code and snowflake code (if we covered that) from the previous activity here"
      ]
    },
    {
      "cell_type": "code",
      "metadata": {
        "id": "dsn6r2Wl3dhl"
      },
      "source": [
        ""
      ],
      "execution_count": null,
      "outputs": []
    },
    {
      "cell_type": "markdown",
      "metadata": {
        "id": "7demtP3c3fFV"
      },
      "source": [
        "## Time to get artsy. \r\n",
        "\r\n",
        "Create your work of art below using all the functions, colors and line widths you crave. Once done, save the art work using the Save button below the drawing and upload it on the class page as instructed 🎨"
      ]
    },
    {
      "cell_type": "code",
      "metadata": {
        "id": "FK1l55N9oLQZ"
      },
      "source": [
        "initializeTurtle()\r\n",
        "\r\n",
        "# change the colors and linewidth as needed\r\n",
        "\r\n",
        "bgcolor('purple')\r\n",
        "color('white')\r\n",
        "width(1)\r\n",
        "hideturtle()\r\n",
        "\r\n",
        "# add your commands below\r\n",
        "\r\n",
        "\r\n",
        "\r\n",
        "# add commands above me!\r\n",
        "\r\n",
        "show()"
      ],
      "execution_count": null,
      "outputs": []
    }
  ]
}
