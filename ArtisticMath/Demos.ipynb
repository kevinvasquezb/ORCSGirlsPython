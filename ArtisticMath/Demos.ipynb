{
  "nbformat": 4,
  "nbformat_minor": 0,
  "metadata": {
    "colab": {
      "name": "Demos.ipynb",
      "provenance": [],
      "collapsed_sections": [],
      "include_colab_link": true
    },
    "kernelspec": {
      "display_name": "Python 3",
      "language": "python",
      "name": "python3"
    }
  },
  "cells": [
    {
      "cell_type": "markdown",
      "metadata": {
        "id": "view-in-github",
        "colab_type": "text"
      },
      "source": [
        "<a href=\"https://colab.research.google.com/github/tproffen/ORCSGirlsPython/blob/master/ArtisticMath/Demos.ipynb\" target=\"_parent\"><img src=\"https://colab.research.google.com/assets/colab-badge.svg\" alt=\"Open In Colab\"/></a>"
      ]
    },
    {
      "cell_type": "markdown",
      "metadata": {
        "id": "OJTK0vIDpw1q"
      },
      "source": [
        "<img src=\"https://github.com/tproffen/ORCSGirlsPython/blob/master/Images/PoweredTechGirlz.png?raw=1\" width=\"10%\" align=\"right\" hpsace=\"50\">\n",
        "\n",
        "# Examples: Artistic Math using Curves \n",
        "\n",
        "More examples how to use the turtle functions and prefefined functions."
      ]
    },
    {
      "cell_type": "markdown",
      "metadata": {
        "id": "axlORNV3sNnV"
      },
      "source": [
        "## Turtle Commands\r\n",
        "\r\n",
        "These activities use a modified version of [ColabTurtle](https://github.com/tolgaatam/ColabTurtle) developed by [Tolga Atam](https://github.com/tolgaatam). Here is a list of commands you can use to draw.\r\n",
        "\r\n",
        "* **`initializeTurtle(initial_speed=DEFAULT_SPEED, initial_window_size=DEFAULT_WINDOW_SIZE)`** Initializes the drawing display. This command needs to be called *first*. The parameters are options. For example `initializeTurtle()` will create a drawing area with the default size and drawing speed. To create a area of e.g. 1000 x 800 pixles, you would use the command `initializeTurtle(initial_window_size=(1000,800))`\r\n",
        "* **`forward(units)`** Moves the turtle (pen) forward by the amount `units`. \r\n",
        "* **`backward(units)`** Moves the turtle (pen) backward by the amount `units`. \r\n",
        "* **`right(degrees)`**  Turns the direction of the turtle (pen) to the right by `degrees`.\r\n",
        "* **`face(degrees)`** Sets the direction or heading  of the turtle (pen) to `degrees`.\r\n",
        "* **`left(degrees)`** Turns the direction of the turtle (pen) to the left by `degrees`.\r\n",
        "* **`penup()`** Pen up. No lines will be drawn.\r\n",
        "* **`pendown()`** Pen down. Lines between points will be drawn.\r\n",
        "* **`speed(speed)`** Set drawing speed to `speed` (in lines/second).\r\n",
        "* **`begin_fill()`** Start an area to be filled.\r\n",
        "* **`end_fill()`** Ends the area to be filled.\r\n",
        "* **`setx(x)`** Set turtle x position to `x`.\r\n",
        "* **`sety(y)`** Set turtle y position to `y`.\r\n",
        "* **`getx()`** Get the current x position of the turtle.\r\n",
        "* **`gety()`** Get the current y position of the turtle.\r\n",
        "* **`heading()`** Get the current heading of the turtle.\r\n",
        "* **`goto(x, y)`** Set turtle position to `x,y`.\r\n",
        "* **`showturtle()`** Show the turtle symbol on drawing.\r\n",
        "* **`hideturtle()`** Hide the turtle symbol on drawing.\r\n",
        "* **`show()`** Show current drawing.\r\n",
        "* **`fillcolor(color)`** Sets the fill color (CSS names and #xxxxxx allowed)\r\n",
        "* **`bgcolor(color)`** Set background color to `color` (CSS color names and #xxxxxx format allowed).\r\n",
        "* **`color(color)`** Set line color to `color` (CSS color names and #xxxxxx format allowed).\r\n",
        "* **`width(width)`** Set line width.\r\n",
        "\r\n",
        "And there are some color helper functions. The returned value can be used as argument for the `color` and `bgcolor` commands.\r\n",
        "\r\n",
        "* **`color_rgb(r,g,b)`** Returns HEX color string given by values `r` (red), `g` (green), and `b` (blue). Note these range from 0.0 to 1.0\r\n",
        "* **`color_hsv(h,s,v)`** Returns HEX color string given by values `h` (hue), `s` (saturation), and `v` (vibrance). Note these range from 0.0 to 1.0\r\n",
        "* **`color_random()`** Return a HEX string of a random color."
      ]
    },
    {
      "cell_type": "code",
      "metadata": {
        "id": "kBxoXL4tqIDq"
      },
      "source": [
        "!curl -s -o setup.sh https://raw.githubusercontent.com/tproffen/ORCSGirlsPython/master/ArtisticMath/Helpers/setup_activities.sh\n",
        "!bash setup.sh"
      ],
      "execution_count": null,
      "outputs": []
    },
    {
      "cell_type": "code",
      "metadata": {
        "id": "fHnjJndmqIED"
      },
      "source": [
        "from Helpers.helpers import *"
      ],
      "execution_count": null,
      "outputs": []
    },
    {
      "cell_type": "markdown",
      "metadata": {
        "id": "9OAgPfQq3Rvu"
      },
      "source": [
        "## Program your own Cardioid\r\n",
        "\r\n",
        "Note helpers import arange from Numpy allowing simple for loops with float increments making the code easier. Also the conversion from fload x and y to integer values now happens in the turtle library."
      ]
    },
    {
      "cell_type": "code",
      "metadata": {
        "id": "Zk5XBvnCzcAm"
      },
      "source": [
        "initializeTurtle(initial_window_size=(1000,600))\r\n",
        "\r\n",
        "xstart=500\r\n",
        "ystart=300\r\n",
        "a=100\r\n",
        "\r\n",
        "pendown()\r\n",
        "for t in arange(0,6.4,0.1):\r\n",
        "  x = a*(math.cos(t) - math.cos(2*t))\r\n",
        "  y = a*(math.sin(t) - math.sin(2*t))\r\n",
        "  goto (x+xstart, y+ystart)\r\n",
        "\r\n",
        "show()"
      ],
      "execution_count": null,
      "outputs": []
    },
    {
      "cell_type": "markdown",
      "metadata": {
        "id": "2tfVVlpqylJa"
      },
      "source": [
        "### Fancier version\r\n",
        "\r\n",
        "In the function we can also use the parameter `t` to change color and line width."
      ]
    },
    {
      "cell_type": "code",
      "metadata": {
        "id": "Z7GaGTvgy0Wn"
      },
      "source": [
        "def cardioid_fancy(size,x0,y0,hue,wmin,wmax,period,step):\r\n",
        "  penup()\r\n",
        "  for t in arange(0.0,6.4,step):\r\n",
        "    x=size*(2*math.cos(t)-math.cos(2*t))\r\n",
        "    y=size*(2*math.sin(t)-math.sin(2*t))\r\n",
        "    s=0.5*(1.+math.sin(period*t))\r\n",
        "    c=color_hsv(hue,s,s)\r\n",
        "    color(c)\r\n",
        "    w=round(wmin+wmax+(wmax*math.sin(2*period*t)))\r\n",
        "    width(w)\r\n",
        "    goto(x+x0,y+y0)\r\n",
        "    pendown()\r\n",
        "\r\n",
        "initializeTurtle(initial_window_size=(1000,600))\r\n",
        "bgcolor('purple')\r\n",
        "hideturtle()\r\n",
        "\r\n",
        "for s in range(10,100,5):\r\n",
        "  cardioid_fancy(s,500,300,s/100.,2,8,s/8,0.02)\r\n",
        "\r\n",
        "show()"
      ],
      "execution_count": null,
      "outputs": []
    },
    {
      "cell_type": "markdown",
      "metadata": {
        "id": "WZc9qGgosMqX"
      },
      "source": [
        "## Shape Functions\r\n",
        "\r\n",
        "There are a number of predefined functions to play with.\r\n",
        "\r\n",
        "* **`roseCurve(x_start, y_start, sizefactor, petalsCount)`**:\r\n",
        "* **`parabola(x_start, y_start, sizefactor)`**:\r\n",
        "* **`spiral(x_start, y_start, sizefactor, spiralLength)`**:\r\n",
        "* **`circle(x_start, y_start, sizefactor)`**:\r\n",
        "* **`polygon(x_start, y_start, sizefactor, numSides)`**:\r\n",
        "* **`bowtie(x_start, y_start, sizefactor)`**:\r\n",
        "\r\n",
        "Fractals\r\n",
        "\r\n",
        "* **`snowflake(x_start, y_start, size, order)`** Complete snowflake around `x_start`, `y_start` with size `size`. The order can go from 0 to 4. Higher makes it very slow.\r\n",
        "* **`koch(size, order)`** Single fractal line (side of snowflake). It will start where the turtle is at. This is the recursive function making kinks in the line :)\r\n",
        "\r\n",
        "And there is a helper function to draw a grid \r\n",
        "\r\n",
        "* **`grid(delta)`**:\r\n"
      ]
    },
    {
      "cell_type": "code",
      "metadata": {
        "id": "vmJaaArIcyRO"
      },
      "source": [
        "initializeTurtle(initial_window_size=(1000,600))\r\n",
        "\r\n",
        "# Settings like color, line width, ..\r\n",
        "bgcolor('#dddddd')\r\n",
        "color('red')\r\n",
        "width(1)\r\n",
        "hideturtle()\r\n",
        "\r\n",
        "# Draw a light grey grid spaced 100\r\n",
        "color('#aaaaaa')\r\n",
        "grid(100)\r\n",
        "\r\n",
        "color('red')\r\n",
        "\r\n",
        "roseCurve(100, 200, 100, 13)\r\n",
        "parabola(400, 200, 50)\r\n",
        "spiral(700,200,1,100)\r\n",
        "circle(100,500,100)\r\n",
        "polygon(400,500,100,3)\r\n",
        "bowtie(600,400,200)\r\n",
        "show()"
      ],
      "execution_count": null,
      "outputs": []
    },
    {
      "cell_type": "markdown",
      "metadata": {
        "id": "GTh9NUNeN4Ii"
      },
      "source": [
        "## Playing with color and line width\r\n",
        "\r\n",
        "Inside a parametric function you can also use `t` to change properties on the line drawn. Here are some examples."
      ]
    },
    {
      "cell_type": "code",
      "metadata": {
        "id": "EmC9UYcEOiPu"
      },
      "source": [
        "initializeTurtle(initial_window_size=(1000,600))\r\n",
        "\r\n",
        "bgcolor('#dddddd')\r\n",
        "showturtle()\r\n",
        "width(20)\r\n",
        "\r\n",
        "penup()\r\n",
        "for t in range (100,900,5):\r\n",
        "  c=color_hsv(t/400,1.0,1.0)\r\n",
        "  color(c)\r\n",
        "  w=round((t-95)/5)\r\n",
        "  width(w)\r\n",
        "  goto(t,300)\r\n",
        "  pendown()\r\n",
        "\r\n",
        "show()"
      ],
      "execution_count": null,
      "outputs": []
    },
    {
      "cell_type": "code",
      "metadata": {
        "id": "xnSCUq38O3xp"
      },
      "source": [
        ""
      ],
      "execution_count": null,
      "outputs": []
    }
  ]
}