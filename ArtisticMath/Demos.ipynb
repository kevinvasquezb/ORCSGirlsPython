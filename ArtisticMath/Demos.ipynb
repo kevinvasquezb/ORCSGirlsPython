{
  "nbformat": 4,
  "nbformat_minor": 0,
  "metadata": {
    "colab": {
      "name": "Demos.ipynb",
      "provenance": [],
      "collapsed_sections": [],
      "include_colab_link": true
    },
    "kernelspec": {
      "display_name": "Python 3",
      "language": "python",
      "name": "python3"
    }
  },
  "cells": [
    {
      "cell_type": "markdown",
      "metadata": {
        "id": "view-in-github",
        "colab_type": "text"
      },
      "source": [
        "<a href=\"https://colab.research.google.com/github/tproffen/ORCSGirlsPython/blob/master/ArtisticMath/Demos.ipynb\" target=\"_parent\"><img src=\"https://colab.research.google.com/assets/colab-badge.svg\" alt=\"Open In Colab\"/></a>"
      ]
    },
    {
      "cell_type": "markdown",
      "metadata": {
        "id": "OJTK0vIDpw1q"
      },
      "source": [
        "<img src=\"https://github.com/tproffen/ORCSGirlsPython/blob/master/Images/PoweredTechGirlz.png?raw=1\" width=\"10%\" align=\"right\" hpsace=\"50\">\n",
        "\n",
        "# Examples: Artistic Math using Curves \n",
        "\n",
        "More examples how to use the turtle functions and prefefined functions."
      ]
    },
    {
      "cell_type": "markdown",
      "metadata": {
        "id": "axlORNV3sNnV"
      },
      "source": [
        "## Turtle Commands\r\n",
        "\r\n",
        "These activities use a modified version of [ColabTurtle](https://github.com/tolgaatam/ColabTurtle) developed by [Tolga Atam](https://github.com/tolgaatam). Here is a list of commands you can use to draw.\r\n",
        "\r\n",
        "* **`initializeTurtle(initial_speed=DEFAULT_SPEED, initial_window_size=DEFAULT_WINDOW_SIZE)`** Initializes the drawing display. This command needs to be called *first*. The parameters are options. For example `initializeTurtle()` will create a drawing area with the default size and drawing speed. To create a area of e.g. 1000 x 800 pixles, you would use the command `initializeTurtle(initial_window_size=(1000,800))`\r\n",
        "* **`forward(units)`** Moves the turtle (pen) forward by the amount `units`. \r\n",
        "* **`backward(units)`** Moves the turtle (pen) backward by the amount `units`. \r\n",
        "* **`right(degrees)`**  Turns the direction of the turtle (pen) to the right by `degrees`.\r\n",
        "* **`face(degrees)`** Sets the direction or heading  of the turtle (pen) to `degrees`.\r\n",
        "* **`left(degrees)`** Turns the direction of the turtle (pen) to the left by `degrees`.\r\n",
        "* **`penup()`** Pen up. No lines will be drawn.\r\n",
        "* **`pendown()`** Pen down. Lines between points will be drawn.\r\n",
        "* **`speed(speed)`** Set drawing speed to `speed` (1:slowest, 13: fastest).\r\n",
        "* **`setx(x)`** Set turtle x position to `x`.\r\n",
        "* **`sety(y)`** Set turtle y position to `y`.\r\n",
        "* **`getx()`** Get the current x position of the turtle.\r\n",
        "* **`gety()`** Get the current y position of the turtle.\r\n",
        "* **`goto(x, y)`** Set turtle position to `x,y`.\r\n",
        "* **`showturtle()`** Show the turtle symbol on drawing.\r\n",
        "* **`hideturtle()`** Hide the turtle symbol on drawing.\r\n",
        "* **`liveon()`** Show drawing step by step.\r\n",
        "* **`liveoff()`** Do not show drawing until `show()` command.\r\n",
        "* **`show()`** Show current drawing.\r\n",
        "* **`bgcolor(color)`** Set background color to `color` (CSS color names and #xxxxxx format allowed).\r\n",
        "* **`color(color)`** Set line color to `color` (CSS color names and #xxxxxx format allowed).\r\n",
        "* **`width(width)`** Set line width.\r\n",
        "\r\n",
        "And there are some color helper functions. The returned value can be used as argument for the `color` and `bgcolor` commands.\r\n",
        "\r\n",
        "* **`color_rgb(r,g,b)`** Returns HEX color string given by values `r` (red), `g` (green), and `b` (blue). Note these range from 0.0 to 1.0\r\n",
        "* **`color_hsv(h,s,v)`** Returns HEX color string given by values `h` (hue), `s` (saturation), and `v` (vibrance). Note these range from 0.0 to 1.0\r\n",
        "* **`color_random()`** Return a HEX string of a random color."
      ]
    },
    {
      "cell_type": "code",
      "metadata": {
        "id": "kBxoXL4tqIDq"
      },
      "source": [
        "!curl -s -o setup.sh https://raw.githubusercontent.com/tproffen/ORCSGirlsPython/master/ArtisticMath/Helpers/setup_activities.sh\n",
        "!bash setup.sh"
      ],
      "execution_count": null,
      "outputs": []
    },
    {
      "cell_type": "code",
      "metadata": {
        "id": "fHnjJndmqIED"
      },
      "source": [
        "from Helpers.helpers import *"
      ],
      "execution_count": null,
      "outputs": []
    },
    {
      "cell_type": "markdown",
      "metadata": {
        "id": "9OAgPfQq3Rvu"
      },
      "source": [
        "## Program your own Cardioid\r\n",
        "\r\n",
        "Note helpers import arange from Numpy allowing simple for loops with float increments making the code easier. Also the conversion from fload x and y to integer values now happens in the turtle library."
      ]
    },
    {
      "cell_type": "code",
      "metadata": {
        "id": "Zk5XBvnCzcAm"
      },
      "source": [
        "initializeTurtle(initial_window_size=(1000,600))\r\n",
        "\r\n",
        "xstart=500\r\n",
        "ystart=300\r\n",
        "a=100\r\n",
        "\r\n",
        "for t in arange(0,6.4,0.1):\r\n",
        "  x = a*(math.cos(t) - math.cos(2*t))\r\n",
        "  y = a*(math.sin(t) - math.sin(2*t))\r\n",
        "  goto (x+xstart, y+ystart)\r\n",
        "\r\n",
        "show()"
      ],
      "execution_count": null,
      "outputs": []
    },
    {
      "cell_type": "markdown",
      "metadata": {
        "id": "2tfVVlpqylJa"
      },
      "source": [
        "### Fancier version\r\n",
        "\r\n",
        "In the function we can also use the parameter `t` to change color and line width."
      ]
    },
    {
      "cell_type": "code",
      "metadata": {
        "id": "Z7GaGTvgy0Wn"
      },
      "source": [
        "def cardioid_fancy(size,x0,y0,hue,wmin,wmax,period,step):\r\n",
        "  penup()\r\n",
        "  for t in arange(0.0,6.4,step):\r\n",
        "    x=size*(2*math.cos(t)-math.cos(2*t))\r\n",
        "    y=size*(2*math.sin(t)-math.sin(2*t))\r\n",
        "    s=0.5*(1.+math.sin(period*t))\r\n",
        "    c=color_hsv(hue,s,s)\r\n",
        "    color(c)\r\n",
        "    w=round(wmin+wmax+(wmax*math.sin(2*period*t)))\r\n",
        "    width(w)\r\n",
        "    goto(x+x0,y+y0)\r\n",
        "    pendown()\r\n",
        "\r\n",
        "initializeTurtle(initial_window_size=(1000,600))\r\n",
        "bgcolor('purple')\r\n",
        "hideturtle()\r\n",
        "liveoff()\r\n",
        "\r\n",
        "for s in range(10,100,5):\r\n",
        "  cardioid_fancy(s,500,300,s/100.,2,8,s/8,0.02)\r\n",
        "\r\n",
        "show()"
      ],
      "execution_count": null,
      "outputs": []
    },
    {
      "cell_type": "markdown",
      "metadata": {
        "id": "WZc9qGgosMqX"
      },
      "source": [
        "## Shape Functions\r\n",
        "\r\n",
        "There are a number of predefined functions to play with.\r\n",
        "\r\n",
        "* **`roseCurve(x_start, y_start, sizefactor, petalsCount)`**:\r\n",
        "* **`parabola(x_start, y_start, sizefactor)`**:\r\n",
        "* **`spiral(x_start, y_start, sizefactor, spiralLength)`**:\r\n",
        "* **`circle(x_start, y_start, sizefactor)`**:\r\n",
        "* **`polygon(x_start, y_start, sizefactor, numSides)`**:\r\n",
        "* **`bowtie(x_start, y_start, sizefactor)`**:\r\n",
        "\r\n",
        "Fractals\r\n",
        "\r\n",
        "* **`snowflake(x_start, y_start, size, order)`** Complete snowflake around `x_start`, `y_start` with size `size`. The order can go from 0 to 4. Higher makes it very slow.\r\n",
        "* **`koch(size, order)`** Single fractal line (side of snowflake). It will start where the turtle is at. This is the recursive function making kinks in the line :)\r\n",
        "\r\n",
        "And there is a helper function to draw a grid \r\n",
        "\r\n",
        "* **`grid(delta)`**:\r\n"
      ]
    },
    {
      "cell_type": "code",
      "metadata": {
        "id": "vmJaaArIcyRO"
      },
      "source": [
        "initializeTurtle(initial_window_size=(1000,600))\r\n",
        "\r\n",
        "# Settings like color, line width, ..\r\n",
        "bgcolor('#dddddd')\r\n",
        "color('red')\r\n",
        "width(1)\r\n",
        "hideturtle()\r\n",
        "liveoff()\r\n",
        "\r\n",
        "# Draw a light grey grid spaced 100\r\n",
        "color('#aaaaaa')\r\n",
        "grid(100)\r\n",
        "\r\n",
        "color('red')\r\n",
        "\r\n",
        "roseCurve(100, 200, 100, 13)\r\n",
        "parabola(400, 200, 50)\r\n",
        "spiral(700,200,1,100)\r\n",
        "circle(100,500,100)\r\n",
        "polygon(400,500,100,3)\r\n",
        "bowtie(600,400,200)\r\n",
        "show()"
      ],
      "execution_count": null,
      "outputs": []
    },
    {
      "cell_type": "markdown",
      "metadata": {
        "id": "GTh9NUNeN4Ii"
      },
      "source": [
        "## Playing with color and line width\r\n",
        "\r\n",
        "Inside a parametric function you can also use `t` to change properties on the line drawn. Here are some examples."
      ]
    },
    {
      "cell_type": "code",
      "metadata": {
        "id": "EmC9UYcEOiPu",
        "outputId": "b876ad9e-320a-4592-b94b-6922ad457c76",
        "colab": {
          "base_uri": "https://localhost:8080/",
          "height": 665
        }
      },
      "source": [
        "initializeTurtle(initial_window_size=(1000,600))\r\n",
        "\r\n",
        "bgcolor('#dddddd')\r\n",
        "hideturtle()\r\n",
        "width(20)\r\n",
        "liveoff()\r\n",
        "\r\n",
        "penup()\r\n",
        "for t in range (100,900,5):\r\n",
        "  c=color_hsv(t/400,1.0,1.0)\r\n",
        "  color(c)\r\n",
        "  w=round((t-95)/5)\r\n",
        "  width(w)\r\n",
        "  goto(t,300)\r\n",
        "  pendown()\r\n",
        "\r\n",
        "show()"
      ],
      "execution_count": 52,
      "outputs": [
        {
          "output_type": "display_data",
          "data": {
            "text/html": [
              "\n",
              "      <svg width=\"1000\" height=\"600\">\n",
              "        <rect width=\"100%\" height=\"100%\" fill=\"#dddddd\"/>\n",
              "        <line x1=\"100\" y1=\"300\" x2=\"105\" y2=\"300\" stroke-linecap=\"round\" style=\"stroke:#6cff00;stroke-width:2\"/><line x1=\"105\" y1=\"300\" x2=\"110\" y2=\"300\" stroke-linecap=\"round\" style=\"stroke:#59ff00;stroke-width:3\"/><line x1=\"110\" y1=\"300\" x2=\"115\" y2=\"300\" stroke-linecap=\"round\" style=\"stroke:#46ff00;stroke-width:4\"/><line x1=\"115\" y1=\"300\" x2=\"120\" y2=\"300\" stroke-linecap=\"round\" style=\"stroke:#33ff00;stroke-width:5\"/><line x1=\"120\" y1=\"300\" x2=\"125\" y2=\"300\" stroke-linecap=\"round\" style=\"stroke:#20ff00;stroke-width:6\"/><line x1=\"125\" y1=\"300\" x2=\"130\" y2=\"300\" stroke-linecap=\"round\" style=\"stroke:#0dff00;stroke-width:7\"/><line x1=\"130\" y1=\"300\" x2=\"135\" y2=\"300\" stroke-linecap=\"round\" style=\"stroke:#00ff06;stroke-width:8\"/><line x1=\"135\" y1=\"300\" x2=\"140\" y2=\"300\" stroke-linecap=\"round\" style=\"stroke:#00ff19;stroke-width:9\"/><line x1=\"140\" y1=\"300\" x2=\"145\" y2=\"300\" stroke-linecap=\"round\" style=\"stroke:#00ff2d;stroke-width:10\"/><line x1=\"145\" y1=\"300\" x2=\"150\" y2=\"300\" stroke-linecap=\"round\" style=\"stroke:#00ff40;stroke-width:11\"/><line x1=\"150\" y1=\"300\" x2=\"155\" y2=\"300\" stroke-linecap=\"round\" style=\"stroke:#00ff53;stroke-width:12\"/><line x1=\"155\" y1=\"300\" x2=\"160\" y2=\"300\" stroke-linecap=\"round\" style=\"stroke:#00ff66;stroke-width:13\"/><line x1=\"160\" y1=\"300\" x2=\"165\" y2=\"300\" stroke-linecap=\"round\" style=\"stroke:#00ff79;stroke-width:14\"/><line x1=\"165\" y1=\"300\" x2=\"170\" y2=\"300\" stroke-linecap=\"round\" style=\"stroke:#00ff8c;stroke-width:15\"/><line x1=\"170\" y1=\"300\" x2=\"175\" y2=\"300\" stroke-linecap=\"round\" style=\"stroke:#00ff9f;stroke-width:16\"/><line x1=\"175\" y1=\"300\" x2=\"180\" y2=\"300\" stroke-linecap=\"round\" style=\"stroke:#00ffb3;stroke-width:17\"/><line x1=\"180\" y1=\"300\" x2=\"185\" y2=\"300\" stroke-linecap=\"round\" style=\"stroke:#00ffc6;stroke-width:18\"/><line x1=\"185\" y1=\"300\" x2=\"190\" y2=\"300\" stroke-linecap=\"round\" style=\"stroke:#00ffd9;stroke-width:19\"/><line x1=\"190\" y1=\"300\" x2=\"195\" y2=\"300\" stroke-linecap=\"round\" style=\"stroke:#00ffec;stroke-width:20\"/><line x1=\"195\" y1=\"300\" x2=\"200\" y2=\"300\" stroke-linecap=\"round\" style=\"stroke:#00ffff;stroke-width:21\"/><line x1=\"200\" y1=\"300\" x2=\"205\" y2=\"300\" stroke-linecap=\"round\" style=\"stroke:#00ecff;stroke-width:22\"/><line x1=\"205\" y1=\"300\" x2=\"210\" y2=\"300\" stroke-linecap=\"round\" style=\"stroke:#00d9ff;stroke-width:23\"/><line x1=\"210\" y1=\"300\" x2=\"215\" y2=\"300\" stroke-linecap=\"round\" style=\"stroke:#00c6ff;stroke-width:24\"/><line x1=\"215\" y1=\"300\" x2=\"220\" y2=\"300\" stroke-linecap=\"round\" style=\"stroke:#00b2ff;stroke-width:25\"/><line x1=\"220\" y1=\"300\" x2=\"225\" y2=\"300\" stroke-linecap=\"round\" style=\"stroke:#009fff;stroke-width:26\"/><line x1=\"225\" y1=\"300\" x2=\"230\" y2=\"300\" stroke-linecap=\"round\" style=\"stroke:#008cff;stroke-width:27\"/><line x1=\"230\" y1=\"300\" x2=\"235\" y2=\"300\" stroke-linecap=\"round\" style=\"stroke:#0079ff;stroke-width:28\"/><line x1=\"235\" y1=\"300\" x2=\"240\" y2=\"300\" stroke-linecap=\"round\" style=\"stroke:#0066ff;stroke-width:29\"/><line x1=\"240\" y1=\"300\" x2=\"245\" y2=\"300\" stroke-linecap=\"round\" style=\"stroke:#0053ff;stroke-width:30\"/><line x1=\"245\" y1=\"300\" x2=\"250\" y2=\"300\" stroke-linecap=\"round\" style=\"stroke:#0040ff;stroke-width:31\"/><line x1=\"250\" y1=\"300\" x2=\"255\" y2=\"300\" stroke-linecap=\"round\" style=\"stroke:#002dff;stroke-width:32\"/><line x1=\"255\" y1=\"300\" x2=\"260\" y2=\"300\" stroke-linecap=\"round\" style=\"stroke:#0019ff;stroke-width:33\"/><line x1=\"260\" y1=\"300\" x2=\"265\" y2=\"300\" stroke-linecap=\"round\" style=\"stroke:#0006ff;stroke-width:34\"/><line x1=\"265\" y1=\"300\" x2=\"270\" y2=\"300\" stroke-linecap=\"round\" style=\"stroke:#0d00ff;stroke-width:35\"/><line x1=\"270\" y1=\"300\" x2=\"275\" y2=\"300\" stroke-linecap=\"round\" style=\"stroke:#2000ff;stroke-width:36\"/><line x1=\"275\" y1=\"300\" x2=\"280\" y2=\"300\" stroke-linecap=\"round\" style=\"stroke:#3300ff;stroke-width:37\"/><line x1=\"280\" y1=\"300\" x2=\"285\" y2=\"300\" stroke-linecap=\"round\" style=\"stroke:#4600ff;stroke-width:38\"/><line x1=\"285\" y1=\"300\" x2=\"290\" y2=\"300\" stroke-linecap=\"round\" style=\"stroke:#5900ff;stroke-width:39\"/><line x1=\"290\" y1=\"300\" x2=\"295\" y2=\"300\" stroke-linecap=\"round\" style=\"stroke:#6c00ff;stroke-width:40\"/><line x1=\"295\" y1=\"300\" x2=\"300\" y2=\"300\" stroke-linecap=\"round\" style=\"stroke:#8000ff;stroke-width:41\"/><line x1=\"300\" y1=\"300\" x2=\"305\" y2=\"300\" stroke-linecap=\"round\" style=\"stroke:#9300ff;stroke-width:42\"/><line x1=\"305\" y1=\"300\" x2=\"310\" y2=\"300\" stroke-linecap=\"round\" style=\"stroke:#a600ff;stroke-width:43\"/><line x1=\"310\" y1=\"300\" x2=\"315\" y2=\"300\" stroke-linecap=\"round\" style=\"stroke:#b900ff;stroke-width:44\"/><line x1=\"315\" y1=\"300\" x2=\"320\" y2=\"300\" stroke-linecap=\"round\" style=\"stroke:#cc00ff;stroke-width:45\"/><line x1=\"320\" y1=\"300\" x2=\"325\" y2=\"300\" stroke-linecap=\"round\" style=\"stroke:#df00ff;stroke-width:46\"/><line x1=\"325\" y1=\"300\" x2=\"330\" y2=\"300\" stroke-linecap=\"round\" style=\"stroke:#f200ff;stroke-width:47\"/><line x1=\"330\" y1=\"300\" x2=\"335\" y2=\"300\" stroke-linecap=\"round\" style=\"stroke:#ff00f9;stroke-width:48\"/><line x1=\"335\" y1=\"300\" x2=\"340\" y2=\"300\" stroke-linecap=\"round\" style=\"stroke:#ff00e6;stroke-width:49\"/><line x1=\"340\" y1=\"300\" x2=\"345\" y2=\"300\" stroke-linecap=\"round\" style=\"stroke:#ff00d2;stroke-width:50\"/><line x1=\"345\" y1=\"300\" x2=\"350\" y2=\"300\" stroke-linecap=\"round\" style=\"stroke:#ff00bf;stroke-width:51\"/><line x1=\"350\" y1=\"300\" x2=\"355\" y2=\"300\" stroke-linecap=\"round\" style=\"stroke:#ff00ac;stroke-width:52\"/><line x1=\"355\" y1=\"300\" x2=\"360\" y2=\"300\" stroke-linecap=\"round\" style=\"stroke:#ff0099;stroke-width:53\"/><line x1=\"360\" y1=\"300\" x2=\"365\" y2=\"300\" stroke-linecap=\"round\" style=\"stroke:#ff0086;stroke-width:54\"/><line x1=\"365\" y1=\"300\" x2=\"370\" y2=\"300\" stroke-linecap=\"round\" style=\"stroke:#ff0073;stroke-width:55\"/><line x1=\"370\" y1=\"300\" x2=\"375\" y2=\"300\" stroke-linecap=\"round\" style=\"stroke:#ff0060;stroke-width:56\"/><line x1=\"375\" y1=\"300\" x2=\"380\" y2=\"300\" stroke-linecap=\"round\" style=\"stroke:#ff004d;stroke-width:57\"/><line x1=\"380\" y1=\"300\" x2=\"385\" y2=\"300\" stroke-linecap=\"round\" style=\"stroke:#ff0039;stroke-width:58\"/><line x1=\"385\" y1=\"300\" x2=\"390\" y2=\"300\" stroke-linecap=\"round\" style=\"stroke:#ff0026;stroke-width:59\"/><line x1=\"390\" y1=\"300\" x2=\"395\" y2=\"300\" stroke-linecap=\"round\" style=\"stroke:#ff0013;stroke-width:60\"/><line x1=\"395\" y1=\"300\" x2=\"400\" y2=\"300\" stroke-linecap=\"round\" style=\"stroke:#ff0000;stroke-width:61\"/><line x1=\"400\" y1=\"300\" x2=\"405\" y2=\"300\" stroke-linecap=\"round\" style=\"stroke:#ff1300;stroke-width:62\"/><line x1=\"405\" y1=\"300\" x2=\"410\" y2=\"300\" stroke-linecap=\"round\" style=\"stroke:#ff2600;stroke-width:63\"/><line x1=\"410\" y1=\"300\" x2=\"415\" y2=\"300\" stroke-linecap=\"round\" style=\"stroke:#ff3900;stroke-width:64\"/><line x1=\"415\" y1=\"300\" x2=\"420\" y2=\"300\" stroke-linecap=\"round\" style=\"stroke:#ff4d00;stroke-width:65\"/><line x1=\"420\" y1=\"300\" x2=\"425\" y2=\"300\" stroke-linecap=\"round\" style=\"stroke:#ff6000;stroke-width:66\"/><line x1=\"425\" y1=\"300\" x2=\"430\" y2=\"300\" stroke-linecap=\"round\" style=\"stroke:#ff7300;stroke-width:67\"/><line x1=\"430\" y1=\"300\" x2=\"435\" y2=\"300\" stroke-linecap=\"round\" style=\"stroke:#ff8600;stroke-width:68\"/><line x1=\"435\" y1=\"300\" x2=\"440\" y2=\"300\" stroke-linecap=\"round\" style=\"stroke:#ff9900;stroke-width:69\"/><line x1=\"440\" y1=\"300\" x2=\"445\" y2=\"300\" stroke-linecap=\"round\" style=\"stroke:#ffac00;stroke-width:70\"/><line x1=\"445\" y1=\"300\" x2=\"450\" y2=\"300\" stroke-linecap=\"round\" style=\"stroke:#ffbf00;stroke-width:71\"/><line x1=\"450\" y1=\"300\" x2=\"455\" y2=\"300\" stroke-linecap=\"round\" style=\"stroke:#ffd200;stroke-width:72\"/><line x1=\"455\" y1=\"300\" x2=\"460\" y2=\"300\" stroke-linecap=\"round\" style=\"stroke:#ffe500;stroke-width:73\"/><line x1=\"460\" y1=\"300\" x2=\"465\" y2=\"300\" stroke-linecap=\"round\" style=\"stroke:#fff900;stroke-width:74\"/><line x1=\"465\" y1=\"300\" x2=\"470\" y2=\"300\" stroke-linecap=\"round\" style=\"stroke:#f2ff00;stroke-width:75\"/><line x1=\"470\" y1=\"300\" x2=\"475\" y2=\"300\" stroke-linecap=\"round\" style=\"stroke:#dfff00;stroke-width:76\"/><line x1=\"475\" y1=\"300\" x2=\"480\" y2=\"300\" stroke-linecap=\"round\" style=\"stroke:#ccff00;stroke-width:77\"/><line x1=\"480\" y1=\"300\" x2=\"485\" y2=\"300\" stroke-linecap=\"round\" style=\"stroke:#b9ff00;stroke-width:78\"/><line x1=\"485\" y1=\"300\" x2=\"490\" y2=\"300\" stroke-linecap=\"round\" style=\"stroke:#a6ff00;stroke-width:79\"/><line x1=\"490\" y1=\"300\" x2=\"495\" y2=\"300\" stroke-linecap=\"round\" style=\"stroke:#93ff00;stroke-width:80\"/><line x1=\"495\" y1=\"300\" x2=\"500\" y2=\"300\" stroke-linecap=\"round\" style=\"stroke:#80ff00;stroke-width:81\"/><line x1=\"500\" y1=\"300\" x2=\"505\" y2=\"300\" stroke-linecap=\"round\" style=\"stroke:#6cff00;stroke-width:82\"/><line x1=\"505\" y1=\"300\" x2=\"510\" y2=\"300\" stroke-linecap=\"round\" style=\"stroke:#59ff00;stroke-width:83\"/><line x1=\"510\" y1=\"300\" x2=\"515\" y2=\"300\" stroke-linecap=\"round\" style=\"stroke:#46ff00;stroke-width:84\"/><line x1=\"515\" y1=\"300\" x2=\"520\" y2=\"300\" stroke-linecap=\"round\" style=\"stroke:#33ff00;stroke-width:85\"/><line x1=\"520\" y1=\"300\" x2=\"525\" y2=\"300\" stroke-linecap=\"round\" style=\"stroke:#20ff00;stroke-width:86\"/><line x1=\"525\" y1=\"300\" x2=\"530\" y2=\"300\" stroke-linecap=\"round\" style=\"stroke:#0dff00;stroke-width:87\"/><line x1=\"530\" y1=\"300\" x2=\"535\" y2=\"300\" stroke-linecap=\"round\" style=\"stroke:#00ff06;stroke-width:88\"/><line x1=\"535\" y1=\"300\" x2=\"540\" y2=\"300\" stroke-linecap=\"round\" style=\"stroke:#00ff1a;stroke-width:89\"/><line x1=\"540\" y1=\"300\" x2=\"545\" y2=\"300\" stroke-linecap=\"round\" style=\"stroke:#00ff2d;stroke-width:90\"/><line x1=\"545\" y1=\"300\" x2=\"550\" y2=\"300\" stroke-linecap=\"round\" style=\"stroke:#00ff40;stroke-width:91\"/><line x1=\"550\" y1=\"300\" x2=\"555\" y2=\"300\" stroke-linecap=\"round\" style=\"stroke:#00ff53;stroke-width:92\"/><line x1=\"555\" y1=\"300\" x2=\"560\" y2=\"300\" stroke-linecap=\"round\" style=\"stroke:#00ff66;stroke-width:93\"/><line x1=\"560\" y1=\"300\" x2=\"565\" y2=\"300\" stroke-linecap=\"round\" style=\"stroke:#00ff79;stroke-width:94\"/><line x1=\"565\" y1=\"300\" x2=\"570\" y2=\"300\" stroke-linecap=\"round\" style=\"stroke:#00ff8c;stroke-width:95\"/><line x1=\"570\" y1=\"300\" x2=\"575\" y2=\"300\" stroke-linecap=\"round\" style=\"stroke:#00ff9f;stroke-width:96\"/><line x1=\"575\" y1=\"300\" x2=\"580\" y2=\"300\" stroke-linecap=\"round\" style=\"stroke:#00ffb2;stroke-width:97\"/><line x1=\"580\" y1=\"300\" x2=\"585\" y2=\"300\" stroke-linecap=\"round\" style=\"stroke:#00ffc6;stroke-width:98\"/><line x1=\"585\" y1=\"300\" x2=\"590\" y2=\"300\" stroke-linecap=\"round\" style=\"stroke:#00ffd9;stroke-width:99\"/><line x1=\"590\" y1=\"300\" x2=\"595\" y2=\"300\" stroke-linecap=\"round\" style=\"stroke:#00ffec;stroke-width:100\"/><line x1=\"595\" y1=\"300\" x2=\"600\" y2=\"300\" stroke-linecap=\"round\" style=\"stroke:#00ffff;stroke-width:101\"/><line x1=\"600\" y1=\"300\" x2=\"605\" y2=\"300\" stroke-linecap=\"round\" style=\"stroke:#00ecff;stroke-width:102\"/><line x1=\"605\" y1=\"300\" x2=\"610\" y2=\"300\" stroke-linecap=\"round\" style=\"stroke:#00d9ff;stroke-width:103\"/><line x1=\"610\" y1=\"300\" x2=\"615\" y2=\"300\" stroke-linecap=\"round\" style=\"stroke:#00c6ff;stroke-width:104\"/><line x1=\"615\" y1=\"300\" x2=\"620\" y2=\"300\" stroke-linecap=\"round\" style=\"stroke:#00b2ff;stroke-width:105\"/><line x1=\"620\" y1=\"300\" x2=\"625\" y2=\"300\" stroke-linecap=\"round\" style=\"stroke:#009fff;stroke-width:106\"/><line x1=\"625\" y1=\"300\" x2=\"630\" y2=\"300\" stroke-linecap=\"round\" style=\"stroke:#008cff;stroke-width:107\"/><line x1=\"630\" y1=\"300\" x2=\"635\" y2=\"300\" stroke-linecap=\"round\" style=\"stroke:#0079ff;stroke-width:108\"/><line x1=\"635\" y1=\"300\" x2=\"640\" y2=\"300\" stroke-linecap=\"round\" style=\"stroke:#0066ff;stroke-width:109\"/><line x1=\"640\" y1=\"300\" x2=\"645\" y2=\"300\" stroke-linecap=\"round\" style=\"stroke:#0053ff;stroke-width:110\"/><line x1=\"645\" y1=\"300\" x2=\"650\" y2=\"300\" stroke-linecap=\"round\" style=\"stroke:#0040ff;stroke-width:111\"/><line x1=\"650\" y1=\"300\" x2=\"655\" y2=\"300\" stroke-linecap=\"round\" style=\"stroke:#002dff;stroke-width:112\"/><line x1=\"655\" y1=\"300\" x2=\"660\" y2=\"300\" stroke-linecap=\"round\" style=\"stroke:#001aff;stroke-width:113\"/><line x1=\"660\" y1=\"300\" x2=\"665\" y2=\"300\" stroke-linecap=\"round\" style=\"stroke:#0006ff;stroke-width:114\"/><line x1=\"665\" y1=\"300\" x2=\"670\" y2=\"300\" stroke-linecap=\"round\" style=\"stroke:#0d00ff;stroke-width:115\"/><line x1=\"670\" y1=\"300\" x2=\"675\" y2=\"300\" stroke-linecap=\"round\" style=\"stroke:#2000ff;stroke-width:116\"/><line x1=\"675\" y1=\"300\" x2=\"680\" y2=\"300\" stroke-linecap=\"round\" style=\"stroke:#3300ff;stroke-width:117\"/><line x1=\"680\" y1=\"300\" x2=\"685\" y2=\"300\" stroke-linecap=\"round\" style=\"stroke:#4600ff;stroke-width:118\"/><line x1=\"685\" y1=\"300\" x2=\"690\" y2=\"300\" stroke-linecap=\"round\" style=\"stroke:#5900ff;stroke-width:119\"/><line x1=\"690\" y1=\"300\" x2=\"695\" y2=\"300\" stroke-linecap=\"round\" style=\"stroke:#6c00ff;stroke-width:120\"/><line x1=\"695\" y1=\"300\" x2=\"700\" y2=\"300\" stroke-linecap=\"round\" style=\"stroke:#8000ff;stroke-width:121\"/><line x1=\"700\" y1=\"300\" x2=\"705\" y2=\"300\" stroke-linecap=\"round\" style=\"stroke:#9300ff;stroke-width:122\"/><line x1=\"705\" y1=\"300\" x2=\"710\" y2=\"300\" stroke-linecap=\"round\" style=\"stroke:#a600ff;stroke-width:123\"/><line x1=\"710\" y1=\"300\" x2=\"715\" y2=\"300\" stroke-linecap=\"round\" style=\"stroke:#b900ff;stroke-width:124\"/><line x1=\"715\" y1=\"300\" x2=\"720\" y2=\"300\" stroke-linecap=\"round\" style=\"stroke:#cc00ff;stroke-width:125\"/><line x1=\"720\" y1=\"300\" x2=\"725\" y2=\"300\" stroke-linecap=\"round\" style=\"stroke:#df00ff;stroke-width:126\"/><line x1=\"725\" y1=\"300\" x2=\"730\" y2=\"300\" stroke-linecap=\"round\" style=\"stroke:#f200ff;stroke-width:127\"/><line x1=\"730\" y1=\"300\" x2=\"735\" y2=\"300\" stroke-linecap=\"round\" style=\"stroke:#ff00f9;stroke-width:128\"/><line x1=\"735\" y1=\"300\" x2=\"740\" y2=\"300\" stroke-linecap=\"round\" style=\"stroke:#ff00e5;stroke-width:129\"/><line x1=\"740\" y1=\"300\" x2=\"745\" y2=\"300\" stroke-linecap=\"round\" style=\"stroke:#ff00d2;stroke-width:130\"/><line x1=\"745\" y1=\"300\" x2=\"750\" y2=\"300\" stroke-linecap=\"round\" style=\"stroke:#ff00bf;stroke-width:131\"/><line x1=\"750\" y1=\"300\" x2=\"755\" y2=\"300\" stroke-linecap=\"round\" style=\"stroke:#ff00ac;stroke-width:132\"/><line x1=\"755\" y1=\"300\" x2=\"760\" y2=\"300\" stroke-linecap=\"round\" style=\"stroke:#ff0099;stroke-width:133\"/><line x1=\"760\" y1=\"300\" x2=\"765\" y2=\"300\" stroke-linecap=\"round\" style=\"stroke:#ff0086;stroke-width:134\"/><line x1=\"765\" y1=\"300\" x2=\"770\" y2=\"300\" stroke-linecap=\"round\" style=\"stroke:#ff0073;stroke-width:135\"/><line x1=\"770\" y1=\"300\" x2=\"775\" y2=\"300\" stroke-linecap=\"round\" style=\"stroke:#ff0060;stroke-width:136\"/><line x1=\"775\" y1=\"300\" x2=\"780\" y2=\"300\" stroke-linecap=\"round\" style=\"stroke:#ff004d;stroke-width:137\"/><line x1=\"780\" y1=\"300\" x2=\"785\" y2=\"300\" stroke-linecap=\"round\" style=\"stroke:#ff0039;stroke-width:138\"/><line x1=\"785\" y1=\"300\" x2=\"790\" y2=\"300\" stroke-linecap=\"round\" style=\"stroke:#ff0026;stroke-width:139\"/><line x1=\"790\" y1=\"300\" x2=\"795\" y2=\"300\" stroke-linecap=\"round\" style=\"stroke:#ff0013;stroke-width:140\"/><line x1=\"795\" y1=\"300\" x2=\"800\" y2=\"300\" stroke-linecap=\"round\" style=\"stroke:#ff0000;stroke-width:141\"/><line x1=\"800\" y1=\"300\" x2=\"805\" y2=\"300\" stroke-linecap=\"round\" style=\"stroke:#ff1300;stroke-width:142\"/><line x1=\"805\" y1=\"300\" x2=\"810\" y2=\"300\" stroke-linecap=\"round\" style=\"stroke:#ff2600;stroke-width:143\"/><line x1=\"810\" y1=\"300\" x2=\"815\" y2=\"300\" stroke-linecap=\"round\" style=\"stroke:#ff3900;stroke-width:144\"/><line x1=\"815\" y1=\"300\" x2=\"820\" y2=\"300\" stroke-linecap=\"round\" style=\"stroke:#ff4c00;stroke-width:145\"/><line x1=\"820\" y1=\"300\" x2=\"825\" y2=\"300\" stroke-linecap=\"round\" style=\"stroke:#ff6000;stroke-width:146\"/><line x1=\"825\" y1=\"300\" x2=\"830\" y2=\"300\" stroke-linecap=\"round\" style=\"stroke:#ff7300;stroke-width:147\"/><line x1=\"830\" y1=\"300\" x2=\"835\" y2=\"300\" stroke-linecap=\"round\" style=\"stroke:#ff8600;stroke-width:148\"/><line x1=\"835\" y1=\"300\" x2=\"840\" y2=\"300\" stroke-linecap=\"round\" style=\"stroke:#ff9900;stroke-width:149\"/><line x1=\"840\" y1=\"300\" x2=\"845\" y2=\"300\" stroke-linecap=\"round\" style=\"stroke:#ffac00;stroke-width:150\"/><line x1=\"845\" y1=\"300\" x2=\"850\" y2=\"300\" stroke-linecap=\"round\" style=\"stroke:#ffbf00;stroke-width:151\"/><line x1=\"850\" y1=\"300\" x2=\"855\" y2=\"300\" stroke-linecap=\"round\" style=\"stroke:#ffd200;stroke-width:152\"/><line x1=\"855\" y1=\"300\" x2=\"860\" y2=\"300\" stroke-linecap=\"round\" style=\"stroke:#ffe500;stroke-width:153\"/><line x1=\"860\" y1=\"300\" x2=\"865\" y2=\"300\" stroke-linecap=\"round\" style=\"stroke:#fff900;stroke-width:154\"/><line x1=\"865\" y1=\"300\" x2=\"870\" y2=\"300\" stroke-linecap=\"round\" style=\"stroke:#f2ff00;stroke-width:155\"/><line x1=\"870\" y1=\"300\" x2=\"875\" y2=\"300\" stroke-linecap=\"round\" style=\"stroke:#dfff00;stroke-width:156\"/><line x1=\"875\" y1=\"300\" x2=\"880\" y2=\"300\" stroke-linecap=\"round\" style=\"stroke:#ccff00;stroke-width:157\"/><line x1=\"880\" y1=\"300\" x2=\"885\" y2=\"300\" stroke-linecap=\"round\" style=\"stroke:#b9ff00;stroke-width:158\"/><line x1=\"885\" y1=\"300\" x2=\"890\" y2=\"300\" stroke-linecap=\"round\" style=\"stroke:#a6ff00;stroke-width:159\"/><line x1=\"890\" y1=\"300\" x2=\"895\" y2=\"300\" stroke-linecap=\"round\" style=\"stroke:#93ff00;stroke-width:160\"/>\n",
              "        \n",
              "      <g visibility=hidden transform=\"rotate(180,895,300) translate(895, 300)\">\n",
              "        <circle stroke=\"#93ff00\" stroke-width=\"3\" fill=\"transparent\" r=\"12\" cx=\"0\" cy=\"0\"/>\n",
              "        <polygon points=\"0,19 3,16 -3,16\" style=\"fill:#93ff00;stroke:#93ff00;stroke-width:2\"/>\n",
              "      </g>\n",
              "    \n",
              "      </svg>\n",
              "    <script>\n",
              "function saveSVG() {\n",
              "  var svg = document.querySelector( \"svg\" );\n",
              "  var svgData = new XMLSerializer().serializeToString( svg ); \n",
              "  var canvas = document.createElement( \"canvas\" );\n",
              "  var ctx = canvas.getContext( \"2d\" );\n",
              "  var img = document.createElement( \"img\" );\n",
              "  img.setAttribute( \"src\", \"data:image/svg+xml;base64,\" + btoa( svgData ) );\n",
              "\n",
              "  img.onload = function() {\n",
              "    ctx.canvas.width=1000;\n",
              "    ctx.canvas.height=600;\n",
              "    ctx.drawImage( img, 0, 0 );\n",
              "    \n",
              "    var a = document.createElement(\"a\");\n",
              "    a.download = \"turtle.png\";\n",
              "    a.href = canvas.toDataURL(\"image/png\");\n",
              "    a.click();};\n",
              "}\n",
              "</script>\n",
              "<div><button onclick=\"saveSVG()\">Save image as PNG</button>\n"
            ],
            "text/plain": [
              "<IPython.core.display.HTML object>"
            ]
          },
          "metadata": {
            "tags": []
          }
        }
      ]
    },
    {
      "cell_type": "code",
      "metadata": {
        "id": "xnSCUq38O3xp"
      },
      "source": [
        ""
      ],
      "execution_count": null,
      "outputs": []
    }
  ]
}