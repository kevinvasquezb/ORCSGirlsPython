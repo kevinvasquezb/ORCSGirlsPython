{
  "nbformat": 4,
  "nbformat_minor": 0,
  "metadata": {
    "colab": {
      "name": "MakeArt",
      "provenance": [],
      "include_colab_link": true
    },
    "kernelspec": {
      "name": "python3",
      "display_name": "Python 3"
    }
  },
  "cells": [
    {
      "cell_type": "markdown",
      "metadata": {
        "id": "view-in-github",
        "colab_type": "text"
      },
      "source": [
        "<a href=\"https://colab.research.google.com/github/tproffen/ORCSGirlsPython/blob/master/ComputerArt/MakeArt.ipynb\" target=\"_parent\"><img src=\"https://colab.research.google.com/assets/colab-badge.svg\" alt=\"Open In Colab\"/></a>"
      ]
    },
    {
      "cell_type": "markdown",
      "metadata": {
        "id": "MzwIrb8coQbv"
      },
      "source": [
        "\n",
        "<img src=\"https://github.com/tproffen/ORCSGirlsPython/blob/master/Images/Logo.png?raw=1\" width=\"10%\" align=\"right\" hspace=\"50\">\n",
        "\n",
        "# Computer Art\n",
        "\n",
        "Here is the Python Notebook we will using to create our computer art. Make sure you run the cell below, so all the turtle graphics routines are working.\n",
        "\n",
        "Follow the link for a list of all [turtle grapics commands](https://github.com/tproffen/ORCSGirlsPython/blob/master/ArtisticMath/README.md).\n",
        "\n",
        "## Have fun!\n"
      ]
    },
    {
      "cell_type": "code",
      "metadata": {
        "id": "v4VZnSuNBVvi"
      },
      "source": [
        "!curl -s -o setup.sh https://raw.githubusercontent.com/tproffen/ORCSGirlsPython/master/ArtisticMath/Helpers/setup_activities.sh\n",
        "!bash setup.sh\n",
        "from Helpers.helpers import *"
      ],
      "execution_count": null,
      "outputs": []
    },
    {
      "cell_type": "markdown",
      "metadata": {
        "id": "7demtP3c3fFV"
      },
      "source": [
        "## Time to get artsy. \n",
        "\n",
        "Create your work of art below using all the functions, colors and line widths you crave. Once done, save the art work using the Save button below the drawing and share it on the Jamboard 🎨"
      ]
    },
    {
      "cell_type": "code",
      "metadata": {
        "id": "FK1l55N9oLQZ"
      },
      "source": [
        "initializeTurtle()\n",
        "\n",
        "# Drawing code here\n",
        "\n",
        "show()"
      ],
      "execution_count": null,
      "outputs": []
    }
  ]
}