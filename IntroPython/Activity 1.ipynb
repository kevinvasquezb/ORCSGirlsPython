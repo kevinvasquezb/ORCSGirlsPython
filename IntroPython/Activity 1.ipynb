{
  "nbformat": 4,
  "nbformat_minor": 0,
  "metadata": {
    "colab": {
      "name": "Activity 1.ipynb",
      "provenance": [],
      "include_colab_link": true
    },
    "kernelspec": {
      "display_name": "Python 3",
      "language": "python",
      "name": "python3"
    }
  },
  "cells": [
    {
      "cell_type": "markdown",
      "metadata": {
        "id": "view-in-github",
        "colab_type": "text"
      },
      "source": [
        "<a href=\"https://colab.research.google.com/github/tproffen/ORCSGirlsPython/blob/master/IntroPython/Activity%201.ipynb\" target=\"_parent\"><img src=\"https://colab.research.google.com/assets/colab-badge.svg\" alt=\"Open In Colab\"/></a>"
      ]
    },
    {
      "cell_type": "markdown",
      "metadata": {
        "id": "orTspLZozEUb"
      },
      "source": [
        "<img src=\"https://github.com/tproffen/ORCSGirlsPython/blob/master/Images/Logo.png?raw=1\" width=\"10%\" align=\"right\" hpsace=\"50\">\n",
        "\n",
        "# Introduction to Python\n",
        "\n",
        "## Activity 1 - Getting to know Jupyter Notebooks / Google Colab\n",
        "\n",
        "Each of these fields is called a *cell*. You can switch the type using the drop down menu above. We will use two types of cells\n",
        "\n",
        "\n",
        "```\n",
        "# This is formatted as code\n",
        "```\n",
        "\n",
        "\n",
        "- **Markdown**: This allows to add text and explainations to your notebook. \n",
        "- **Python**: This allows you to enter and execute Python code."
      ]
    },
    {
      "cell_type": "markdown",
      "metadata": {
        "id": "CO2irPa1zEUc"
      },
      "source": [
        "### Markdown syntax:\n",
        "\n",
        "- Bold **text** - write `**text**`\n",
        "- Italics *text* - write `*italics*`\n",
        "- Headings - write `# Heading 1` or `## Heading 2` or `### Heading 3`\n",
        "- Links, e.g. __[Google](www.google.com)__ - write `__[Google](www.google.com)__`\n",
        "\n",
        "Finally to execute the contents of your cell, press `shift+enter`\n",
        "\n",
        "#### Your turn\n",
        "\n",
        "In the blank cell below, change the type to **markdown** and enter your first name as heading, your school in **bold font** and your grade in *italics*. \n",
        "\n"
      ]
    },
    {
      "cell_type": "markdown",
      "metadata": {
        "collapsed": true,
        "id": "-t5V-sBGzEUe"
      },
      "source": [
        "\n",
        "Your text here .."
      ]
    },
    {
      "cell_type": "markdown",
      "metadata": {
        "id": "v0l1cCAtzEUf"
      },
      "source": [
        "### Ready for some Python?\n",
        "\n",
        "#### Hello world\n",
        "Let us start with writing `Hello world` on the screen. Make sure the type of the cell is **code** by checking the dropdown menu at the top. In the cell below enter \n",
        "\n",
        "> `print (\"Hello world\")` \n",
        "\n",
        "and press `shift+enter`. Change the text and have it print your name."
      ]
    },
    {
      "cell_type": "code",
      "metadata": {
        "id": "6xDqymrvzEUg"
      },
      "source": [
        "print (\"Hello\")"
      ],
      "execution_count": null,
      "outputs": []
    },
    {
      "cell_type": "markdown",
      "metadata": {
        "id": "T89BLYnuzEUm"
      },
      "source": [
        "### Cells and saving\n",
        "\n",
        "Look at the menu above. Click the `save` symbol to save your notebook. \n",
        "\n",
        "If you want to add a cell, click `Insert` and then `Insert cell above` or `insert cell below`. \n",
        "\n",
        "Try it now, **add a new cell above this one** and then type \n",
        "\n",
        "> `import this` \n",
        "\n",
        "into the new cell followed by `shift+return`. \n",
        "\n",
        "### You have discovered the *Zen of Python*\n",
        "\n",
        "\n",
        "## The End"
      ]
    },
    {
      "cell_type": "code",
      "metadata": {
        "id": "yFmTC4WTzEUm"
      },
      "source": [
        "import this"
      ],
      "execution_count": null,
      "outputs": []
    },
    {
      "cell_type": "code",
      "metadata": {
        "id": "i7mfvH28zEUr"
      },
      "source": [
        ""
      ],
      "execution_count": null,
      "outputs": []
    }
  ]
}