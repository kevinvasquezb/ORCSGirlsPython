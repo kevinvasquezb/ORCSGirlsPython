{
  "nbformat": 4,
  "nbformat_minor": 0,
  "metadata": {
    "colab": {
      "name": "QuickDrawDemos.ipynb",
      "private_outputs": true,
      "provenance": [],
      "collapsed_sections": [],
      "include_colab_link": true
    },
    "kernelspec": {
      "name": "python3",
      "display_name": "Python 3"
    }
  },
  "cells": [
    {
      "cell_type": "markdown",
      "metadata": {
        "id": "view-in-github",
        "colab_type": "text"
      },
      "source": [
        "<a href=\"https://colab.research.google.com/github/tproffen/ORCSGirlsPython/blob/master/DoodleMining/QuickDrawDemos.ipynb\" target=\"_parent\"><img src=\"https://colab.research.google.com/assets/colab-badge.svg\" alt=\"Open In Colab\"/></a>"
      ]
    },
    {
      "cell_type": "markdown",
      "metadata": {
        "id": "xy07cjGx0KRJ"
      },
      "source": [
        "<img src=\"https://github.com/tproffen/ORCSGirlsPython/blob/master/Images/Logo.png?raw=1\" width=\"10%\" align=\"right\" hpsace=\"50\">\n",
        "\n",
        "# Doodle Data Mining\n",
        "\n",
        "## Demonstration of using the Quickdraw dataset\n",
        "\n",
        "* Quickdraw: https://quickdraw.withgoogle.com/ \n",
        "* Quickdraw dataset: https://quickdraw.withgoogle.com/data\n",
        "* Quickdraw API: https://quickdraw.readthedocs.io/en/latest/index.html\n",
        "\n",
        "* All valid categories are here : https://github.com/googlecreativelab/quickdraw-dataset/blob/master/categories.txt\n",
        "\n",
        "**More reading**\n",
        "* https://opensource.googleblog.com/2018/11/introducing-web-component-and-data-api-for-quick-draw.html\n",
        "\n",
        "Here are the completed examples from the activity notebooks. For details refer to the activity notebooks.\n",
        "\n",
        "## Run these calls first\n",
        "\n",
        "The two cells below need to be executed first. They install the Quickdraw API and load the needed Python modules."
      ]
    },
    {
      "cell_type": "code",
      "metadata": {
        "id": "KLNqtBl2v96o"
      },
      "source": [
        "!curl -s -o setup.sh https://raw.githubusercontent.com/tproffen/ORCSGirlsPython/master/DoodleMining/Helpers/setup_activity1.sh\n",
        "!bash setup.sh\n",
        "\n",
        "from Helpers.helpers import *"
      ],
      "execution_count": null,
      "outputs": []
    },
    {
      "cell_type": "markdown",
      "metadata": {
        "id": "sfcPV8POwd3X"
      },
      "source": [
        "# Activity 1\n",
        "## Retrieving drawings\n",
        "### Information about a single doodle"
      ]
    },
    {
      "cell_type": "code",
      "metadata": {
        "id": "E2Ybq8m4wczB"
      },
      "source": [
        "what=\"spider\"\n",
        "doodles = QuickDrawDataGroup(what)"
      ],
      "execution_count": null,
      "outputs": []
    },
    {
      "cell_type": "code",
      "metadata": {
        "id": "4azroEjpwtX3"
      },
      "source": [
        "doodle = doodles.get_drawing()"
      ],
      "execution_count": null,
      "outputs": []
    },
    {
      "cell_type": "code",
      "metadata": {
        "id": "veX2keAcwmsA"
      },
      "source": [
        "dir(doodle)"
      ],
      "execution_count": null,
      "outputs": []
    },
    {
      "cell_type": "code",
      "metadata": {
        "id": "-S4c09XWwpzA"
      },
      "source": [
        "print (doodle.countrycode)\n",
        "print (datetime.fromtimestamp(doodle.timestamp))\n",
        "print (len(doodle.strokes))"
      ],
      "execution_count": null,
      "outputs": []
    },
    {
      "cell_type": "markdown",
      "metadata": {
        "id": "egNDdXLOw6VI"
      },
      "source": [
        "### Drawing a single doodle"
      ]
    },
    {
      "cell_type": "code",
      "metadata": {
        "id": "1fJTyzpJwxCA"
      },
      "source": [
        "what=\"firetruck\"\n",
        "doodles = QuickDrawDataGroup(what)"
      ],
      "execution_count": null,
      "outputs": []
    },
    {
      "cell_type": "code",
      "metadata": {
        "id": "snAh6Xzew9pY"
      },
      "source": [
        "doodle = doodles.get_drawing()\n",
        "image = doodle.get_image(stroke_color=(255, 0, 0), stroke_width=3, bg_color=(255, 255, 0))\n",
        "plot_image(image)\n",
        "\n",
        "print (\"Country: \",doodle.countrycode)\n",
        "print (\"Date\",datetime.fromtimestamp(doodle.timestamp))\n",
        "print (\"Number of strokes: \",len(doodle.strokes))"
      ],
      "execution_count": null,
      "outputs": []
    },
    {
      "cell_type": "markdown",
      "metadata": {
        "id": "qMH5DioJxD7Y"
      },
      "source": [
        "## Retrieving doodles by country"
      ]
    },
    {
      "cell_type": "code",
      "metadata": {
        "id": "hQEOf9UzxAvQ"
      },
      "source": [
        "what = \"bread\"\n",
        "doodles = QuickDrawDataGroup(what, max_drawings=5000, recognized=True)"
      ],
      "execution_count": null,
      "outputs": []
    },
    {
      "cell_type": "code",
      "metadata": {
        "id": "u2HdhfduxHKA"
      },
      "source": [
        "# List of countries\n",
        "countries = [\"US\", \"FR\"]\n",
        "# How many columns (or doodles for each country)\n",
        "cols = 5  \n",
        "\n",
        "plt.figure(figsize=(20, 15)) # Makes the plot bigger\n",
        "\n",
        "index=1\n",
        "for country in countries:\n",
        "  # This gets drawings for the given country code\n",
        "  doodles_country=doodles.search_drawings(countrycode=country)\n",
        "  # We shuffle the returned list, so we get different drawings when re-running\n",
        "  random.shuffle(doodles_country)\n",
        "\n",
        "  for col in range(cols):\n",
        "    img = doodles_country[col].get_image()\n",
        "    plt.subplot(len(countries), cols, index)\n",
        "    plt.imshow(img)\n",
        "    plt.title(country)\n",
        "    plt.axis('off')\n",
        "    index+=1;\n",
        "\n",
        "plt.show()"
      ],
      "execution_count": null,
      "outputs": []
    },
    {
      "cell_type": "markdown",
      "metadata": {
        "id": "JeHQCf45xMav"
      },
      "source": [
        "# Activity 2\n",
        "## Let's see how a doodle was drawn\n"
      ]
    },
    {
      "cell_type": "code",
      "metadata": {
        "id": "9-j1phIuxJsw"
      },
      "source": [
        "what=\"sun\"\n",
        "doodles = QuickDrawDataGroup(what)"
      ],
      "execution_count": null,
      "outputs": []
    },
    {
      "cell_type": "code",
      "metadata": {
        "id": "xRDpmjCfxQ1J"
      },
      "source": [
        "doodle = doodles.get_drawing()\n",
        "\n",
        "# print doodle\n",
        "print (doodle)\n",
        "# print the number of lines\n",
        "print (len(doodle.strokes))\n",
        "\n",
        "# Get the points for the first line line\n",
        "line=doodle.strokes[0]\n",
        "print (line)\n",
        "# now get the x and y of the first point (there are a tuple, so you can do (x,y) = ..)\n",
        "(x,y)=line[0]\n",
        "print(x,y)"
      ],
      "execution_count": null,
      "outputs": []
    },
    {
      "cell_type": "code",
      "metadata": {
        "id": "CBQN1cOWxXsQ"
      },
      "source": [
        "initializeTurtle()\n",
        "showturtle()\n",
        "\n",
        "for stroke in doodle.strokes:\n",
        "  penup()\n",
        "  for x,y in stroke:\n",
        "    goto(300+x,200+y)\n",
        "    pendown()\n",
        "\n",
        "show()"
      ],
      "execution_count": null,
      "outputs": []
    },
    {
      "cell_type": "markdown",
      "metadata": {
        "id": "Ts0Yt-UlxfhT"
      },
      "source": [
        "## Project: How do people draw circles"
      ]
    },
    {
      "cell_type": "code",
      "metadata": {
        "id": "9Su3cv3zxanX"
      },
      "source": [
        "def winding(stroke):\n",
        "  if (len(stroke) < 3):\n",
        "    return 0\n",
        "  else:\n",
        "    (xa,ya) = stroke[0]    \n",
        "    (xb,yb) = stroke[1]    \n",
        "    (xc,yc) = stroke[2]\n",
        "    return (xb*yc+xa*yb+ya*xc) - (ya*xb+yb*xc+xa*yc)"
      ],
      "execution_count": null,
      "outputs": []
    },
    {
      "cell_type": "code",
      "metadata": {
        "id": "6AdoXhtSxpBK"
      },
      "source": [
        "what = \"circle\"\n",
        "all = QuickDrawDataGroup(what, max_drawings=50000, recognized=True)"
      ],
      "execution_count": null,
      "outputs": []
    },
    {
      "cell_type": "code",
      "metadata": {
        "id": "IbiyuFpSxdug"
      },
      "source": [
        "countries = [\"US\", \"JP\", \"DE\", \"TW\"]\n",
        "countries_cw = []\n",
        "\n",
        "for country in countries:\n",
        "  doodles=all.search_drawings(countrycode=country)\n",
        "  count=0\n",
        "  for doodle in doodles:\n",
        "    w=winding(doodle.strokes[-1])\n",
        "    if (w>0):\n",
        "      count +=1\n",
        "  percent_cw=100*count/len(doodles)\n",
        "  countries_cw.append(percent_cw)\n",
        "\n",
        "print(countries, countries_cw)"
      ],
      "execution_count": null,
      "outputs": []
    },
    {
      "cell_type": "code",
      "metadata": {
        "id": "kHpdcal1xlWw"
      },
      "source": [
        "plot(countries_cw, countries)"
      ],
      "execution_count": null,
      "outputs": []
    },
    {
      "cell_type": "code",
      "metadata": {
        "id": "cPsMguXExtA5"
      },
      "source": [
        "# Let create two functions, so we can reuse them as needed.\n",
        "\n",
        "# Function sort_doodles \n",
        "# Sort the doodles into cw and ccw\n",
        "\n",
        "def sort_doodles(doodles):\n",
        "  cw = []\n",
        "  ccw = []\n",
        "\n",
        "  for doodle in doodles[:30]:\n",
        "    w=winding(doodle.strokes[-1])\n",
        "    if (w>0):\n",
        "      cw.append(doodle.strokes[-1])\n",
        "    else:\n",
        "      ccw.append(doodle.strokes[-1])\n",
        "  return(cw, ccw)\n",
        "\n",
        "# Function draw_doodles\n",
        "# Draw doodles using the turtle. Needs to be called\n",
        "# after initializeTurtle.\n",
        "\n",
        "def draw_doodles(x_start,y_start,col,strokes):\n",
        "  for stroke in strokes:\n",
        "    color(col)\n",
        "    penup()\n",
        "    for x,y in stroke:\n",
        "      goto(x_start+x,y_start+y)\n",
        "      pendown()\n",
        "\n",
        "\n",
        "# Making the master plot using our new functions\n",
        "\n",
        "initializeTurtle()\n",
        "\n",
        "doodles=all.search_drawings(countrycode=\"US\")\n",
        "(us_cw, us_ccw) = sort_doodles(doodles)\n",
        "draw_doodles( 10, 10,'red',us_cw)\n",
        "draw_doodles(400, 10,'blue',us_ccw)\n",
        "print (\"US: cw:\",len(us_cw),\" ccw:\",len(us_ccw))\n",
        "\n",
        "doodles=all.search_drawings(countrycode=\"JP\")\n",
        "(jp_cw, jp_ccw) = sort_doodles(doodles)\n",
        "draw_doodles( 10,300,'red',jp_cw)\n",
        "draw_doodles(400,300,'blue',jp_ccw)\n",
        "print (\"JP: cw:\",len(jp_cw),\" ccw:\",len(jp_ccw))\n",
        "\n",
        "show()"
      ],
      "execution_count": null,
      "outputs": []
    },
    {
      "cell_type": "code",
      "metadata": {
        "id": "qOSo7aSax07w"
      },
      "source": [
        ""
      ],
      "execution_count": null,
      "outputs": []
    }
  ]
}