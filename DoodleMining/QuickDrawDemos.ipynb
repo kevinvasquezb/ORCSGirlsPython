{
  "nbformat": 4,
  "nbformat_minor": 0,
  "metadata": {
    "colab": {
      "name": "QuickDrawDemos.ipynb",
      "private_outputs": true,
      "provenance": [],
      "collapsed_sections": [],
      "include_colab_link": true
    },
    "kernelspec": {
      "name": "python3",
      "display_name": "Python 3"
    }
  },
  "cells": [
    {
      "cell_type": "markdown",
      "metadata": {
        "id": "view-in-github",
        "colab_type": "text"
      },
      "source": [
        "<a href=\"https://colab.research.google.com/github/tproffen/ORCSGirlsPython/blob/master/DoodleMining/QuickDrawDemos.ipynb\" target=\"_parent\"><img src=\"https://colab.research.google.com/assets/colab-badge.svg\" alt=\"Open In Colab\"/></a>"
      ]
    },
    {
      "cell_type": "markdown",
      "metadata": {
        "id": "xy07cjGx0KRJ"
      },
      "source": [
        "<img src=\"https://github.com/tproffen/ORCSGirlsPython/blob/master/Images/Logo.png?raw=1\" width=\"10%\" align=\"right\" hpsace=\"50\">\n",
        "\n",
        "# Doodle Data Mining\n",
        "\n",
        "## Demonstration of using the Quickdraw dataset\n",
        "\n",
        "* Quickdraw: https://quickdraw.withgoogle.com/ \n",
        "* Quickdraw dataset: https://quickdraw.withgoogle.com/data\n",
        "* Quickdraw API: https://quickdraw.readthedocs.io/en/latest/index.html\n",
        "\n",
        "* All valid categories are here : https://github.com/googlecreativelab/quickdraw-dataset/blob/master/categories.txt\n",
        "\n",
        "**More reading**\n",
        "\n",
        "* https://opensource.googleblog.com/2018/11/introducing-web-component-and-data-api-for-quick-draw.html"
      ]
    },
    {
      "cell_type": "markdown",
      "metadata": {
        "id": "GCkU9KXJi4MR"
      },
      "source": [
        "## Run these calls first\n",
        "\n",
        "The two cells below need to be executed first. They install the Quickdraw API and load the needed Python modules."
      ]
    },
    {
      "cell_type": "code",
      "metadata": {
        "id": "LkcKJcjhwmHe"
      },
      "source": [
        "!curl -s -o setup.sh https://raw.githubusercontent.com/tproffen/ORCSGirlsPython/master/DoodleMining/Helpers/setup_activity1.sh\r\n",
        "!bash setup.sh\r\n",
        "\r\n",
        "from Helpers.helpers import *"
      ],
      "execution_count": null,
      "outputs": []
    },
    {
      "cell_type": "markdown",
      "metadata": {
        "id": "xdgAOguMzgGK"
      },
      "source": [
        "## Retrieving drawings\n",
        "### Drawing the image of a single doodle\n",
        "\n",
        "First we retrieve a number of drawings of spiders (default is 1000, but we change that later). Then we get the image of one and display it. For a list of all objects it knows, click <a href=\"https://github.com/googlecreativelab/quickdraw-dataset/blob/master/categories.txt\" target=\"_blank\">here</a>."
      ]
    },
    {
      "cell_type": "code",
      "metadata": {
        "id": "rOQ950PLz_ka"
      },
      "source": [
        "what=\"spider\"\n",
        "doodles = QuickDrawDataGroup(what)"
      ],
      "execution_count": null,
      "outputs": []
    },
    {
      "cell_type": "markdown",
      "metadata": {
        "id": "f5OEq3ILyVm4"
      },
      "source": [
        "We separated this, because we want to retrieve the 1000 spiders only once, but rerunning the cell below allows us to look at different spiders. Also note, the command `drawing.get_image()` has optional parameters. To draw a red spider with thicker lines on yellow, you could change it to `drawing.get_image(stroke_color=(255, 0, 0), stroke_width=3, bg_color=(255, 255, 0))`"
      ]
    },
    {
      "cell_type": "code",
      "metadata": {
        "id": "tqOPbXp0YGrc"
      },
      "source": [
        " doodle = doodles.get_drawing()\n",
        " image = doodle.get_image()\n",
        "\n",
        "plt.figure()\n",
        "plt.imshow(image)\n",
        "plt.axis(\"off\")\n",
        "plt.show()\n",
        "\n",
        "print (\"Country: \",doodle.countrycode)\n",
        "print (\"Date\",datetime.fromtimestamp(doodle.timestamp))\n",
        "print (\"Number of strokes: \",len(doodle.strokes))"
      ],
      "execution_count": null,
      "outputs": []
    },
    {
      "cell_type": "markdown",
      "metadata": {
        "id": "hKWlyM1W5__-"
      },
      "source": [
        "### Displaying multiple doodles\n",
        "\n",
        "Imagine you want to see multiple doodles on one plot with a title which country every doodle is from. It is as simple as adding a `for` loop (and some plotting magic)."
      ]
    },
    {
      "cell_type": "code",
      "metadata": {
        "id": "8-VtyufS60Sx"
      },
      "source": [
        "plt.figure(figsize=(15, 10)) # Makes the plot area bigger\n",
        "\n",
        "# How many rows and columns of doodles we want\n",
        "rows = 3\n",
        "cols = 5\n",
        "\n",
        "for i in range(rows * cols):\n",
        "  \n",
        "  doodle = doodles.get_drawing()\n",
        "  doodleimg = doodle.get_image(stroke_color=(0, 0, 255), stroke_width=3, bg_color=(255, 220, 220))\n",
        "\n",
        "  plt.subplot(rows, cols, i+1)\n",
        "  plt.imshow(doodleimg)\n",
        "  plt.title(\"Country: \" + doodle.countrycode)\n",
        "  plt.axis('off')\n",
        "\n",
        "plt.show()\n"
      ],
      "execution_count": null,
      "outputs": []
    },
    {
      "cell_type": "markdown",
      "metadata": {
        "id": "M2kqvq1mG0HI"
      },
      "source": [
        "### Sorting them by country\n",
        "\n",
        "Since we know the country each doodle came from, we can compare drawing styles :) We loop over the countries we want to show and use the `search_drawings` method to get drawings for each country. For a list of valid country codes click <a href=\"https://www.iban.com/country-codes\" target=\"_blank\">here</a>."
      ]
    },
    {
      "cell_type": "code",
      "metadata": {
        "id": "yhQiaVOf-sQd"
      },
      "source": [
        "what = \"bread\"\n",
        "doodles = QuickDrawDataGroup(what, max_drawings=5000, recognized=True)\n"
      ],
      "execution_count": null,
      "outputs": []
    },
    {
      "cell_type": "code",
      "metadata": {
        "id": "BouEnet6YbTK"
      },
      "source": [
        "countries = [\"US\", \"JP\", \"FR\", \"CL\"]\n",
        "cols = 7  \n",
        "\n",
        "plt.figure(figsize=(20, 15))\n",
        "\n",
        "index=1\n",
        "for country in countries:\n",
        "  doodles_country=doodles.search_drawings(countrycode=country)\n",
        "  random.shuffle(doodles_country)\n",
        "\n",
        "  for col in range(cols):\n",
        "    img = doodles_country[col].get_image(stroke_color=(255,0,0), stroke_width=3, bg_color=(240,240,240))\n",
        "    plt.subplot(len(countries), cols, index)\n",
        "    plt.imshow(img)\n",
        "    plt.title(country)\n",
        "    plt.axis('off')\n",
        "    index+=1;\n",
        "\n",
        "plt.show()"
      ],
      "execution_count": null,
      "outputs": []
    },
    {
      "cell_type": "markdown",
      "metadata": {
        "id": "13xv7PRm4isd"
      },
      "source": [
        "## Let's try an animation of a doodle"
      ]
    },
    {
      "cell_type": "code",
      "metadata": {
        "id": "gl7oRruA5q4l"
      },
      "source": [
        "# Get a spider\n",
        "\n",
        "what=\"spider\"\n",
        "\n",
        "qd = QuickDrawData()\n",
        "spider=qd.get_drawing(what)"
      ],
      "execution_count": null,
      "outputs": []
    },
    {
      "cell_type": "code",
      "metadata": {
        "id": "k4bpM5kW4mE2"
      },
      "source": [
        "# Using the turtle grapics (from Artistic Math) we redraw the doodle\n",
        "\n",
        "initializeTurtle()\n",
        "bgcolor('purple')\n",
        "color('white')\n",
        "width(3)\n",
        "showturtle()\n",
        "\n",
        "for stroke in spider.strokes:\n",
        "  color(color_random())\n",
        "  penup()\n",
        "  for x,y in stroke:\n",
        "    goto(300+x,200+y)\n",
        "    pendown()\n",
        "\n",
        "show()"
      ],
      "execution_count": null,
      "outputs": []
    },
    {
      "cell_type": "markdown",
      "metadata": {
        "id": "0byynswA7XOI"
      },
      "source": [
        "## Project: How do people draw circles\r\n",
        "\r\n",
        "See if we can determine if a circle is drawin clock wise or counter clock wise and see if there are differences by country."
      ]
    },
    {
      "cell_type": "code",
      "metadata": {
        "id": "I-7NSKs1Kt4i"
      },
      "source": [
        "what = \"circle\"\r\n",
        "all = QuickDrawDataGroup(what, max_drawings=50000, recognized=True)"
      ],
      "execution_count": null,
      "outputs": []
    },
    {
      "cell_type": "code",
      "metadata": {
        "id": "CWqgHGYBFsnH"
      },
      "source": [
        "# From https://en.wikipedia.org/wiki/Curve_orientation#Orientation_of_a_simple_polygon\r\n",
        "\r\n",
        "def winding(stroke):\r\n",
        "  if (len(stroke) < 3):\r\n",
        "    return 0\r\n",
        "  else:\r\n",
        "    (xa,ya) = stroke[0]    \r\n",
        "    (xb,yb) = stroke[1]    \r\n",
        "    (xc,yc) = stroke[2]\r\n",
        "    return (xb*yc+xa*yb+ya*xc) - (ya*xb+yb*xc+xa*yc)"
      ],
      "execution_count": null,
      "outputs": []
    },
    {
      "cell_type": "code",
      "metadata": {
        "id": "wYwMYMoO8SmY"
      },
      "source": [
        "countries = [\"US\", \"JP\", \"DE\", \"TW\", \"KR\"]\r\n",
        "countries_cw = []\r\n",
        "\r\n",
        "for country in countries:\r\n",
        "  doodles=all.search_drawings(countrycode=country)\r\n",
        "  count=0\r\n",
        "  for doodle in doodles:\r\n",
        "    w=winding(doodle.strokes[-1])\r\n",
        "    if (w>0):\r\n",
        "      count +=1\r\n",
        "  countries_cw.append(100*count/len(doodles))\r\n",
        "\r\n",
        "print(countries, countries_cw)"
      ],
      "execution_count": null,
      "outputs": []
    },
    {
      "cell_type": "code",
      "metadata": {
        "id": "8_xmaBE-9cnw"
      },
      "source": [
        "plt.figure(figsize=(12, 8))\r\n",
        "    \r\n",
        "pos = list(range(len(countries_cw)))\r\n",
        "plt.bar(pos, countries_cw)\r\n",
        "plt.xticks(pos, list(countries), rotation=90)    \r\n",
        "plt.show()\r\n"
      ],
      "execution_count": null,
      "outputs": []
    },
    {
      "cell_type": "markdown",
      "metadata": {
        "id": "gzWJuD1eugzW"
      },
      "source": [
        "Let us plot the circles from US and JP separate for clock wise and counter clock wise circles. We need to run the loop again and save the strokes in different arrays for the two cases and two countries. To make things easier to use, we create two new functions: One to sort the doodles into cw and ccw and one to draw the circles using the turtle."
      ]
    },
    {
      "cell_type": "code",
      "metadata": {
        "id": "jOkhLlAnx8GC"
      },
      "source": [
        "# Let us turn sorting and plotting info functions, so we can reuse them as needed.\r\n",
        "\r\n",
        "# Function sort_doodles \r\n",
        "# Sort the doodles into cw and ccw\r\n",
        "\r\n",
        "def sort_doodles(doodles):\r\n",
        "  cw = []\r\n",
        "  ccw = []\r\n",
        "\r\n",
        "  for doodle in doodles[:30]:\r\n",
        "    w=winding(doodle.strokes[-1])\r\n",
        "    if (w>0):\r\n",
        "      cw.append(doodle.strokes[-1])\r\n",
        "    else:\r\n",
        "      ccw.append(doodle.strokes[-1])\r\n",
        "  return(cw, ccw)\r\n",
        "\r\n",
        "# Function draw_doodles\r\n",
        "# Draw doodles using the turtle. Needs to be called\r\n",
        "# after initializeTurtle.\r\n",
        "\r\n",
        "def draw_doodles(x_start,y_start,col,strokes):\r\n",
        "  for stroke in strokes:\r\n",
        "    color(col)\r\n",
        "    penup()\r\n",
        "    for x,y in stroke:\r\n",
        "      goto(x_start+x,y_start+y)\r\n",
        "      pendown()\r\n",
        "\r\n",
        "\r\n",
        "# Making the master plot using our new functions\r\n",
        "\r\n",
        "initializeTurtle()\r\n",
        "\r\n",
        "doodles=all.search_drawings(countrycode=\"US\")\r\n",
        "(us_cw, us_ccw) = sort_doodles(doodles)\r\n",
        "draw_doodles( 10, 10,'red',us_cw)\r\n",
        "draw_doodles(400, 10,'blue',us_ccw)\r\n",
        "print (\"US: cw:\",len(us_cw),\" ccw:\",len(us_ccw))\r\n",
        "\r\n",
        "doodles=all.search_drawings(countrycode=\"JP\")\r\n",
        "(jp_cw, jp_ccw) = sort_doodles(doodles)\r\n",
        "draw_doodles( 10,300,'red',jp_cw)\r\n",
        "draw_doodles(400,300,'blue',jp_ccw)\r\n",
        "print (\"JP: cw:\",len(jp_cw),\" ccw:\",len(jp_ccw))\r\n",
        "\r\n",
        "show()"
      ],
      "execution_count": null,
      "outputs": []
    },
    {
      "cell_type": "code",
      "metadata": {
        "id": "GOt0pAGozMpi"
      },
      "source": [
        ""
      ],
      "execution_count": null,
      "outputs": []
    }
  ]
}