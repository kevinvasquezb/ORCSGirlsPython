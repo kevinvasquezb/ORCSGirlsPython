{
  "nbformat": 4,
  "nbformat_minor": 0,
  "metadata": {
    "colab": {
      "name": "QuickDrawDemos.ipynb",
      "private_outputs": true,
      "provenance": [],
      "collapsed_sections": [],
      "include_colab_link": true
    },
    "kernelspec": {
      "name": "python3",
      "display_name": "Python 3"
    }
  },
  "cells": [
    {
      "cell_type": "markdown",
      "metadata": {
        "id": "view-in-github",
        "colab_type": "text"
      },
      "source": [
        "<a href=\"https://colab.research.google.com/github/tproffen/ORCSGirlsPython/blob/master/DoodleMining/QuickDrawDemos.ipynb\" target=\"_parent\"><img src=\"https://colab.research.google.com/assets/colab-badge.svg\" alt=\"Open In Colab\"/></a>"
      ]
    },
    {
      "cell_type": "markdown",
      "metadata": {
        "id": "xy07cjGx0KRJ"
      },
      "source": [
        "<img src=\"https://github.com/tproffen/ORCSGirlsPython/blob/master/Images/Logo.png?raw=1\" width=\"10%\" align=\"right\" hpsace=\"50\">\n",
        "\n",
        "# Doodle Data Mining\n",
        "\n",
        "## Demonstration of using the Quickdraw dataset\n",
        "\n",
        "* Quickdraw: https://quickdraw.withgoogle.com/ \n",
        "* Quickdraw dataset: https://quickdraw.withgoogle.com/data\n",
        "* Quickdraw API: https://quickdraw.readthedocs.io/en/latest/index.html\n",
        "\n",
        "* All valid categories are here : https://github.com/googlecreativelab/quickdraw-dataset/blob/master/categories.txt\n",
        "\n",
        "**More reading**\n",
        "\n",
        "* https://opensource.googleblog.com/2018/11/introducing-web-component-and-data-api-for-quick-draw.html"
      ]
    },
    {
      "cell_type": "markdown",
      "metadata": {
        "id": "GCkU9KXJi4MR"
      },
      "source": [
        "## Run these calls first\n",
        "\n",
        "The two cells below need to be executed first. They install the Quickdraw API and load the needed Python modules."
      ]
    },
    {
      "cell_type": "code",
      "metadata": {
        "id": "LkcKJcjhwmHe"
      },
      "source": [
        "!curl -s -o setup.sh https://raw.githubusercontent.com/tproffen/ORCSGirlsPython/master/DoodleMining/Helpers/setup_activity1.sh\r\n",
        "!bash setup.sh\r\n",
        "#!pip3 install quickdraw\r\n",
        "\r\n",
        "from Helpers.helpers import *"
      ],
      "execution_count": null,
      "outputs": []
    },
    {
      "cell_type": "markdown",
      "metadata": {
        "id": "xdgAOguMzgGK"
      },
      "source": [
        "## Simple retrieval of single doodles\n",
        "\n",
        "Simple retrieval of a doogle and showing it as image."
      ]
    },
    {
      "cell_type": "markdown",
      "metadata": {
        "id": "obDn7M9vznQT"
      },
      "source": [
        "Let's step it up and -redraw the image with custom background and color and add information about the drawing."
      ]
    },
    {
      "cell_type": "code",
      "metadata": {
        "id": "rOQ950PLz_ka"
      },
      "source": [
        "what=\"spider\"\n",
        "\n",
        "qd = QuickDrawData()\n",
        "spider=qd.get_drawing(what)"
      ],
      "execution_count": null,
      "outputs": []
    },
    {
      "cell_type": "code",
      "metadata": {
        "id": "tqOPbXp0YGrc"
      },
      "source": [
        "spiderimg = spider.get_image(stroke_color=(255, 0, 0), stroke_width=3, bg_color=(255, 255, 255))\n",
        "\n",
        "plt.figure()\n",
        "plt.imshow(spiderimg)\n",
        "plt.axis(\"off\")\n",
        "plt.show()\n",
        "\n",
        "print (\"Country: \",spider.countrycode)\n",
        "print (\"Date\",datetime.fromtimestamp(spider.timestamp))\n",
        "print (\"Number of strokes: \",len(spider.strokes))"
      ],
      "execution_count": null,
      "outputs": []
    },
    {
      "cell_type": "markdown",
      "metadata": {
        "id": "hKWlyM1W5__-"
      },
      "source": [
        "## Getting groups of doodles\n",
        "\n",
        "Now we get a complete group of drawings. These are cached locally. Here we will display the first 10."
      ]
    },
    {
      "cell_type": "code",
      "metadata": {
        "id": "nCQAHug_-3qp"
      },
      "source": [
        "# Loading doodles of pigs (default is 1000)\n",
        "\n",
        "what=\"pig\"\n",
        "doodles = QuickDrawDataGroup(what)"
      ],
      "execution_count": null,
      "outputs": []
    },
    {
      "cell_type": "code",
      "metadata": {
        "id": "8-VtyufS60Sx"
      },
      "source": [
        "plt.figure(figsize=(20, 15))\n",
        "# Now we can retrieve doodles from the group\n",
        "\n",
        "for i in range(15):\n",
        "  doodle = doodles.get_drawing()\n",
        "  doodleimg = doodle.get_image(stroke_color=(0, 0, 255), stroke_width=3, bg_color=(255, 220, 220))\n",
        "  plt.subplot(3, 5, i+1)\n",
        "  plt.imshow(doodleimg)\n",
        "  plt.title(\"Country: \"+doodle.countrycode)\n",
        "  plt.axis('off')\n",
        "\n",
        "plt.show()\n"
      ],
      "execution_count": null,
      "outputs": []
    },
    {
      "cell_type": "markdown",
      "metadata": {
        "id": "M2kqvq1mG0HI"
      },
      "source": [
        "## Look for doodles by country\n",
        "\n",
        "Since we know the country each doodle came from, we can compare drawing styles :)"
      ]
    },
    {
      "cell_type": "code",
      "metadata": {
        "id": "yhQiaVOf-sQd"
      },
      "source": [
        "what = \"bread\"\n",
        "countries = [\"US\", \"JP\", \"FR\", \"CL\"]\n",
        "cols = 7  \n",
        "\n",
        "all = QuickDrawDataGroup(what, max_drawings=5000, recognized=True)"
      ],
      "execution_count": null,
      "outputs": []
    },
    {
      "cell_type": "code",
      "metadata": {
        "id": "BLby9Ewa_6ix"
      },
      "source": [
        "!python --version"
      ],
      "execution_count": null,
      "outputs": []
    },
    {
      "cell_type": "code",
      "metadata": {
        "id": "BouEnet6YbTK"
      },
      "source": [
        "plt.figure(figsize=(20, 15))\n",
        "\n",
        "index=1\n",
        "for country in countries:\n",
        "  doodles=all.search_drawings(countrycode=country)\n",
        "  random.shuffle(doodles)\n",
        "  print (country,len(doodles))\n",
        "\n",
        "  for col in range(cols):\n",
        "    img = doodles[col].get_image(stroke_color=(255,0,0), stroke_width=3, bg_color=(240,240,240))\n",
        "    plt.subplot(len(countries), cols, index)\n",
        "    plt.imshow(img)\n",
        "    plt.title(country)\n",
        "    plt.axis('off')\n",
        "    index+=1;\n",
        "\n",
        "plt.show()"
      ],
      "execution_count": null,
      "outputs": []
    },
    {
      "cell_type": "markdown",
      "metadata": {
        "id": "13xv7PRm4isd"
      },
      "source": [
        "## Let's try an animation of a doodle"
      ]
    },
    {
      "cell_type": "code",
      "metadata": {
        "id": "gl7oRruA5q4l"
      },
      "source": [
        "# Get a spider\n",
        "\n",
        "what=\"spider\"\n",
        "\n",
        "qd = QuickDrawData()\n",
        "spider=qd.get_drawing(what)"
      ],
      "execution_count": null,
      "outputs": []
    },
    {
      "cell_type": "code",
      "metadata": {
        "id": "k4bpM5kW4mE2"
      },
      "source": [
        "# Using the turtle grapics (from Artistic Math) we redraw the doodle\n",
        "\n",
        "initializeTurtle()\n",
        "bgcolor('purple')\n",
        "color('white')\n",
        "width(5)\n",
        "showturtle()\n",
        "\n",
        "for stroke in spider.strokes:\n",
        "  color(color_random())\n",
        "  penup()\n",
        "  for x,y in stroke:\n",
        "    goto(300+x,200+y)\n",
        "    pendown()\n",
        "\n",
        "show()"
      ],
      "execution_count": null,
      "outputs": []
    },
    {
      "cell_type": "markdown",
      "metadata": {
        "id": "DcTERzvUOb0a"
      },
      "source": [
        "## Let's draw many of the same doodles\n",
        "\n",
        "Using transparency, we can see common features."
      ]
    },
    {
      "cell_type": "code",
      "metadata": {
        "id": "cVdVDp4j7Ot2"
      },
      "source": [
        "# Get a group of doodles\n",
        "\n",
        "what=\"circle\"\n",
        "\n",
        "doodles = QuickDrawDataGroup(what, recognized=True, max_drawings=25)"
      ],
      "execution_count": null,
      "outputs": []
    },
    {
      "cell_type": "code",
      "metadata": {
        "id": "LUPht8TMQxB6"
      },
      "source": [
        "# Using the turtle grapics (from Artistic Math) we redraw the doodle\n",
        "\n",
        "initializeTurtle()\n",
        "bgcolor('white')\n",
        "color('blue')\n",
        "width(5)\n",
        "showturtle()\n",
        "\n",
        "for d in range(doodles.drawing_count):\n",
        "  doodle=doodles.get_drawing(d)\n",
        "  for stroke in doodle.strokes:\n",
        "    color('rgba(0,0,255,0.02)')\n",
        "    penup()\n",
        "    for x,y in stroke:\n",
        "      goto(300+x,200+y)\n",
        "      pendown()\n",
        "\n",
        "show()"
      ],
      "execution_count": null,
      "outputs": []
    },
    {
      "cell_type": "code",
      "metadata": {
        "id": "I-7NSKs1Kt4i"
      },
      "source": [
        ""
      ],
      "execution_count": null,
      "outputs": []
    }
  ]
}