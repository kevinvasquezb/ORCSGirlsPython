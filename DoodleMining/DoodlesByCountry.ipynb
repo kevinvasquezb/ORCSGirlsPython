{
  "nbformat": 4,
  "nbformat_minor": 0,
  "metadata": {
    "colab": {
      "name": "DoodlesByCountry.ipynb",
      "private_outputs": true,
      "provenance": [],
      "collapsed_sections": [],
      "include_colab_link": true
    },
    "kernelspec": {
      "name": "python3",
      "display_name": "Python 3"
    }
  },
  "cells": [
    {
      "cell_type": "markdown",
      "metadata": {
        "id": "view-in-github",
        "colab_type": "text"
      },
      "source": [
        "<a href=\"https://colab.research.google.com/github/tproffen/ORCSGirlsPython/blob/master/DoodleMining/DoodlesByCountry.ipynb\" target=\"_parent\"><img src=\"https://colab.research.google.com/assets/colab-badge.svg\" alt=\"Open In Colab\"/></a>"
      ]
    },
    {
      "cell_type": "markdown",
      "metadata": {
        "id": "xy07cjGx0KRJ"
      },
      "source": [
        "<img src=\"https://github.com/tproffen/ORCSGirlsPython/blob/master/Images/Logo.png?raw=1\" width=\"10%\" align=\"right\" hpsace=\"50\">\n",
        "\n",
        "# Doodle Data Mining\n",
        "\n",
        "## Doodle by Countries\n",
        "\n",
        "If you need more information, check the <a href=\"https://quickdraw.readthedocs.io/en/latest/index.html\" target=\"_blank\">QuickDraw Python API documentation</a>. A list of all categories of drawings can be found <a href=\"https://github.com/googlecreativelab/quickdraw-dataset/blob/master/categories.txt\" target=\"_blank\">here</a>."
      ]
    },
    {
      "cell_type": "markdown",
      "metadata": {
        "id": "GCkU9KXJi4MR"
      },
      "source": [
        "## Run these calls first\n",
        "\n",
        "The two cells below need to be executed first. They install the Quickdraw API and load the needed Python modules."
      ]
    },
    {
      "cell_type": "code",
      "metadata": {
        "id": "LkcKJcjhwmHe"
      },
      "source": [
        "!curl -s -o setup.sh https://raw.githubusercontent.com/tproffen/ORCSGirlsPython/master/DoodleMining/Helpers/setup_activity1.sh\r\n",
        "!bash setup.sh\r\n",
        "\r\n",
        "from Helpers.helpers import *"
      ],
      "execution_count": null,
      "outputs": []
    },
    {
      "cell_type": "markdown",
      "metadata": {
        "id": "xdgAOguMzgGK"
      },
      "source": [
        "## Retrieving drawings\n",
        "### Information about a single doodle\n",
        "\n",
        "First we retrieve a number of drawings of spiders (default is 1000, but we change that later). Then we get the image of one and display it. For a list of all objects it knows, click <a href=\"https://github.com/googlecreativelab/quickdraw-dataset/blob/master/categories.txt\" target=\"_blank\">here</a>."
      ]
    },
    {
      "cell_type": "code",
      "metadata": {
        "id": "rOQ950PLz_ka"
      },
      "source": [
        "what=\"spider\"\n",
        "doodles = QuickDrawDataGroup(what)"
      ],
      "execution_count": null,
      "outputs": []
    },
    {
      "cell_type": "markdown",
      "metadata": {
        "id": "eIzCJn2eV_MW"
      },
      "source": [
        "The command above retrieves many spider doodles. To get a single (random) doodle from the group we use this command."
      ]
    },
    {
      "cell_type": "code",
      "metadata": {
        "id": "5_fOSkY0WNly"
      },
      "source": [
        "doodle = doodles.get_drawing()"
      ],
      "execution_count": null,
      "outputs": []
    },
    {
      "cell_type": "markdown",
      "metadata": {
        "id": "ua5OSk1tYE__"
      },
      "source": [
        "The variable `doodle` now contains the object related to the doodle. If you use `print(doodle)` (try it) you get a reference to the object. If you use the command `dir(doodle)` instead, you see a summary of variabes and methods inside the object. Try it below. "
      ]
    },
    {
      "cell_type": "code",
      "metadata": {
        "id": "LAU59W4nWSm9"
      },
      "source": [
        "## Your code here"
      ],
      "execution_count": null,
      "outputs": []
    },
    {
      "cell_type": "markdown",
      "metadata": {
        "id": "dyrYakbyY9yU"
      },
      "source": [
        "With the information (or reading the API documentation), add code below to print information about the doodle, such as the country where is was draw, data and time and the number of strokes. As a hint, you can format the timestamp information as a proper looking date using `datetime.fromtimestamp(timestamp variable here)`. "
      ]
    },
    {
      "cell_type": "code",
      "metadata": {
        "id": "Cd6lw7kXerIT"
      },
      "source": [
        "## Your code here"
      ],
      "execution_count": null,
      "outputs": []
    },
    {
      "cell_type": "markdown",
      "metadata": {
        "id": "f5OEq3ILyVm4"
      },
      "source": [
        "### Drawing a single doodle\r\n",
        "\r\n",
        "Time to draw. First we retrieve a new group of doodles. Next we add a cell with the code to plot is. We separated this, because we want to retrieve the 1000 spiders only once, but rerunning the cell below allows us to look at different spiders. Also note, the command `drawing.get_image()` has optional parameters. To draw a red spider with thicker lines on yellow, you could change it to `drawing.get_image(stroke_color=(255, 0, 0), stroke_width=3, bg_color=(255, 255, 0))`"
      ]
    },
    {
      "cell_type": "code",
      "metadata": {
        "id": "HzDwAlStfGC_"
      },
      "source": [
        "what=\"firetruck\"\r\n",
        "doodles = QuickDrawDataGroup(what)"
      ],
      "execution_count": null,
      "outputs": []
    },
    {
      "cell_type": "markdown",
      "metadata": {
        "id": "pQy7ddkkfYUk"
      },
      "source": [
        "You can rerun the cell below to plot a different doodle from the group. Print some information about the doodle below the image."
      ]
    },
    {
      "cell_type": "code",
      "metadata": {
        "id": "tqOPbXp0YGrc"
      },
      "source": [
        "doodle = doodles.get_drawing()\n",
        "image = doodle.get_image(stroke_color=(255, 0, 0), stroke_width=3, bg_color=(255, 255, 0))\n",
        "plot_image(image)\n",
        "\n",
        "## Your code here"
      ],
      "execution_count": null,
      "outputs": []
    },
    {
      "cell_type": "markdown",
      "metadata": {
        "id": "M2kqvq1mG0HI"
      },
      "source": [
        "## Retrieving doodles by country\n",
        "\n",
        "Since we know the country each doodle came from, we can compare drawing styles :) We loop over the countries we want to show and use the `search_drawings` method to get drawings for each country. For a list of valid country codes click <a href=\"https://www.iban.com/country-codes\" target=\"_blank\">here</a>. First we rerieve a group of doodle like before. We add two new parameters to get 5,000 drawing and only those the neral network recognized.\n",
        "\n",
        "> Indented block\n",
        "\n"
      ]
    },
    {
      "cell_type": "code",
      "metadata": {
        "id": "yhQiaVOf-sQd"
      },
      "source": [
        "what = \"bread\"\n",
        "doodles = QuickDrawDataGroup(what, max_drawings=5000, recognized=True)"
      ],
      "execution_count": null,
      "outputs": []
    },
    {
      "cell_type": "code",
      "metadata": {
        "id": "BouEnet6YbTK"
      },
      "source": [
        "# List of countries\n",
        "countries = [\"US\", \"FR\"]\n",
        "# How many columns (or doodles for each country)\n",
        "cols = 5  \n",
        "\n",
        "plt.figure(figsize=(20, 15)) # Makes the plot bigger\n",
        "\n",
        "index=1\n",
        "for country in countries:\n",
        "  # This gets drawings for the given country code\n",
        "  doodles_country=doodles.search_drawings(countrycode=country)\n",
        "  # We shuffle the returned list, so we get different drawings when re-running\n",
        "  random.shuffle(doodles_country)\n",
        "\n",
        "  for col in range(cols):\n",
        "    img = doodles_country[col].get_image()\n",
        "    plt.subplot(len(countries), cols, index)\n",
        "    plt.imshow(img)\n",
        "    plt.title(country)\n",
        "    plt.axis('off')\n",
        "    index+=1;\n",
        "\n",
        "plt.show()"
      ],
      "execution_count": null,
      "outputs": []
    },
    {
      "cell_type": "markdown",
      "metadata": {
        "id": "dckM-YaGgtJj"
      },
      "source": [
        "### Your turn\r\n",
        "\r\n",
        "Customize the code above and change countries, the type of image and or the colors of the image (remember from earlier). Share your data mining discoveries."
      ]
    },
    {
      "cell_type": "code",
      "metadata": {
        "id": "GOt0pAGozMpi"
      },
      "source": [
        ""
      ],
      "execution_count": null,
      "outputs": []
    }
  ]
}
