{
  "nbformat": 4,
  "nbformat_minor": 0,
  "metadata": {
    "colab": {
      "name": "ObjectOrientedDemo.ipynb",
      "private_outputs": true,
      "provenance": [],
      "authorship_tag": "ABX9TyObCvGG1bl9iL2isDXQrfXK",
      "include_colab_link": true
    },
    "kernelspec": {
      "name": "python3",
      "display_name": "Python 3"
    },
    "language_info": {
      "name": "python"
    }
  },
  "cells": [
    {
      "cell_type": "markdown",
      "metadata": {
        "id": "view-in-github",
        "colab_type": "text"
      },
      "source": [
        "<a href=\"https://colab.research.google.com/github/tproffen/ORCSGirlsPython/blob/master/AdvancedPython/ObjectOrientedDemo.ipynb\" target=\"_parent\"><img src=\"https://colab.research.google.com/assets/colab-badge.svg\" alt=\"Open In Colab\"/></a>"
      ]
    },
    {
      "cell_type": "markdown",
      "source": [
        "# Some more Python\n",
        "\n",
        "We will cover objects and context managers with these simple examples to get our heads around the AIY code :) Further reading:\n",
        "\n",
        "https://realpython.com/python3-object-oriented-programming/"
      ],
      "metadata": {
        "id": "jbn0SIoS173R"
      }
    },
    {
      "cell_type": "code",
      "execution_count": null,
      "metadata": {
        "id": "S2yhOeCF17EN"
      },
      "outputs": [],
      "source": [
        "class Dog:\n",
        "    location = 'Home'\n",
        "\n",
        "    def birthday(self):\n",
        "      self.age = self.age + 1\n",
        "      print(self.name, ' congratulations, you are now ', self.age)\n",
        "\n",
        "    def __init__(self, name, age):\n",
        "        self.name = name\n",
        "        self.age = age\n",
        "        print (self.name, ' - Init called ..')\n",
        "\n",
        "    def __enter__(self):\n",
        "      print (self.name, ' - Enter called ..')\n",
        "      return self\n",
        "\n",
        "    def __exit__(self, exception_type, exception_value, traceback):\n",
        "      print (self.name, ' - Exit called ..', exception_type)"
      ]
    },
    {
      "cell_type": "code",
      "source": [
        "with Dog(\"Fluffy\", 3) as dog:\n",
        "  print(dog.name)\n",
        "  print(dog.location)\n",
        "  dog.location = 'Walking in park'\n",
        "  print(dog.location)\n",
        "  pass"
      ],
      "metadata": {
        "id": "EnmTGjx42Q2f"
      },
      "execution_count": null,
      "outputs": []
    },
    {
      "cell_type": "code",
      "source": [
        "dog.birthday()"
      ],
      "metadata": {
        "id": "rkE8eJEu4saK"
      },
      "execution_count": null,
      "outputs": []
    },
    {
      "cell_type": "code",
      "source": [
        "dog.age=12\n",
        "print (dog.age)"
      ],
      "metadata": {
        "id": "TqYcg1lL7L2a"
      },
      "execution_count": null,
      "outputs": []
    },
    {
      "cell_type": "code",
      "source": [
        "from contextlib import ExitStack"
      ],
      "metadata": {
        "id": "0n6V6JyA8SBZ"
      },
      "execution_count": null,
      "outputs": []
    },
    {
      "cell_type": "code",
      "source": [
        "with ExitStack() as stack:\n",
        "  fluffy = stack.enter_context(Dog('Fluffy', 1))\n",
        "  doggo  = stack.enter_context(Dog('Doggo', 2))\n",
        "\n",
        "  print(fluffy.name)\n",
        "  print(doggo.name)\n"
      ],
      "metadata": {
        "id": "eSTK_3E_7QYi"
      },
      "execution_count": null,
      "outputs": []
    },
    {
      "cell_type": "code",
      "source": [
        "print (fluffy.location)\n",
        "print (doggo.location)"
      ],
      "metadata": {
        "id": "1o_si-TP8ryM"
      },
      "execution_count": null,
      "outputs": []
    },
    {
      "cell_type": "code",
      "source": [
        "doggo.location='Walking in the park'"
      ],
      "metadata": {
        "id": "AITLp6m09wqT"
      },
      "execution_count": null,
      "outputs": []
    },
    {
      "cell_type": "code",
      "source": [
        ""
      ],
      "metadata": {
        "id": "X9j55u-s97xR"
      },
      "execution_count": null,
      "outputs": []
    }
  ]
}