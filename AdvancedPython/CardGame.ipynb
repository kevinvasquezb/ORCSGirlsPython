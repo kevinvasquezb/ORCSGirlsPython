{
  "nbformat": 4,
  "nbformat_minor": 0,
  "metadata": {
    "colab": {
      "name": "CardGame.ipynb",
      "private_outputs": true,
      "provenance": [],
      "collapsed_sections": [],
      "authorship_tag": "ABX9TyNWw2XjgLG4wJbOhU0qYSXk",
      "include_colab_link": true
    },
    "kernelspec": {
      "name": "python3",
      "display_name": "Python 3"
    },
    "language_info": {
      "name": "python"
    }
  },
  "cells": [
    {
      "cell_type": "markdown",
      "metadata": {
        "id": "view-in-github",
        "colab_type": "text"
      },
      "source": [
        "<a href=\"https://colab.research.google.com/github/tproffen/ORCSGirlsPython/blob/master/AdvancedPython/CardGame.ipynb\" target=\"_parent\"><img src=\"https://colab.research.google.com/assets/colab-badge.svg\" alt=\"Open In Colab\"/></a>"
      ]
    },
    {
      "cell_type": "markdown",
      "source": [
        "<img src=\"https://github.com/tproffen/ORCSGirlsPython/blob/master/Images/Logo.png?raw=1\" width=\"10%\" align=\"right\" hpsace=\"50\">\n",
        "\n",
        "# Object Oriented Programming\n",
        "# Activity: Card Game\n",
        "\n",
        "Let's create the card game. Some of the code is already written. Read the comments carefully and add the missing code where you find\n",
        "\n",
        "`## Add code here`"
      ],
      "metadata": {
        "id": "ilPIp-eHXFfl"
      }
    },
    {
      "cell_type": "code",
      "source": [
        "import random"
      ],
      "metadata": {
        "id": "Y6NVc0ZcKykz"
      },
      "execution_count": null,
      "outputs": []
    },
    {
      "cell_type": "markdown",
      "source": [
        "#### Class Cards\n",
        "\n",
        "This our card class. We pass a suit and rank value (number) and it provides two methods:\n",
        "\n",
        "* `__str__(self)` - Return a string for the card, e.g. A♥\n",
        "* `__lt__(self, other)` - Compare two cards and return true if self > other otherwise return false. This replaces the '<' method, so you can compare card values easily 😀"
      ],
      "metadata": {
        "id": "w7bJDedivX3_"
      }
    },
    {
      "cell_type": "code",
      "execution_count": null,
      "metadata": {
        "id": "P9m6qYfJXEiK"
      },
      "outputs": [],
      "source": [
        "class Card:\n",
        "  # These are class attributes, so we access them with Card.suits[] and Card.ranks[]\n",
        "  # The order matters and determines the suits order -  ♦, ♥, ♠, ♣\n",
        "  suits = ['\\u2666', '\\u2665', '\\u2660', '\\u2663']\n",
        "  ranks = [\"7\", \"8\", \"9\", \"10\", \"J\", \"Q\", \"K\", \"A\"]\n",
        "  \n",
        "  def __init__(self, suit, rank):\n",
        "     # Add your code here, basically set self.suit to the passed argument suit\n",
        "     # and to the same for rank\n",
        "     ## Add your code here\n",
        "\n",
        "  # Overwrites the str function\n",
        "  def __str__(self):\n",
        "    # Return a string with card value\n",
        "    ## Add your code here\n",
        "\n",
        "  # Overwrites the < function\n",
        "  def __lt__(self, other):\n",
        "    # Compare cards 'self' and 'other'. Return true if card self < other, false otherwise\n",
        "    # Hint: You need to compare rank and suit.\n",
        "    ## Add your code here\n"
      ]
    },
    {
      "cell_type": "markdown",
      "source": [
        "#### Class Deck\n",
        "\n",
        "This is the class for the deck (list) of cards. In our case we have 4 suits and 8 ranks."
      ],
      "metadata": {
        "id": "2NygnclVvm8D"
      }
    },
    {
      "cell_type": "code",
      "source": [
        "class Deck:\n",
        "  def __init__(self):\n",
        "    self.deck = []\n",
        "\n",
        "    # Loop over all suits (4) and ranks(8) and populate the\n",
        "    # list self.deck - Hint use two loops\n",
        "    ## Add your code here\n",
        "\n",
        "    self.shuffle()\n",
        "      \n",
        "  def __len__(self):\n",
        "    return len(self.deck)\n",
        "  \n",
        "  def add_card(self, card):\n",
        "    self.deck.append(card)\n",
        "      \n",
        "  def pop_card(self):\n",
        "    return self.deck.pop()\n",
        "\n",
        "  def shuffle(self):\n",
        "    random.shuffle(self.deck)"
      ],
      "metadata": {
        "id": "ctAG1Lf0XOZ1"
      },
      "execution_count": null,
      "outputs": []
    },
    {
      "cell_type": "markdown",
      "source": [
        "#### Class Hand\n",
        "\n",
        "This is the hand of a player. It inherits from Deck."
      ],
      "metadata": {
        "id": "vA52QFNdwFdF"
      }
    },
    {
      "cell_type": "code",
      "source": [
        "class Hand(Deck):\n",
        "  def __init__(self, label):\n",
        "    self.deck = []\n",
        "    self.label = label\n",
        "    self.win_count = 0\n",
        "        \n",
        "  def __str__(self):\n",
        "    return self.label + ': ' + ' '.join([str(card) for card in self.deck])\n",
        "  \n",
        "  def get_label(self):\n",
        "    return self.label\n",
        "  \n",
        "  def get_win_count(self):\n",
        "    return self.win_count\n",
        "  \n",
        "  def round_winner(self):\n",
        "    self.win_count = self.win_count + 1"
      ],
      "metadata": {
        "id": "ib6-afmWXSUm"
      },
      "execution_count": null,
      "outputs": []
    },
    {
      "cell_type": "markdown",
      "source": [
        "### Game\n",
        "\n",
        "Using the classes we defined aboove, we will create a simple game following thse rules.\n",
        "\n",
        "* Create a Deck of cards.\n",
        "* Create 4 players\n",
        "* Divided all cards to 4 players.\n",
        "* Assume you are the first player, print the hand of player one.\n",
        "* The game ends when all cards are played:\n",
        "    - Each player plays top card in hand.\n",
        "    - The player with highest card wins.\n",
        "    - Update the score for the winning hand.\n",
        "    - Print cards played in round and the winner (with winning card).\n",
        "* After all cards are played – print score for all players."
      ],
      "metadata": {
        "id": "XKDcUo-SQPf9"
      }
    },
    {
      "cell_type": "code",
      "source": [
        "deck = Deck()\n",
        "hands = # Add code to create a lost of four instances Hand"
      ],
      "metadata": {
        "id": "XxZfkn-CXYwE"
      },
      "execution_count": null,
      "outputs": []
    },
    {
      "cell_type": "code",
      "source": [
        "# Deal the cards    \n",
        "while len(deck) > 0:\n",
        "  for hand in hands:\n",
        "    hand.append(deck.pop_card())\n",
        "\n",
        "# Print your own hand on the screen\n",
        "## Add your code here\n"
      ],
      "metadata": {
        "id": "v2O9XNs7QF3w"
      },
      "execution_count": null,
      "outputs": []
    },
    {
      "cell_type": "code",
      "source": [
        "# Now play\n",
        "for i in range(len(hands[0])):\n",
        "  input() # Just hit enter to play the next card\n",
        "  played_cards = []\n",
        "  for hand in hands:\n",
        "    played_cards.append(hand.pop_card())\n",
        "  \n",
        "  winner_card = max(played_cards)\n",
        "  winner_hand = hands[played_cards.index(winner_card)]\n",
        "  winner_hand.round_winner()\n",
        "  \n",
        "  print(f\"R{i}: \" + ' '.join([str(card) for card in played_cards]) + f' Winner: {winner_hand.get_label()} {str(winner_card)}')\n",
        "    \n",
        "\n",
        "# Use a loop to display the name and win count for each player\n",
        "## Add your code here"
      ],
      "metadata": {
        "id": "1KLkGtf-QQCP"
      },
      "execution_count": null,
      "outputs": []
    },
    {
      "cell_type": "code",
      "source": [
        ""
      ],
      "metadata": {
        "id": "hckw8oq9Xe_U"
      },
      "execution_count": null,
      "outputs": []
    }
  ]
}