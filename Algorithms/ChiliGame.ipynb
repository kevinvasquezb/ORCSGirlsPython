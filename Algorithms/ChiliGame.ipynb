{
  "nbformat": 4,
  "nbformat_minor": 0,
  "metadata": {
    "colab": {
      "name": "ChiliGame.ipynb",
      "private_outputs": true,
      "provenance": [],
      "authorship_tag": "ABX9TyMjaIJ3hfTpWNVds9NAI9IX",
      "include_colab_link": true
    },
    "kernelspec": {
      "name": "python3",
      "display_name": "Python 3"
    },
    "language_info": {
      "name": "python"
    }
  },
  "cells": [
    {
      "cell_type": "markdown",
      "metadata": {
        "id": "view-in-github",
        "colab_type": "text"
      },
      "source": [
        "<a href=\"https://colab.research.google.com/github/tproffen/ORCSGirlsPython/blob/master/Algorithms/ChiliGame.ipynb\" target=\"_parent\"><img src=\"https://colab.research.google.com/assets/colab-badge.svg\" alt=\"Open In Colab\"/></a>"
      ]
    },
    {
      "cell_type": "markdown",
      "source": [
        "## Secret Code"
      ],
      "metadata": {
        "id": "j9EoLVmvpbgp"
      }
    },
    {
      "cell_type": "code",
      "execution_count": null,
      "metadata": {
        "id": "hihuRPyQktLm"
      },
      "outputs": [],
      "source": [
        "class chiliGame():\n",
        "\n",
        "  candy = 12\n",
        "  candyLeft = candy\n",
        "\n",
        "  def start(self):\n",
        "    self.candyLeft = self.candy    \n",
        "    print(\"There are {candy} candies and one chili.\\nDo not be stuck with the chili :)\"\n",
        "          .format(candy=self.candy))\n",
        "\n",
        "  def mymove(self,number):\n",
        "    if (number<1 or number >4 or self.candyLeft==0):\n",
        "      print (\"Illegal move!\")\n",
        "    else:\n",
        "\n",
        "      # This is the secret algorithm so the plaer always wins :)\n",
        "      myNumber = 4 - number\n",
        "      #---------------------------------------------------------\n",
        "      \n",
        "      self.candyLeft = self.candyLeft - number - myNumber\n",
        "      print (\"You take {you} pieces. I take {my} pieces.\\nThere are {candy} candy and one chili left\"\n",
        "             .format(you=number, my=myNumber, candy=self.candyLeft))\n",
        "\n",
        "      if (self.candyLeft == 0):\n",
        "        print (\"Sorry you loose. Enjoy eating the chili :)\")\n",
        "      else:\n",
        "        print (\"Your turn\")\n",
        "\n",
        "  def __init__(self):\n",
        "    self.start()\n",
        "    pass"
      ]
    },
    {
      "cell_type": "markdown",
      "source": [
        "## Play the game"
      ],
      "metadata": {
        "id": "P0INtJGxpkq8"
      }
    },
    {
      "cell_type": "code",
      "source": [
        "# Run this to start thw game\n",
        "game=chiliGame()"
      ],
      "metadata": {
        "id": "pJrfBN3Vk_s0"
      },
      "execution_count": null,
      "outputs": []
    },
    {
      "cell_type": "code",
      "source": [
        "#The argument (here 2) is the number of candy you are taking. Keep running this cell for each move.\n",
        "game.mymove(2)"
      ],
      "metadata": {
        "id": "u9Ll1vO2lFHJ"
      },
      "execution_count": null,
      "outputs": []
    },
    {
      "cell_type": "code",
      "source": [
        ""
      ],
      "metadata": {
        "id": "hwIpOQuWo9eT"
      },
      "execution_count": null,
      "outputs": []
    }
  ]
}