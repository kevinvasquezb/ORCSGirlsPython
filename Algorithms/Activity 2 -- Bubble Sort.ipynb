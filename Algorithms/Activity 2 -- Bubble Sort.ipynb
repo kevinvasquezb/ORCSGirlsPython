{
  "nbformat": 4,
  "nbformat_minor": 0,
  "metadata": {
    "colab": {
      "name": "AlgorithmsPlay.ipynb",
      "provenance": [],
      "collapsed_sections": [],
      "include_colab_link": true
    },
    "kernelspec": {
      "display_name": "Python 3",
      "language": "python",
      "name": "python3"
    }
  },
  "cells": [
    {
      "cell_type": "markdown",
      "metadata": {
        "id": "view-in-github",
        "colab_type": "text"
      },
      "source": [
        "<a href=\"https://colab.research.google.com/github/tproffen/ORCSGirlsPython/blob/master/Algorithms/Activity%202%20--%20Bubble%20Sort.ipynb\" target=\"_parent\"><img src=\"https://colab.research.google.com/assets/colab-badge.svg\" alt=\"Open In Colab\"/></a>"
      ]
    },
    {
      "cell_type": "markdown",
      "metadata": {
        "id": "OJTK0vIDpw1q"
      },
      "source": [
        "<img src=\"https://github.com/tproffen/ORCSGirlsPython/blob/master/Images/Logo.png?raw=1\" width=\"10%\" align=\"right\" hpsace=\"50\">\n",
        "\n",
        "# Algorithms\n",
        "\n",
        "## Activity 2: Bubble Sort \n",
        "\n",
        "You have seen the video and maybe tried the bubble sort algorithm 'unplugged'. Next step is implementing bubble sort in Python. First run the cells below for some needed setup."
      ]
    },
    {
      "cell_type": "code",
      "metadata": {
        "id": "kBxoXL4tqIDq"
      },
      "source": [
        "!curl -s -o setup.sh https://raw.githubusercontent.com/tproffen/ORCSGirlsPython/master/Algorithms/Helpers/setup_activity2.sh\n",
        "!bash setup.sh"
      ],
      "execution_count": null,
      "outputs": []
    },
    {
      "cell_type": "code",
      "metadata": {
        "id": "GLtyldM6ixcn"
      },
      "source": [
        "%matplotlib inline\n",
        "import numpy as np\n",
        "from Helpers.helpers import *"
      ],
      "execution_count": null,
      "outputs": []
    },
    {
      "cell_type": "markdown",
      "metadata": {
        "id": "qUpg_KvmqIDu"
      },
      "source": [
        "## Data\n",
        "\n",
        "Here we setup our data and store the length of the list in variable ```n```.  Feel free to change the numbers.\n",
        "\n"
      ]
    },
    {
      "cell_type": "code",
      "metadata": {
        "id": "YE2WOppMqIDv"
      },
      "source": [
        "data=[2,5,7,11,2,1,4,8,12,3,7]\n",
        "n=len(data)\n",
        "\n",
        "print (\"Data: \",data)\n",
        "print (\"Length: \",n)"
      ],
      "execution_count": null,
      "outputs": []
    },
    {
      "cell_type": "markdown",
      "metadata": {
        "id": "AZ_9rxCKGUjP"
      },
      "source": [
        "We have a helper function called ```updateGraph(i,data)``` that shows a graph of the data passed as second argument which for use is calles ```data```. This first parameter ```i``` tells the function which elements to color different, so for example in a loop we can see progress.\n",
        "\n",
        "Let's try it below. Change the first argument to numbers between 0 and the length of your data list minus 1. Do you see what you expect?\n"
      ]
    },
    {
      "cell_type": "code",
      "metadata": {
        "id": "cwg8kiakqIDx"
      },
      "source": [
        "updateGraph(1,data)"
      ],
      "execution_count": null,
      "outputs": []
    },
    {
      "cell_type": "markdown",
      "metadata": {
        "id": "7MRofCLHJOyK"
      },
      "source": [
        "## One sorting pass\n",
        "\n",
        "Ok, remember the unplugged activity? Below, add code that loops through the data and at every step, compare the data value with the one next to it (Hint: ```data[i]``` and ```data[i+1]```). Swap the values if they are not in order - in other words if ```data[i]>data[i+1]```. Inside the loop, call  ```updateGraph``` so you can see the progress.\n",
        "\n",
        "Add code below and watch what happens in a sorting pass. What happens when you run the cell (play button or ```shift+enter```) again and again?"
      ]
    },
    {
      "cell_type": "code",
      "metadata": {
        "id": "cSlbnyoQMGUo"
      },
      "source": [
        "# Add your code here"
      ],
      "execution_count": null,
      "outputs": []
    },
    {
      "cell_type": "markdown",
      "metadata": {
        "id": "ISqaZeNJMQ0s"
      },
      "source": [
        "## Repeat sorting pass\n",
        "\n",
        "To be sure sorting finishes, we can simply repeat the sorting you coded above as many times as we have elements. So we set the data back to the original values. After that place the code for the single pass you wrote above (cut &paste) inside a loop over all elements."
      ]
    },
    {
      "cell_type": "code",
      "metadata": {
        "id": "sMj-9_ymqID-"
      },
      "source": [
        "data=[2,5,7,11,2,1,4,8,12,3,7]\n",
        "\n",
        "# Add your code here. Start by copying the single pass code here and then add the outside loop."
      ],
      "execution_count": null,
      "outputs": []
    },
    {
      "cell_type": "markdown",
      "metadata": {
        "id": "3xvmN5uUM2N-"
      },
      "source": [
        "## How many time to repeat?\n",
        "\n",
        "The code above works, you mght have seen it keep running through the list even after the values are sorted? You might remember that wewant to stop __when no elements get swapped in a complete sorting pass__, in other words when to values get swapped in the inside loop of your code above.\n",
        "\n",
        "You can for example use a variable to check if a swap occured in a sorting pass. If not, you stop sorting."
      ]
    },
    {
      "cell_type": "code",
      "metadata": {
        "id": "L-8ZlP9AqIEA"
      },
      "source": [
        "data=[2,5,7,11,2,1,4,8,12,3,7]\n",
        "\n",
        "# Add your code here. Start by copying the sorting code above. \n",
        "# Then add a variable to keep track of if swaps occured in a pass."
      ],
      "execution_count": null,
      "outputs": []
    },
    {
      "cell_type": "code",
      "metadata": {
        "id": "fHnjJndmqIED"
      },
      "source": [
        ""
      ],
      "execution_count": null,
      "outputs": []
    }
  ]
}