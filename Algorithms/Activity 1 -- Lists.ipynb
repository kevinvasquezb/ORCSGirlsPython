{
  "nbformat": 4,
  "nbformat_minor": 0,
  "metadata": {
    "colab": {
      "name": "AlgorithmsPlay.ipynb",
      "provenance": [],
      "collapsed_sections": [],
      "include_colab_link": true
    },
    "kernelspec": {
      "display_name": "Python 3",
      "language": "python",
      "name": "python3"
    }
  },
  "cells": [
    {
      "cell_type": "markdown",
      "metadata": {
        "id": "view-in-github",
        "colab_type": "text"
      },
      "source": [
        "<a href=\"https://colab.research.google.com/github/tproffen/ORCSGirlsPython/blob/master/Algorithms/Activity%201%20--%20Lists.ipynb\" target=\"_parent\"><img src=\"https://colab.research.google.com/assets/colab-badge.svg\" alt=\"Open In Colab\"/></a>"
      ]
    },
    {
      "cell_type": "markdown",
      "metadata": {
        "id": "OJTK0vIDpw1q"
      },
      "source": [
        "<img src=\"https://github.com/tproffen/ORCSGirlsPython/blob/master/Images/Logo.png?raw=1\" width=\"10%\" align=\"right\" hpsace=\"50\">\n",
        "\n",
        "# Algorithms\n",
        "## Activity 1: Lists \n",
        "\n",
        "Welcome to working with Python and Jupyter Notebooks. If you have done the Python class, this is familiar. If not, simply enter Python code in the cells below and either press the play button on the left or press `shift+enter`. \n",
        "\n",
        "Ready? Let's go."
      ]
    },
    {
      "cell_type": "markdown",
      "metadata": {
        "id": "XNt_eKPVqY87"
      },
      "source": [
        "### Variables and lists\n",
        "\n",
        "We use `variables` to stire information, for example a number or a piece of text. The command ```print``` allows us to see what is stored in a variable. See the examples below. Change some of the values.\n",
        "\n"
      ]
    },
    {
      "cell_type": "code",
      "metadata": {
        "id": "6-6L04Y75Q-_"
      },
      "source": [
        "number=4\n",
        "print (number)"
      ],
      "execution_count": null,
      "outputs": []
    },
    {
      "cell_type": "markdown",
      "metadata": {
        "id": "smz-tVmE5inw"
      },
      "source": [
        "Try defining your own and store a number and then use print to check."
      ]
    },
    {
      "cell_type": "code",
      "metadata": {
        "id": "Y3Wksw7u5oqe"
      },
      "source": [
        ""
      ],
      "execution_count": null,
      "outputs": []
    },
    {
      "cell_type": "markdown",
      "metadata": {
        "id": "HNF0Amoz5sKA"
      },
      "source": [
        "Now imagine you want to store a complete list of numbers or a list of your favorite colors. In Python we uses square brackets ```[]``` to define lists."
      ]
    },
    {
      "cell_type": "code",
      "metadata": {
        "id": "4UEsiZx9qY88"
      },
      "source": [
        "data=[2,5,7,4,5,1,11]\n",
        "print (data)"
      ],
      "execution_count": null,
      "outputs": []
    },
    {
      "cell_type": "markdown",
      "metadata": {
        "id": "i_x5HrpO6X16"
      },
      "source": [
        "The code below will print the 1st element of the list ```data```. The strange thing about many programming languages including Python is that the list items are numbered from 0 and not 1."
      ]
    },
    {
      "cell_type": "code",
      "metadata": {
        "id": "y8rj-orVqY9R"
      },
      "source": [
        "print (data[1])"
      ],
      "execution_count": null,
      "outputs": []
    },
    {
      "cell_type": "markdown",
      "metadata": {
        "id": "7FP9t7ve7JSo"
      },
      "source": [
        "Complete the print statement below to print the element containing the number 1."
      ]
    },
    {
      "cell_type": "code",
      "metadata": {
        "id": "nnbMRw1Z7F08"
      },
      "source": [
        "print (data[?])"
      ],
      "execution_count": null,
      "outputs": []
    },
    {
      "cell_type": "markdown",
      "metadata": {
        "id": "g1YArPlT7in4"
      },
      "source": [
        "### Things to do with lists\n",
        "\n",
        "There are many built in functions to work with lists. First we want to determine the length of a list. In other works, how many elements does a list have. How many entries does the list ```bestestcolors``` have?"
      ]
    },
    {
      "cell_type": "code",
      "metadata": {
        "id": "-hzjNd1r7XrO"
      },
      "source": [
        "n=len(data)\n",
        "print(n)"
      ],
      "execution_count": null,
      "outputs": []
    },
    {
      "cell_type": "markdown",
      "metadata": {
        "id": "NZaL6eJm8RHu"
      },
      "source": [
        "### Loops\n",
        "Often we want to run through all the elements of a list. You might remember ```loops``` from last time. Run the code in the cell below."
      ]
    },
    {
      "cell_type": "code",
      "metadata": {
        "id": "t0BHWbK58EsQ"
      },
      "source": [
        "n=len(data)\n",
        "for i in range(n):\n",
        "  print (\"I am at element\",i,\" and the value is\", data[i])"
      ],
      "execution_count": null,
      "outputs": []
    },
    {
      "cell_type": "markdown",
      "metadata": {
        "id": "CRIvuAJx8Vxn"
      },
      "source": [
        "### Checking \n",
        "\n",
        "Imaging you want to loop through all the elements in our list ```data``` like before, but only print the value is it is greater than 10. You can check using the command ```if``` as shown below."
      ]
    },
    {
      "cell_type": "code",
      "metadata": {
        "id": "qDmgae939NZx"
      },
      "source": [
        "for i in range(n):\n",
        "  if(data[i]>10):\n",
        "    print (\"Found number greater than 10 with the value:\",data[i])"
      ],
      "execution_count": null,
      "outputs": []
    },
    {
      "cell_type": "markdown",
      "metadata": {
        "id": "B-Egm2Pj9PwR"
      },
      "source": [
        "## Your turn\n",
        "\n",
        "With all the commands you used above, you know all the Python to write some code to determine the largest number in a list. There are built in fuctions, but here we want to use a loop like in the example above.\n",
        "\n",
        "It is helpful to first think of the steps (or algorithm) needed. "
      ]
    },
    {
      "cell_type": "code",
      "metadata": {
        "id": "YVcLYooF8snh"
      },
      "source": [
        "data = [2,3,5,1,12,21,5,7,9,11,16,0,4]\n",
        "maximum = 0\n",
        "\n",
        "# Loop over all elements of data. \n",
        "#   If the element of data is greater than the value in maximum\n",
        "#     Store the current value in maximum.\n",
        "\n",
        "# Turn the steps above into Python code\n"
      ],
      "execution_count": null,
      "outputs": []
    }
  ]
}