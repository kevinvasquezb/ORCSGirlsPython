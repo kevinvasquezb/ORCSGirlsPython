{
  "nbformat": 4,
  "nbformat_minor": 0,
  "metadata": {
    "colab": {
      "name": "SolutionBubbleSort.ipynb",
      "provenance": [],
      "collapsed_sections": [],
      "include_colab_link": true
    },
    "kernelspec": {
      "display_name": "Python 3",
      "language": "python",
      "name": "python3"
    }
  },
  "cells": [
    {
      "cell_type": "markdown",
      "metadata": {
        "id": "view-in-github",
        "colab_type": "text"
      },
      "source": [
        "<a href=\"https://colab.research.google.com/github/tproffen/ORCSGirlsPython/blob/master/Algorithms/SolutionBubbleSort.ipynb\" target=\"_parent\"><img src=\"https://colab.research.google.com/assets/colab-badge.svg\" alt=\"Open In Colab\"/></a>"
      ]
    },
    {
      "cell_type": "markdown",
      "metadata": {
        "id": "OJTK0vIDpw1q"
      },
      "source": [
        "<img src=\"https://github.com/tproffen/ORCSGirlsPython/blob/master/Images/Logo.png?raw=1\" width=\"10%\" align=\"right\" hpsace=\"50\">\n",
        "\n",
        "# Algorithms\n",
        "## Solution: Bubble Sort \n",
        "\n",
        "Here are the solutions to the Bubble sort activity. Did you get it right? "
      ]
    },
    {
      "cell_type": "code",
      "metadata": {
        "id": "qucAzK2boAbZ"
      },
      "source": [
        "!curl -s -o setup.sh https://raw.githubusercontent.com/tproffen/ORCSGirlsPython/master/Algorithms/Helpers/setup_activity2.sh\n",
        "!bash setup.sh"
      ],
      "execution_count": null,
      "outputs": []
    },
    {
      "cell_type": "code",
      "metadata": {
        "id": "GLtyldM6ixcn"
      },
      "source": [
        "%matplotlib inline\n",
        "from Helpers.helpers import *"
      ],
      "execution_count": null,
      "outputs": []
    },
    {
      "cell_type": "markdown",
      "metadata": {
        "id": "NGcf-tFxoAbe"
      },
      "source": [
        "## Data\n",
        "\n",
        "As in the activity, here we set the data array and store it in ```data``` and store the length of the list in the variable ```n```.\n"
      ]
    },
    {
      "cell_type": "code",
      "metadata": {
        "id": "N5aeZXEuoAbf"
      },
      "source": [
        "data=[2,5,7,11,2,1,4,8,12,3,7]\n",
        "n=len(data)"
      ],
      "execution_count": null,
      "outputs": []
    },
    {
      "cell_type": "markdown",
      "metadata": {
        "id": "uw1Bc7fMLgWH"
      },
      "source": [
        "## Single sorting pass\n",
        "\n",
        "Here we go through the list only once. Run the cell multiple time and watch the graph."
      ]
    },
    {
      "cell_type": "code",
      "metadata": {
        "id": "CgWc8cF5Ll7C"
      },
      "source": [
        "for i in range(n-1):\n",
        "  if data[i]>data[i+1]:\n",
        "    temp = data[i]\n",
        "    data[i] = data[i+1]\n",
        "    data[i+1] = temp\n",
        "  updateGraph(i,data)"
      ],
      "execution_count": null,
      "outputs": []
    },
    {
      "cell_type": "markdown",
      "metadata": {
        "id": "DzLdHWP4oAbh"
      },
      "source": [
        "## \"Dumb\" Bubble sort\n",
        "\n",
        "Here we loop over all list elements no matter what. Check what happens when you run the cell again and sort the sorted data? "
      ]
    },
    {
      "cell_type": "code",
      "metadata": {
        "id": "qPdofYuVLc8u"
      },
      "source": [
        "data=[2,5,7,11,2,1,4,8,12,3,7]\n",
        "n=len(data)"
      ],
      "execution_count": null,
      "outputs": []
    },
    {
      "cell_type": "code",
      "metadata": {
        "id": "v4BlXmzbL1jk",
        "scrolled": false
      },
      "source": [
        "for j in range(n):\n",
        "  for i in range(n-1):\n",
        "    if data[i]>data[i+1]:\n",
        "      temp = data[i]\n",
        "      data[i] = data[i+1]\n",
        "      data[i+1] = temp\n",
        "    updateGraph(i,data)\n"
      ],
      "execution_count": null,
      "outputs": []
    },
    {
      "cell_type": "markdown",
      "metadata": {
        "id": "M8i_cdMUoj4A"
      },
      "source": [
        "## Bubble sort\n",
        "\n",
        "Here we end the loop over all elements once no swap of number occurs - in other words the element are sorted and in the right order. Check what happens when you run the cell again and sort the sorted data? "
      ]
    },
    {
      "cell_type": "code",
      "metadata": {
        "id": "E5-6fozaoAbn"
      },
      "source": [
        "data=[2,5,7,11,2,1,4,8,12,3,7]\n",
        "n=len(data)"
      ],
      "execution_count": null,
      "outputs": []
    },
    {
      "cell_type": "code",
      "metadata": {
        "id": "JgWtRAwdoAbq"
      },
      "source": [
        "swap=True\n",
        "\n",
        "for j in range(n):\n",
        "  if (swap):\n",
        "    swap=False\n",
        "    for i in range(n-1):\n",
        "      if data[i]>data[i+1]:\n",
        "        temp = data[i]\n",
        "        data[i] = data[i+1]\n",
        "        data[i+1] = temp\n",
        "        swap=True\n",
        "      updateGraph(i,data)"
      ],
      "execution_count": null,
      "outputs": []
    },
    {
      "cell_type": "code",
      "metadata": {
        "id": "vetjhl8SoAbt"
      },
      "source": [
        ""
      ],
      "execution_count": null,
      "outputs": []
    }
  ]
}
