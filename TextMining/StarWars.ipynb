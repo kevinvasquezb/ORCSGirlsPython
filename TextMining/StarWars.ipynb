{
  "nbformat": 4,
  "nbformat_minor": 0,
  "metadata": {
    "colab": {
      "name": "StarWars.ipynb",
      "provenance": [],
      "include_colab_link": true
    },
    "kernelspec": {
      "display_name": "Python 3",
      "language": "python",
      "name": "python3"
    },
    "language_info": {
      "codemirror_mode": {
        "name": "ipython",
        "version": 3
      },
      "file_extension": ".py",
      "mimetype": "text/x-python",
      "name": "python",
      "nbconvert_exporter": "python",
      "pygments_lexer": "ipython3",
      "version": "3.6.8"
    }
  },
  "cells": [
    {
      "cell_type": "markdown",
      "metadata": {
        "id": "view-in-github",
        "colab_type": "text"
      },
      "source": [
        "<a href=\"https://colab.research.google.com/github/tproffen/ORCSGirlsPython/blob/master/TextMining/StarWars.ipynb\" target=\"_parent\"><img src=\"https://colab.research.google.com/assets/colab-badge.svg\" alt=\"Open In Colab\"/></a>"
      ]
    },
    {
      "cell_type": "markdown",
      "metadata": {
        "collapsed": true,
        "id": "xWs7zv3wIerB"
      },
      "source": [
        "<img src=\"https://github.com/tproffen/ORCSGirlsPython/blob/master/Images/Logo.png?raw=1\" width=\"10%\" align=\"right\" hpsace=\"50\">\n",
        "\n",
        "# Text Mining\n",
        "## Bonus Activity: Analyzing Star Wars Scripts\n",
        "\n",
        "The data for this activity was downloaded from the [Internet Movie Script Database](https://www.imsdb.com/).\n",
        "\n",
        "This is a bonus activity in which you can use what that you learned in the class to analyze scripts of the Star Wars movies!\n",
        "\n",
        "These are the movies that we prepared for you:\n",
        "\n",
        "1. Star Wars Episode 1: Phantom Menace\n",
        "2. Star Wars Episode 2: Attack of the Clones\n",
        "3. Star Wars Episode 3: Revenge of the Sith\n",
        "4. Star Wars Episode 4: A New Hope\n",
        "5. Star Wars Episode 5: The Empire Strikes Back\n",
        "6. Star Wars Episode 6: Return of the Jedi\n",
        "7. Star Wars Episode 7: Force Awakens\n",
        "\n",
        "<img src=\"https://github.com/tproffen/ORCSGirlsPython/blob/master/TextMining/Images/star-wars-banner-art.jpg?raw=1\" width=\"60%\" align=\"left\">"
      ]
    },
    {
      "cell_type": "markdown",
      "metadata": {
        "id": "MsTfmJ9sIerC"
      },
      "source": [
        "We prepared some functions to help you with loading data and creating figures. Let's import those functions now."
      ]
    },
    {
      "cell_type": "code",
      "metadata": {
        "id": "T6vZTWJBIh4O"
      },
      "source": [
        "!curl -s -o setup.sh https://raw.githubusercontent.com/tproffen/ORCSGirlsPython/master/TextMining/Helpers/setup_activity6.sh\n",
        "!bash setup.sh"
      ],
      "execution_count": null,
      "outputs": []
    },
    {
      "cell_type": "code",
      "metadata": {
        "id": "wN8akvLZIerD"
      },
      "source": [
        "import Helpers\n",
        "from Helpers.load_movies import *\n",
        "from Helpers.plot_data import *\n",
        "from Helpers.clean_data import *\n",
        "from collections import Counter"
      ],
      "execution_count": null,
      "outputs": []
    },
    {
      "cell_type": "markdown",
      "metadata": {
        "id": "1dl6hzqKIerF"
      },
      "source": [
        "### Loading movie scripts\n",
        "\n",
        "The code below loads the script of the first movie into a Python variable. You can replace the number 1 in `load_movie_1` with numbers from 1 to 7 to load any of the 7 movies."
      ]
    },
    {
      "cell_type": "code",
      "metadata": {
        "id": "xwDyPkmrIerG"
      },
      "source": [
        "movie_1 = load_movie_1()"
      ],
      "execution_count": null,
      "outputs": []
    },
    {
      "cell_type": "markdown",
      "metadata": {
        "id": "w-lp5tLJda2d"
      },
      "source": [
        "### Longest movie"
      ]
    },
    {
      "cell_type": "markdown",
      "metadata": {
        "id": "tHTpP92FIerJ"
      },
      "source": [
        "Try to print the first 100 letters of the movie: \n",
        "\n",
        "(The code from Activity 2 may help:)"
      ]
    },
    {
      "cell_type": "code",
      "metadata": {
        "id": "f7N3SQCdIerJ"
      },
      "source": [
        "print(#replace_this_with_your_code#)"
      ],
      "execution_count": null,
      "outputs": []
    },
    {
      "cell_type": "markdown",
      "metadata": {
        "id": "D1A5c9SmIerM"
      },
      "source": [
        "Do you remember how to find the length of the movie in words?"
      ]
    },
    {
      "cell_type": "code",
      "metadata": {
        "id": "0l4dCuc3IerM"
      },
      "source": [
        "words = #split_movie_into_words#\n",
        "\n",
        "movie_length = #count_length_of_movie#\n",
        "\n",
        "print(movie_length)"
      ],
      "execution_count": null,
      "outputs": []
    },
    {
      "cell_type": "markdown",
      "metadata": {
        "id": "LBXpysmyda2o"
      },
      "source": [
        "Do you remember how to find which movie was the longest?\n",
        "\n",
        "You can use the same code as above and a for loop:"
      ]
    },
    {
      "cell_type": "code",
      "metadata": {
        "id": "YTnP8oLqda2p"
      },
      "source": [
        "movies = load_all_movies()\n",
        "\n",
        "for movie in movies:\n",
        "    words = #split_movie_into_words#\n",
        "    movie_length = #count_length_of_movie#\n",
        "    print('Book contains', movie_length, 'words')"
      ],
      "execution_count": null,
      "outputs": []
    },
    {
      "cell_type": "markdown",
      "metadata": {
        "id": "eODmsNH7da2t"
      },
      "source": [
        "Can you count the total number of words in all movies? There are many ways to do that, one of them is to use a loop:"
      ]
    },
    {
      "cell_type": "code",
      "metadata": {
        "id": "S6wZJi_Nda2u"
      },
      "source": [
        ""
      ],
      "execution_count": null,
      "outputs": []
    },
    {
      "cell_type": "markdown",
      "metadata": {
        "id": "kTbJp38gda2y"
      },
      "source": [
        "### Most popular words"
      ]
    },
    {
      "cell_type": "markdown",
      "metadata": {
        "id": "fdxbA7xeda2z"
      },
      "source": [
        "We will try to find out which words are the most popular in each movie.\n",
        "\n",
        "Do you remember how to count how many words appear in a movie? The code from Activity 3 may help:)"
      ]
    },
    {
      "cell_type": "code",
      "metadata": {
        "id": "LuuE3wGwda20"
      },
      "source": [
        "movie = #load_the_movie_you_are_interested_in#\n",
        "\n",
        "words = movie.split()\n",
        "\n",
        "clean_words = #add_here_your_code_for_cleaning_words#\n",
        "\n",
        "no_stopwords = #add_here_your_code_for_removing_stopwords#\n",
        "\n",
        "Counter(no_stopwords).most_common(10)"
      ],
      "execution_count": null,
      "outputs": []
    },
    {
      "cell_type": "markdown",
      "metadata": {
        "id": "PpcBUnDdda25"
      },
      "source": [
        "That's it! You should now see the 10 most common words in the movie of your choice:)\n",
        "\n",
        "We can now try to create a plot like we did earlier:"
      ]
    },
    {
      "cell_type": "code",
      "metadata": {
        "id": "OJzfwIkyda25"
      },
      "source": [
        "top_words = Counter(no_stopwords).most_common(10)\n",
        "\n",
        "plot_words(top_words)"
      ],
      "execution_count": null,
      "outputs": []
    },
    {
      "cell_type": "markdown",
      "metadata": {
        "id": "7T7puDGPda28"
      },
      "source": [
        "### Word pairs"
      ]
    },
    {
      "cell_type": "markdown",
      "metadata": {
        "id": "jJxVeCDhda29"
      },
      "source": [
        "Do you remember how to find the most common word pairs? Again, Activity 3 may have some help!"
      ]
    },
    {
      "cell_type": "code",
      "metadata": {
        "id": "q7LHMN9Vda2-"
      },
      "source": [
        ""
      ],
      "execution_count": null,
      "outputs": []
    },
    {
      "cell_type": "markdown",
      "metadata": {
        "id": "IUOPEY4Qda3B"
      },
      "source": [
        "## Word Clouds\n",
        "\n",
        "You might remember word clouds from Activity 3. All we need to do is read the desired movie with our loading routine. For book one, we use `load_movie_1()` and then create the wordcloud like we did earlier.  \n",
        "\n",
        "After running it, change the code and create word clouds for all the different movie. You can also create a new cell using the menu `Insert` -> `Insert cell below` and copy the code, so you can have a word cloud for all seven movies in this one notebook."
      ]
    },
    {
      "cell_type": "code",
      "metadata": {
        "id": "FXucKD2ada3C"
      },
      "source": [
        "!pip install wordcloud"
      ],
      "execution_count": null,
      "outputs": []
    },
    {
      "cell_type": "code",
      "metadata": {
        "id": "A5mv__Pzda3F"
      },
      "source": [
        "%matplotlib inline\n",
        "from wordcloud import WordCloud, STOPWORDS\n",
        "\n",
        "movie = load_movie_1()\n",
        "wc = WordCloud(width=1000, height=1000, background_color=\"white\", stopwords=STOPWORDS).generate(movie)\n",
        "\n",
        "plt.figure(figsize=(10, 10))\n",
        "plt.axis(\"off\")\n",
        "plt.imshow(wc);"
      ],
      "execution_count": null,
      "outputs": []
    },
    {
      "cell_type": "markdown",
      "metadata": {
        "id": "OBaLKvpWda3I"
      },
      "source": [
        "## Any other questions about Star Wars?\n",
        "\n",
        "Feel free to ask our volunteers for help if you'd like to explore the movie scripts some more!"
      ]
    },
    {
      "cell_type": "code",
      "metadata": {
        "id": "REsoD5rvda3K"
      },
      "source": [
        ""
      ],
      "execution_count": null,
      "outputs": []
    }
  ]
}
