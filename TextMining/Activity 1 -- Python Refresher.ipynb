{
  "nbformat": 4,
  "nbformat_minor": 0,
  "metadata": {
    "colab": {
      "name": "Activity 1 -- Python Refresher.ipynb",
      "provenance": [],
      "include_colab_link": true
    },
    "kernelspec": {
      "display_name": "Python 3",
      "language": "python",
      "name": "python3"
    },
    "language_info": {
      "codemirror_mode": {
        "name": "ipython",
        "version": 3
      },
      "file_extension": ".py",
      "mimetype": "text/x-python",
      "name": "python",
      "nbconvert_exporter": "python",
      "pygments_lexer": "ipython3",
      "version": "3.8.3"
    }
  },
  "cells": [
    {
      "cell_type": "markdown",
      "metadata": {
        "id": "view-in-github",
        "colab_type": "text"
      },
      "source": [
        "<a href=\"https://colab.research.google.com/github/tproffen/ORCSGirlsPython/blob/master/TextMining/Activity%201%20--%20Python%20Refresher.ipynb\" target=\"_parent\"><img src=\"https://colab.research.google.com/assets/colab-badge.svg\" alt=\"Open In Colab\"/></a>"
      ]
    },
    {
      "cell_type": "markdown",
      "metadata": {
        "id": "6qSUkwefvzWA"
      },
      "source": [
        "<img src=\"https://github.com/tproffen/ORCSGirlsPython/blob/master/Images/Logo.png?raw=1\" width=\"10%\" align=\"right\" hpsace=\"50\">\n",
        "\n",
        "# Text Mining\n",
        "\n",
        "## Activity 1 - Python Refresher\n",
        "\n",
        "Before we get to text mining, we will go through all programming you will need for the rest of the class.\n",
        "\n",
        "First, we'll get to know Jupyter Notebooks. Make sure you run the command in the next cell by clicking the run button on the left or pressing ```shift+enter```.  This is neede to copy all neccessary files for the activity."
      ]
    },
    {
      "cell_type": "code",
      "metadata": {
        "id": "61AfB_9Vx5JL"
      },
      "source": [
        "!curl -s -o setup.sh https://raw.githubusercontent.com/tproffen/ORCSGirlsPython/master/TextMining/Helpers/setup_activity1.sh\n",
        "!bash setup.sh"
      ],
      "execution_count": null,
      "outputs": []
    },
    {
      "cell_type": "markdown",
      "metadata": {
        "collapsed": true,
        "id": "rdwDfxLMvzWC"
      },
      "source": [
        "#### Python Notebooks\n",
        "\n",
        "**Note:** If you are running this notebook using <a href=\"https://colab.research.google.com/\">Google Colaboratory</a>, the screen will look somewhat different. You can use the **+ Code** and **+ Text** buttons to add **Markdown** and **Code** cells. Execute a cell by pressing `shift` + `enter` or clocking the play button next to the cell.\n",
        "\n",
        "#### Cells\n",
        "\n",
        "Python notebooks are composed of cells.\n",
        "Cells have a **type**. We will use two types:\n",
        "- **Text**: This allows to add text and explainations to your notebook. \n",
        "- **Code**: This allows you to enter and execute Python code.\n",
        "\n",
        "#### Running code\n",
        "\n",
        "You can run a cell either by pressing `shift` + `enter` or by pressing the little \"play\" button to theleft of the cell.\n",
        "\n",
        "#### Hello World\n",
        "\n",
        "Let us start with writing `Hello, World!` on the screen. \n",
        "\n",
        "Click in the cell below and enter \n",
        "\n",
        "> `print (\"Hello, World!\")` \n",
        "\n",
        "and press `shift+enter` (or the little \"play\" button)."
      ]
    },
    {
      "cell_type": "code",
      "metadata": {
        "id": "tJwHrKWMvzWG",
        "scrolled": true
      },
      "source": [
        "print(\"Hello, World!\")"
      ],
      "execution_count": null,
      "outputs": []
    },
    {
      "cell_type": "markdown",
      "metadata": {
        "id": "73dPHXZMX1KM"
      },
      "source": [
        "Sometimes you will see code in different color:"
      ]
    },
    {
      "cell_type": "code",
      "metadata": {
        "id": "XmmRcIubX1KM"
      },
      "source": [
        "# This is a comment"
      ],
      "execution_count": null,
      "outputs": []
    },
    {
      "cell_type": "markdown",
      "metadata": {
        "id": "ig0QupBMX1KN"
      },
      "source": [
        "As the code says, it's just a comment:) That means the code does nothing, its purpose is just to inform you of something."
      ]
    },
    {
      "cell_type": "markdown",
      "metadata": {
        "id": "CbwZx9wLvzWJ"
      },
      "source": [
        "### Python\n",
        "\n",
        "There are only three things we will need in Python:\n",
        "* **Variables** \n",
        "* **Lists**\n",
        "* **Loops**\n",
        "\n",
        "First, let's look at variables.\n",
        "\n",
        "#### Variables\n",
        "\n",
        "Variables are a way for us to store information thay we may need later on.\n",
        "\n",
        "Say you are trying to remember somebody's name:"
      ]
    },
    {
      "cell_type": "code",
      "metadata": {
        "id": "_diYlHQTvzWa"
      },
      "source": [
        "# Text needs to be written with quotation marks\n",
        "\n",
        "my_name = \"Dasha\"\n",
        "\n",
        "print(\"Hello,\", my_name)"
      ],
      "execution_count": null,
      "outputs": []
    },
    {
      "cell_type": "markdown",
      "metadata": {
        "id": "339PfHpfX1KO"
      },
      "source": [
        "Variables can also contain numbers:"
      ]
    },
    {
      "cell_type": "code",
      "metadata": {
        "id": "pR1NvMUDX1KO"
      },
      "source": [
        "number = 1\n",
        "\n",
        "decimal = 3.45\n",
        "\n",
        "print(number)\n",
        "\n",
        "print(decimal)"
      ],
      "execution_count": null,
      "outputs": []
    },
    {
      "cell_type": "markdown",
      "metadata": {
        "id": "_9VtAfBHvzWd"
      },
      "source": [
        "#### Lists"
      ]
    },
    {
      "cell_type": "markdown",
      "metadata": {
        "id": "0DbPIpNLvzWe"
      },
      "source": [
        "If you want Python to remember several things (like several names) you can use **lists**. Lists are created with squared brackets: `[` and `]`. Let's create a list:"
      ]
    },
    {
      "cell_type": "code",
      "metadata": {
        "id": "n3hCxfj3vzWg"
      },
      "source": [
        "names = [\"Harry\", \"Ron\", \"Hermione\", \"Hagrid\"]\n",
        "\n",
        "print(names)"
      ],
      "execution_count": null,
      "outputs": []
    },
    {
      "cell_type": "markdown",
      "metadata": {
        "id": "0DGEM6mLvzWl"
      },
      "source": [
        "Lists can also contain numbers:"
      ]
    },
    {
      "cell_type": "code",
      "metadata": {
        "id": "HDuuqwrrvzWm"
      },
      "source": [
        "numbers = [10, 11, 12, 13]"
      ],
      "execution_count": null,
      "outputs": []
    },
    {
      "cell_type": "markdown",
      "metadata": {
        "id": "KLOuSqRPvzWo"
      },
      "source": [
        "You can access a member of a list, you can use its sequence number. The first member has number 0, second is number 1, third is number 2 and so on (notice the numbers start from zero). This is what you would do to access the third member:"
      ]
    },
    {
      "cell_type": "code",
      "metadata": {
        "id": "U9u_7bMdvzWp"
      },
      "source": [
        "print(names[2]) # numbering starts from zero, so the third member can be accessed with number 2\n",
        "\n",
        "print(numbers[1])"
      ],
      "execution_count": null,
      "outputs": []
    },
    {
      "cell_type": "markdown",
      "metadata": {
        "id": "UnLhl0S2vzWr"
      },
      "source": [
        "Lists are not static, you can add to them. When you add to a list, the new member is also put at the end:"
      ]
    },
    {
      "cell_type": "code",
      "metadata": {
        "id": "OhUIQFM_vzWs"
      },
      "source": [
        "names.append(\"Dumbledore\")\n",
        "\n",
        "print(names)"
      ],
      "execution_count": null,
      "outputs": []
    },
    {
      "cell_type": "markdown",
      "metadata": {
        "id": "DkHHBd2avzW8"
      },
      "source": [
        "#### Loops\n",
        "\n",
        "Loops are a way to do something with many variables. Remember the list of names we just created?"
      ]
    },
    {
      "cell_type": "code",
      "metadata": {
        "id": "YWaTA8fBvzW9"
      },
      "source": [
        "print(names)"
      ],
      "execution_count": null,
      "outputs": []
    },
    {
      "cell_type": "markdown",
      "metadata": {
        "id": "sMhDYwiQvzXA"
      },
      "source": [
        "If we want to say hello to everyone on this list, we have to write:"
      ]
    },
    {
      "cell_type": "code",
      "metadata": {
        "id": "3VQTBOA8vzXB"
      },
      "source": [
        "print(\"Hello, Harry\")\n",
        "print(\"Hello, Ron\")\n",
        "print(\"Hello, Hermione\")\n",
        "print(\"Hello, Hagrid\")\n",
        "print(\"Hello, Dumbledore\")"
      ],
      "execution_count": null,
      "outputs": []
    },
    {
      "cell_type": "markdown",
      "metadata": {
        "id": "EGHoksj4vzXE"
      },
      "source": [
        "Or we can use a loop to that!"
      ]
    },
    {
      "cell_type": "code",
      "metadata": {
        "id": "nBGRyliFvzXE"
      },
      "source": [
        "for name in names:\n",
        "    print(\"Hello,\", name)"
      ],
      "execution_count": null,
      "outputs": []
    },
    {
      "cell_type": "markdown",
      "metadata": {
        "id": "U19zlYNFvzXG"
      },
      "source": [
        "Isn't that nicer?\n",
        "\n",
        "Notice that you need to use a colon to end the first line and then four spaces on the second line. This is very important."
      ]
    },
    {
      "cell_type": "markdown",
      "metadata": {
        "id": "efTHhdLuvzXH"
      },
      "source": [
        "## That's All Folks! Now you know Python!"
      ]
    },
    {
      "cell_type": "code",
      "metadata": {
        "id": "4GwLMuChYGnu"
      },
      "source": [
        ""
      ],
      "execution_count": null,
      "outputs": []
    }
  ]
}