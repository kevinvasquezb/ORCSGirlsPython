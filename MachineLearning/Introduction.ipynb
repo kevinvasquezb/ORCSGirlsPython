{
  "nbformat": 4,
  "nbformat_minor": 0,
  "metadata": {
    "colab": {
      "name": "Introduction.ipynb",
      "provenance": [],
      "include_colab_link": true
    },
    "kernelspec": {
      "display_name": "Python 3",
      "language": "python",
      "name": "python3"
    }
  },
  "cells": [
    {
      "cell_type": "markdown",
      "metadata": {
        "id": "view-in-github",
        "colab_type": "text"
      },
      "source": [
        "<a href=\"https://colab.research.google.com/github/tproffen/ORCSGirlsPython/blob/master/MachineLearning/Introduction.ipynb\" target=\"_parent\"><img src=\"https://colab.research.google.com/assets/colab-badge.svg\" alt=\"Open In Colab\"/></a>"
      ]
    },
    {
      "cell_type": "markdown",
      "metadata": {
        "id": "r-5mZyjuLNZg"
      },
      "source": [
        "<img src=\"https://github.com/tproffen/ORCSGirlsPython/blob/master/Images/Logo.png?raw=1\" width=\"10%\" align=\"right\" hpsace=\"50\">\n",
        "\n",
        "# Machine Learning\n",
        "\n",
        "## Activity: Introduction\n",
        "\n",
        "Before we get to machine learning, we have a few machine learning games and examples that you can try online without having to program anything. We will also try building machine learning programs ourselves! In this exercise we will go through all programming you will need for the rest of the class."
      ]
    },
    {
      "cell_type": "markdown",
      "metadata": {
        "id": "qgqtOpXBLNZi"
      },
      "source": [
        "### Machine Learning examples\n",
        "\n",
        "Here are some machine learning examples you can try now:\n",
        "\n",
        "* <a href=\"http://scs.ryerson.ca/~aharley/vis/fc/\">Digit Classifier Tool</a>\n",
        "* <a href=\"https://magenta.tensorflow.org/assets/sketch_rnn_demo/index.html\">Drawing Completion Tool</a>\n",
        "* <a href=\"https://teachablemachine.withgoogle.com/\">Teachable Machine</a>\n",
        "* <a href=\"http://playground.tensorflow.org/\">Tensorflow Playground</a>\n",
        "\n",
        "Next, we'll get to know Jupyter Notebooks."
      ]
    },
    {
      "cell_type": "markdown",
      "metadata": {
        "id": "uxvBIQgsLNZj"
      },
      "source": [
        "### Python Notebooks\n",
        "\n",
        "**Note:** If you are running this notebook using <a href=\"https://colab.research.google.com/\">Google Colaboratory</a>, the screen will look somewhat different. You can use the **+ Code** and **+ Text** buttons to add **Markdown** and **Code** cells. Execute a cell by pressing `shift` + `enter` or clocking the play button next to the cell.\n",
        "\n",
        "### Cells\n",
        "\n",
        "Python notebooks are composed of cells.\n",
        "Cells have a **type**. We will use two types:\n",
        "- **Text**: This allows to add text and explainations to your notebook. \n",
        "- **Code**: This allows you to enter and execute Python code.\n",
        "\n",
        "### Running code\n",
        "\n",
        "You can run a cell either by pressing `shift` + `enter` or by pressing the little \"play\" button to theleft of the cell.\n",
        "\n",
        "### Hello World\n",
        "\n",
        "Let us start with writing `Hello, World!` on the screen. \n",
        "\n",
        "Click in the cell beloq and enter \n",
        "\n",
        "> `print (\"Hello, World!\")` \n",
        "\n",
        "and press `shift+enter` (or the little \"play\" button)."
      ]
    },
    {
      "cell_type": "code",
      "metadata": {
        "id": "_vexTkpfwt67"
      },
      "source": [
        ""
      ],
      "execution_count": null,
      "outputs": []
    },
    {
      "cell_type": "markdown",
      "metadata": {
        "id": "8VQzQ85YLNZm"
      },
      "source": [
        "#### Cells and saving\n",
        "\n",
        "Look at the menu above. Click the `save` symbol to save your notebook. \n",
        "\n",
        "If you want to add a cell, you can either use the `+` button as you just did, or click `Insert` and then `Insert cell above` or `insert cell below`. \n",
        "\n",
        "Try it now, **add a new cell above this one** and then type \n",
        "\n",
        "> `import this` \n",
        "\n",
        "into the new cell followed by `shift+enter`. \n",
        "\n",
        "### You have discovered the *Zen of Python*"
      ]
    },
    {
      "cell_type": "markdown",
      "metadata": {
        "id": "mBt1LAwKLNZn"
      },
      "source": [
        "### Python\n",
        "\n",
        "There are only three things we will need in Python:\n",
        "* **Variables** \n",
        "* **Lists**\n",
        "* **Functions**\n",
        "\n",
        "First, let's look at variables.\n",
        "\n",
        "### Variables\n",
        "\n",
        "Variables are a way for us to store information thay we may need later on.\n",
        "\n",
        "Say you are trying to calculate some equation the result of which you want to use later. You could either use:"
      ]
    },
    {
      "cell_type": "code",
      "metadata": {
        "id": "LdmtQgNeLNZo"
      },
      "source": [
        "7 * 25"
      ],
      "execution_count": null,
      "outputs": []
    },
    {
      "cell_type": "code",
      "metadata": {
        "id": "kJ5tkWVPLNZr"
      },
      "source": [
        "175 + 21"
      ],
      "execution_count": null,
      "outputs": []
    },
    {
      "cell_type": "markdown",
      "metadata": {
        "id": "Qp3JlBbULNZu"
      },
      "source": [
        "Or you could write:"
      ]
    },
    {
      "cell_type": "code",
      "metadata": {
        "id": "ZK3P4rMkLNZu"
      },
      "source": [
        "my_number = 7 * 25\n",
        "\n",
        "another_number = my_number + 21\n",
        "\n",
        "print(another_number)"
      ],
      "execution_count": null,
      "outputs": []
    },
    {
      "cell_type": "markdown",
      "metadata": {
        "id": "hSonYQOrLNZx"
      },
      "source": [
        "Variables can also contain text. Text needs to be written in quotation marks like this:"
      ]
    },
    {
      "cell_type": "code",
      "metadata": {
        "id": "9NtWMO1HLNZy"
      },
      "source": [
        "my_name = \"Katie\"\n",
        "\n",
        "print(\"Hello,\", my_name)"
      ],
      "execution_count": null,
      "outputs": []
    },
    {
      "cell_type": "markdown",
      "metadata": {
        "id": "3SdKcaIrLNZ0"
      },
      "source": [
        "#### Lists"
      ]
    },
    {
      "cell_type": "markdown",
      "metadata": {
        "id": "z1hq6LoULNZ1"
      },
      "source": [
        "If you want Python to remember several things (like several names) you can use **lists**. Lists are created with squared brackets: `[` and `]`. Let's create a list:"
      ]
    },
    {
      "cell_type": "code",
      "metadata": {
        "id": "TRUfLQ5ZLNZ2"
      },
      "source": [
        "names = [\"Harry\", \"Ron\", \"Hermione\", \"Hagrid\"]\n",
        "\n",
        "print(names)"
      ],
      "execution_count": null,
      "outputs": []
    },
    {
      "cell_type": "markdown",
      "metadata": {
        "id": "_088o2uULNZ5"
      },
      "source": [
        "Lists can also contain numbers:"
      ]
    },
    {
      "cell_type": "code",
      "metadata": {
        "id": "7ScxAUTDLNZ6"
      },
      "source": [
        "numbers = [10, 11, 12, 13]"
      ],
      "execution_count": null,
      "outputs": []
    },
    {
      "cell_type": "markdown",
      "metadata": {
        "id": "0RTPDf0MLNZ7"
      },
      "source": [
        "You can access a member of a list, you can use its sequence number. The first member has number 0, second is number 1, third is number 2 and so on (notice the numbers start from zero). This is what you would do to access the third member:"
      ]
    },
    {
      "cell_type": "code",
      "metadata": {
        "id": "l6nupqUbLNZ8"
      },
      "source": [
        "print(names[2]) # numbering starts from zero, so the third member can be accessed with number 2\n",
        "\n",
        "print(numbers[1])"
      ],
      "execution_count": null,
      "outputs": []
    },
    {
      "cell_type": "markdown",
      "metadata": {
        "id": "X08gf2BRLNZ_"
      },
      "source": [
        "Lists are not static, you can add to them. When you add to a list, the new member is also put at the end:"
      ]
    },
    {
      "cell_type": "code",
      "metadata": {
        "id": "qbB3vrwSLNaB"
      },
      "source": [
        "names.append(\"Dumbledore\")\n",
        "\n",
        "print(names)"
      ],
      "execution_count": null,
      "outputs": []
    },
    {
      "cell_type": "markdown",
      "metadata": {
        "id": "Kxneu8PpLNaC"
      },
      "source": [
        "Can you add your name to the list?"
      ]
    },
    {
      "cell_type": "code",
      "metadata": {
        "id": "-z32-4WGLNaD"
      },
      "source": [
        ""
      ],
      "execution_count": null,
      "outputs": []
    },
    {
      "cell_type": "markdown",
      "metadata": {
        "id": "ET4zVazhLNaF"
      },
      "source": [
        "### Functions\n",
        "\n",
        "Functions are almost like mini-programs with a name.\n",
        "\n",
        "For example, you can have a simple function that says hello to a specific person."
      ]
    },
    {
      "cell_type": "code",
      "metadata": {
        "id": "2iqNOXDuLNaG"
      },
      "source": [
        "def say_hello(name):\n",
        "    print(\"Hello,\", name)"
      ],
      "execution_count": null,
      "outputs": []
    },
    {
      "cell_type": "markdown",
      "metadata": {
        "id": "mJfKWe53LNaI"
      },
      "source": [
        "To run the function, you need to write its name (`say_hello`) followed by brackets -- inside the brackets is where you would put any information you want to pass to the function. For example:"
      ]
    },
    {
      "cell_type": "code",
      "metadata": {
        "id": "1imDRNx6LNaJ"
      },
      "source": [
        "say_hello(\"Katie\")"
      ],
      "execution_count": null,
      "outputs": []
    },
    {
      "cell_type": "markdown",
      "metadata": {
        "id": "JqrtFwPjLNaM"
      },
      "source": [
        "We will use a few functions in our next exercise."
      ]
    },
    {
      "cell_type": "markdown",
      "metadata": {
        "id": "yCJ7C9rBLNaN"
      },
      "source": [
        "## That's All Folks! Now you know Python!"
      ]
    },
    {
      "cell_type": "code",
      "metadata": {
        "id": "tHOlXvknMyp8"
      },
      "source": [
        ""
      ],
      "execution_count": null,
      "outputs": []
    }
  ]
}
